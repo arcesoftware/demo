{
 "cells": [
  {
   "cell_type": "code",
   "execution_count": 1,
   "id": "09f94d49-6aea-4922-bfae-721513caf33d",
   "metadata": {
    "vscode": {
     "languageId": "r"
    }
   },
   "outputs": [
    {
     "ename": "ERROR",
     "evalue": "Error in parse(text = x, srcfile = src): <text>:1:8: unexpected symbol\n1: import numpy\n           ^\n",
     "output_type": "error",
     "traceback": [
      "Error in parse(text = x, srcfile = src): <text>:1:8: unexpected symbol\n1: import numpy\n           ^\nTraceback:\n"
     ]
    }
   ],
   "source": [
    "import numpy as np\n",
    "\n",
    "# Importing standard Qiskit libraries\n",
    "from qiskit import QuantumCircuit, transpile, Aer, IBMQ\n",
    "from qiskit.tools.jupyter import *\n",
    "from qiskit.visualization import *\n",
    "from ibm_quantum_widgets import *\n",
    "from qiskit.providers.aer import QasmSimulator\n",
    "\n",
    "# Loading your IBM Quantum account(s)\n",
    "provider = IBMQ.load_account()\n",
    "\n"
   ]
  },
  {
   "cell_type": "code",
   "execution_count": null,
   "id": "4ee36438-9ec0-4529-9855-a45c7f0c9e80",
   "metadata": {
    "vscode": {
     "languageId": "r"
    }
   },
   "outputs": [
    {
     "name": "stdout",
     "output_type": "stream",
     "text": [
      "# tokens: 1 ['they.were.created.in.the.day.that.the.lord.god.made.the.earth.and.the.']\n",
      "# tokens: 1 ['and.every.herb.of.the.field.before.it.grew.for.the.lord.god.had.not.']\n",
      "# tokens: 1 ['.and.the.lord.god.formed.man.of.the.dust.of.the.ground.and.']\n",
      "# tokens: 1 ['.and.the.lord.god.planted.a.garden.eastward.in.eden.and.there.he.']\n",
      "# tokens: 1 ['.and.out.of.the.ground.made.the.lord.god.to.grow.every.tree.that.is.']\n",
      "# tokens: 1 ['.and.the.lord.god.took.the.man.and.put.him.into.the.garden.of.']\n",
      "# tokens: 1 ['.and.the.lord.god.commanded.the.man.saying.of.every.tree.of.the.']\n",
      "# tokens: 1 ['.and.the.lord.god.said.it.is.not.good.that.the.man.should.be.']\n",
      "# tokens: 1 ['.and.out.of.the.ground.the.lord.god.formed.every.beast.of.the.']\n",
      "# tokens: 1 ['.and.the.lord.god.caused.a.deep.sleep.to.fall.upon.adam.and.he.']\n",
      "Top 10 most common words: [('lord.', 68), ('the.lord.', 21), ('.and.the.lord.spake.unto.moses.saying.speak.unto.the.', 18), ('of.the.lord.', 10), ('.and.the.word.of.the.lord.came.unto.me.saying.son.of.man.', 9), ('saith.the.lord.', 8), ('house.of.the.lord.', 6), ('before.the.lord.', 5), ('.and.the.lord.spake.unto.moses.saying.speak.unto.aaron.and.', 5), ('.and.he.did.that.which.was.evil.in.the.sight.of.the.lord.he.', 5)]\n"
     ]
    },
    {
     "data": {
      "image/png": "[encoded data removed]",
      "text/plain": [
       "<Figure size 432x288 with 1 Axes>"
      ]
     },
     "metadata": {
      "needs_background": "light"
     },
     "output_type": "display_data"
    }
   ],
   "source": [
    "\n",
    "\n",
    "import re\n",
    "import collections\n",
    "import matplotlib.pyplot as plt\n",
    "import io\n",
    "# Open the file and read the lines into a list\n",
    "with open('bible.txt', 'r') as f: \n",
    "    lines = f.readlines()\n",
    "\n",
    "# Use a list comprehension to filter the lines, apply the regular expression, and lowercase conversion\n",
    "raw_dataset = [re.sub('[^A-Za-z]+', '.', st).lower().split() for st in lines if re.search('LORD', st)]\n",
    "\n",
    "# Print the resulting list of tokenized lines\n",
    "for st in raw_dataset[:10]:\n",
    "    print('# tokens:', len(st), st)\n",
    "\n",
    "# Create a counter from the raw dataset\n",
    "counter = collections.Counter([token for line in raw_dataset for token in line])\n",
    "\n",
    "# Print the 10 most common words\n",
    "N = 10\n",
    "print('Top 10 most common words:', counter.most_common(N))\n",
    "\n",
    "# Get the N most common words from the counter\n",
    "N = 10\n",
    "most_common = counter.most_common(N)\n",
    "\n",
    "# Extract the words and counts from the most common list\n",
    "words, counts = zip(*most_common)\n",
    "\n",
    "# Set the colors for the bars\n",
    "colors = plt.cm.tab20(range(N))\n",
    "\n",
    "# Create the bar chart\n",
    "plt.barh(range(N), counts, color=colors)\n",
    "plt.yticks(range(N), words)\n",
    "plt.xlabel('Number of Occurrences')\n",
    "plt.ylabel('Word')\n",
    "plt.title('Commonly Used')\n",
    "\n",
    "# Add a grid\n",
    "plt.grid(axis='x', linestyle='--')\n",
    "# Get the image array of the plot\n",
    "buf = io.BytesIO()\n",
    "plt.savefig(buf, format='png')\n",
    "buf.seek(0)\n",
    "image_array = plt.imread(buf)\n",
    "\n",
    "# Save the image array to a PDF file\n",
    "#plt.imsave(\"plot12.pdf\", image_array, format=\"pdf\")\n",
    "\n",
    "plt.show()"
   ]
  },
  {
   "cell_type": "code",
   "execution_count": null,
   "id": "006fe41d-7372-42de-8dbf-3e19e19c087d",
   "metadata": {
    "vscode": {
     "languageId": "r"
    }
   },
   "outputs": [],
   "source": []
  },
  {
   "cell_type": "code",
   "execution_count": null,
   "id": "f7e24af5-74ad-4573-a524-5f2a4b60c5e3",
   "metadata": {
    "vscode": {
     "languageId": "r"
    }
   },
   "outputs": [],
   "source": []
  },
  {
   "cell_type": "code",
   "execution_count": null,
   "id": "a33925f7-4de8-4c63-a725-50b5677f02f8",
   "metadata": {
    "vscode": {
     "languageId": "r"
    }
   },
   "outputs": [],
   "source": []
  }
 ],
 "metadata": {
  "kernelspec": {
   "display_name": "Python 3 (ipykernel)",
   "language": "python",
   "name": "python3"
  },
  "language_info": {
   "codemirror_mode": {
    "name": "ipython",
    "version": 3
   },
   "file_extension": ".py",
   "mimetype": "text/x-python",
   "name": "python",
   "nbconvert_exporter": "python",
   "pygments_lexer": "ipython3",
   "version": "3.10.9"
  },
  "widgets": {
   "application/vnd.jupyter.widget-state+json": {
    "state": {},
    "version_major": 2,
    "version_minor": 0
   }
  }
 },
 "nbformat": 4,
 "nbformat_minor": 5
}
