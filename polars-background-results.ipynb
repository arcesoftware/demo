{
 "cells": [
  {
   "cell_type": "code",
   "execution_count": 1,
   "id": "c58c0d91-5916-4ad7-8368-7f8ad168a0f9",
   "metadata": {
    "execution": {
     "iopub.execute_input": "2022-12-06T00:28:18.068966Z",
     "iopub.status.busy": "2022-12-06T00:28:18.068587Z",
     "iopub.status.idle": "2022-12-06T00:28:28.930434Z",
     "shell.execute_reply": "2022-12-06T00:28:28.929445Z"
    },
    "papermill": {
     "duration": 11.008867,
     "end_time": "2022-12-06T00:28:28.933027",
     "exception": false,
     "start_time": "2022-12-06T00:28:17.924160",
     "status": "completed"
    },
    "tags": []
   },
   "outputs": [
    {
     "name": "stderr",
     "output_type": "stream",
     "text": [
      "<frozen importlib._bootstrap>:219: RuntimeWarning: scipy._lib.messagestream.MessageStream size changed, may indicate binary incompatibility. Expected 56 from C header, got 64 from PyObject\n"
     ]
    }
   ],
   "source": [
    "import numpy as np\n",
    "\n",
    "# Importing standard Qiskit libraries\n",
    "from qiskit import QuantumCircuit, transpile, Aer, IBMQ\n",
    "from qiskit.tools.jupyter import *\n",
    "from qiskit.visualization import *\n",
    "from ibm_quantum_widgets import *\n",
    "from qiskit.providers.aer import QasmSimulator\n",
    "\n",
    "# Loading your IBM Quantum account(s)\n",
    "provider = IBMQ.load_account()"
   ]
  },
  {
   "cell_type": "code",
   "execution_count": 2,
   "id": "4d17c240-c27f-4d3c-b903-e5cdb494638d",
   "metadata": {
    "papermill": {
     "duration": 2.957523,
     "end_time": "2022-12-06T00:28:31.980331",
     "exception": false,
     "start_time": "2022-12-06T00:28:29.022808",
     "status": "completed"
    },
    "tags": []
   },
   "outputs": [
    {
     "name": "stdout",
     "output_type": "stream",
     "text": [
      "Collecting polars\n",
      "  Downloading polars-0.17.3-cp37-abi3-manylinux_2_17_x86_64.manylinux2014_x86_64.whl (17.5 MB)\n",
      "\u001b[2K     \u001b[90m━━━━━━━━━━━━━━━━━━━━━━━━━━━━━━━━━━━━━━━━\u001b[0m \u001b[32m17.5/17.5 MB\u001b[0m \u001b[31m8.1 MB/s\u001b[0m eta \u001b[36m0:00:00\u001b[0m:00:01\u001b[0m00:01\u001b[0m\n",
      "\u001b[?25hRequirement already satisfied: typing_extensions>=4.0.1 in /opt/conda/lib/python3.10/site-packages (from polars) (4.5.0)\n",
      "Installing collected packages: polars\n",
      "Successfully installed polars-0.17.3\n"
     ]
    }
   ],
   "source": [
    "!pip install polars"
   ]
  },
  {
   "cell_type": "code",
   "execution_count": 3,
   "id": "76c54492-a6d0-462d-98c3-9f07df16b82e",
   "metadata": {
    "papermill": {
     "duration": 0.154639,
     "end_time": "2022-12-06T00:28:32.236761",
     "exception": false,
     "start_time": "2022-12-06T00:28:32.082122",
     "status": "completed"
    },
    "tags": []
   },
   "outputs": [],
   "source": [
    "import polars as pl"
   ]
  },
  {
   "cell_type": "code",
   "execution_count": 5,
   "id": "ac603a8d-3a1d-4fed-ae8b-5b4a69fe9ee6",
   "metadata": {
    "papermill": {
     "duration": 0.107509,
     "end_time": "2022-12-06T00:28:32.430307",
     "exception": false,
     "start_time": "2022-12-06T00:28:32.322798",
     "status": "completed"
    },
    "tags": []
   },
   "outputs": [
    {
     "data": {
      "text/html": [
       "<div><style>\n",
       ".dataframe > thead > tr > th,\n",
       ".dataframe > tbody > tr > td {\n",
       "  text-align: right;\n",
       "}\n",
       "</style>\n",
       "<small>shape: (10, 3)</small><table border=\"1\" class=\"dataframe\"><thead><tr><th>Company</th><th>Model</th><th>Sales</th></tr><tr><td>str</td><td>str</td><td>i64</td></tr></thead><tbody><tr><td>&quot;Ford&quot;</td><td>&quot;F-Series&quot;</td><td>58283</td></tr><tr><td>&quot;Toyota&quot;</td><td>&quot;RAV4&quot;</td><td>32390</td></tr><tr><td>&quot;Toyota&quot;</td><td>&quot;Camry&quot;</td><td>25500</td></tr><tr><td>&quot;Honda&quot;</td><td>&quot;CR-V&quot;</td><td>18081</td></tr><tr><td>&quot;Toyota&quot;</td><td>&quot;Tacoma&quot;</td><td>21837</td></tr><tr><td>&quot;Ford&quot;</td><td>&quot;Explorer&quot;</td><td>19076</td></tr><tr><td>&quot;Honda&quot;</td><td>&quot;Accord&quot;</td><td>11619</td></tr><tr><td>&quot;Subaru&quot;</td><td>&quot;CrossTrek&quot;</td><td>15126</td></tr><tr><td>&quot;Ford&quot;</td><td>&quot;Escape&quot;</td><td>13272</td></tr><tr><td>&quot;Subaru&quot;</td><td>&quot;Outback&quot;</td><td>10928</td></tr></tbody></table></div>"
      ],
      "text/plain": [
       "shape: (10, 3)\n",
       "┌─────────┬───────────┬───────┐\n",
       "│ Company ┆ Model     ┆ Sales │\n",
       "│ ---     ┆ ---       ┆ ---   │\n",
       "│ str     ┆ str       ┆ i64   │\n",
       "╞═════════╪═══════════╪═══════╡\n",
       "│ Ford    ┆ F-Series  ┆ 58283 │\n",
       "│ Toyota  ┆ RAV4      ┆ 32390 │\n",
       "│ Toyota  ┆ Camry     ┆ 25500 │\n",
       "│ Honda   ┆ CR-V      ┆ 18081 │\n",
       "│ …       ┆ …         ┆ …     │\n",
       "│ Honda   ┆ Accord    ┆ 11619 │\n",
       "│ Subaru  ┆ CrossTrek ┆ 15126 │\n",
       "│ Ford    ┆ Escape    ┆ 13272 │\n",
       "│ Subaru  ┆ Outback   ┆ 10928 │\n",
       "└─────────┴───────────┴───────┘"
      ]
     },
     "execution_count": 5,
     "metadata": {},
     "output_type": "execute_result"
    }
   ],
   "source": [
    "df = pl.DataFrame(\n",
    " {\n",
    " 'Company': ['Ford','Toyota',\n",
    " 'Toyota','Honda','Toyota',\n",
    " 'Ford','Honda','Subaru',\n",
    " 'Ford','Subaru'],\n",
    " 'Model': ['F-Series','RAV4',\n",
    " 'Camry','CR-V','Tacoma',\n",
    " 'Explorer','Accord','CrossTrek',\n",
    "            'Escape','Outback'],\n",
    " 'Sales': [58283,32390,25500,18081,\n",
    " 21837,19076,11619,15126,\n",
    " 13272,10928]\n",
    " }\n",
    ")\n",
    "df"
   ]
  },
  {
   "cell_type": "code",
   "execution_count": 6,
   "id": "2521d57f-f379-48c9-9242-b831ff611d7f",
   "metadata": {
    "papermill": {
     "duration": 0.099528,
     "end_time": "2022-12-06T00:28:32.612103",
     "exception": false,
     "start_time": "2022-12-06T00:28:32.512575",
     "status": "completed"
    },
    "tags": []
   },
   "outputs": [
    {
     "data": {
      "text/plain": [
       "[Utf8, Utf8, Int64]"
      ]
     },
     "execution_count": 6,
     "metadata": {},
     "output_type": "execute_result"
    }
   ],
   "source": [
    "df.dtypes\n"
   ]
  },
  {
   "cell_type": "code",
   "execution_count": 7,
   "id": "11580f44-19cd-4e1e-bd4b-94e792f10d06",
   "metadata": {
    "papermill": {
     "duration": 0.234578,
     "end_time": "2022-12-06T00:28:32.956691",
     "exception": false,
     "start_time": "2022-12-06T00:28:32.722113",
     "status": "completed"
    },
    "tags": []
   },
   "outputs": [
    {
     "data": {
      "text/plain": [
       "['Company', 'Model', 'Sales']"
      ]
     },
     "execution_count": 7,
     "metadata": {},
     "output_type": "execute_result"
    }
   ],
   "source": [
    "df.columns "
   ]
  },
  {
   "cell_type": "code",
   "execution_count": 8,
   "id": "5eb61a2a-903c-4249-a290-ab0146399a09",
   "metadata": {
    "papermill": {
     "duration": 0.210337,
     "end_time": "2022-12-06T00:28:33.322825",
     "exception": false,
     "start_time": "2022-12-06T00:28:33.112488",
     "status": "completed"
    },
    "tags": []
   },
   "outputs": [
    {
     "data": {
      "text/plain": [
       "<bound method DataFrame.rows of shape: (10, 3)\n",
       "┌─────────┬───────────┬───────┐\n",
       "│ Company ┆ Model     ┆ Sales │\n",
       "│ ---     ┆ ---       ┆ ---   │\n",
       "│ str     ┆ str       ┆ i64   │\n",
       "╞═════════╪═══════════╪═══════╡\n",
       "│ Ford    ┆ F-Series  ┆ 58283 │\n",
       "│ Toyota  ┆ RAV4      ┆ 32390 │\n",
       "│ Toyota  ┆ Camry     ┆ 25500 │\n",
       "│ Honda   ┆ CR-V      ┆ 18081 │\n",
       "│ …       ┆ …         ┆ …     │\n",
       "│ Honda   ┆ Accord    ┆ 11619 │\n",
       "│ Subaru  ┆ CrossTrek ┆ 15126 │\n",
       "│ Ford    ┆ Escape    ┆ 13272 │\n",
       "│ Subaru  ┆ Outback   ┆ 10928 │\n",
       "└─────────┴───────────┴───────┘>"
      ]
     },
     "execution_count": 8,
     "metadata": {},
     "output_type": "execute_result"
    }
   ],
   "source": [
    "df.rows "
   ]
  },
  {
   "cell_type": "code",
   "execution_count": 9,
   "id": "698447de-8ee6-4554-8d20-02158e26e7ef",
   "metadata": {
    "papermill": {
     "duration": 0.262847,
     "end_time": "2022-12-06T00:28:33.741108",
     "exception": false,
     "start_time": "2022-12-06T00:28:33.478261",
     "status": "completed"
    },
    "tags": []
   },
   "outputs": [
    {
     "data": {
      "text/html": [
       "<div><style>\n",
       ".dataframe > thead > tr > th,\n",
       ".dataframe > tbody > tr > td {\n",
       "  text-align: right;\n",
       "}\n",
       "</style>\n",
       "<small>shape: (10, 1)</small><table border=\"1\" class=\"dataframe\"><thead><tr><th>Model</th></tr><tr><td>str</td></tr></thead><tbody><tr><td>&quot;F-Series&quot;</td></tr><tr><td>&quot;RAV4&quot;</td></tr><tr><td>&quot;Camry&quot;</td></tr><tr><td>&quot;CR-V&quot;</td></tr><tr><td>&quot;Tacoma&quot;</td></tr><tr><td>&quot;Explorer&quot;</td></tr><tr><td>&quot;Accord&quot;</td></tr><tr><td>&quot;CrossTrek&quot;</td></tr><tr><td>&quot;Escape&quot;</td></tr><tr><td>&quot;Outback&quot;</td></tr></tbody></table></div>"
      ],
      "text/plain": [
       "shape: (10, 1)\n",
       "┌───────────┐\n",
       "│ Model     │\n",
       "│ ---       │\n",
       "│ str       │\n",
       "╞═══════════╡\n",
       "│ F-Series  │\n",
       "│ RAV4      │\n",
       "│ Camry     │\n",
       "│ CR-V      │\n",
       "│ …         │\n",
       "│ Accord    │\n",
       "│ CrossTrek │\n",
       "│ Escape    │\n",
       "│ Outback   │\n",
       "└───────────┘"
      ]
     },
     "execution_count": 9,
     "metadata": {},
     "output_type": "execute_result"
    }
   ],
   "source": [
    "df.select(\n",
    " 'Model'\n",
    ")"
   ]
  },
  {
   "cell_type": "code",
   "execution_count": 11,
   "id": "285566cc-a277-42d6-882e-44112a25b833",
   "metadata": {
    "papermill": {
     "duration": 0.156365,
     "end_time": "2022-12-06T00:28:34.069209",
     "exception": false,
     "start_time": "2022-12-06T00:28:33.912844",
     "status": "completed"
    },
    "tags": []
   },
   "outputs": [
    {
     "data": {
      "text/html": [
       "<div><style>\n",
       ".dataframe > thead > tr > th,\n",
       ".dataframe > tbody > tr > td {\n",
       "  text-align: right;\n",
       "}\n",
       "</style>\n",
       "<small>shape: (10, 2)</small><table border=\"1\" class=\"dataframe\"><thead><tr><th>Model</th><th>Sales</th></tr><tr><td>str</td><td>i64</td></tr></thead><tbody><tr><td>&quot;Outback&quot;</td><td>10928</td></tr><tr><td>&quot;Accord&quot;</td><td>11619</td></tr><tr><td>&quot;Escape&quot;</td><td>13272</td></tr><tr><td>&quot;CrossTrek&quot;</td><td>15126</td></tr><tr><td>&quot;CR-V&quot;</td><td>18081</td></tr><tr><td>&quot;Explorer&quot;</td><td>19076</td></tr><tr><td>&quot;Tacoma&quot;</td><td>21837</td></tr><tr><td>&quot;Camry&quot;</td><td>25500</td></tr><tr><td>&quot;RAV4&quot;</td><td>32390</td></tr><tr><td>&quot;F-Series&quot;</td><td>58283</td></tr></tbody></table></div>"
      ],
      "text/plain": [
       "shape: (10, 2)\n",
       "┌───────────┬───────┐\n",
       "│ Model     ┆ Sales │\n",
       "│ ---       ┆ ---   │\n",
       "│ str       ┆ i64   │\n",
       "╞═══════════╪═══════╡\n",
       "│ Outback   ┆ 10928 │\n",
       "│ Accord    ┆ 11619 │\n",
       "│ Escape    ┆ 13272 │\n",
       "│ CrossTrek ┆ 15126 │\n",
       "│ …         ┆ …     │\n",
       "│ Tacoma    ┆ 21837 │\n",
       "│ Camry     ┆ 25500 │\n",
       "│ RAV4      ┆ 32390 │\n",
       "│ F-Series  ┆ 58283 │\n",
       "└───────────┴───────┘"
      ]
     },
     "execution_count": 11,
     "metadata": {},
     "output_type": "execute_result"
    }
   ],
   "source": [
    "df.select(\n",
    " pl.col(['Model','Sales'])\n",
    " .sort_by('Sales')\n",
    ")"
   ]
  },
  {
   "cell_type": "code",
   "execution_count": 12,
   "id": "721e4965-59c4-43bf-8bef-ac7183894329",
   "metadata": {
    "papermill": {
     "duration": 0.253894,
     "end_time": "2022-12-06T00:28:34.521620",
     "exception": false,
     "start_time": "2022-12-06T00:28:34.267726",
     "status": "completed"
    },
    "tags": []
   },
   "outputs": [
    {
     "data": {
      "text/html": [
       "<div><style>\n",
       ".dataframe > thead > tr > th,\n",
       ".dataframe > tbody > tr > td {\n",
       "  text-align: right;\n",
       "}\n",
       "</style>\n",
       "<small>shape: (10, 2)</small><table border=\"1\" class=\"dataframe\"><thead><tr><th>Sales</th><th>Company</th></tr><tr><td>i64</td><td>str</td></tr></thead><tbody><tr><td>58283</td><td>&quot;Ford&quot;</td></tr><tr><td>32390</td><td>&quot;Toyota&quot;</td></tr><tr><td>25500</td><td>&quot;Toyota&quot;</td></tr><tr><td>18081</td><td>&quot;Honda&quot;</td></tr><tr><td>21837</td><td>&quot;Toyota&quot;</td></tr><tr><td>19076</td><td>&quot;Ford&quot;</td></tr><tr><td>11619</td><td>&quot;Honda&quot;</td></tr><tr><td>15126</td><td>&quot;Subaru&quot;</td></tr><tr><td>13272</td><td>&quot;Ford&quot;</td></tr><tr><td>10928</td><td>&quot;Subaru&quot;</td></tr></tbody></table></div>"
      ],
      "text/plain": [
       "shape: (10, 2)\n",
       "┌───────┬─────────┐\n",
       "│ Sales ┆ Company │\n",
       "│ ---   ┆ ---     │\n",
       "│ i64   ┆ str     │\n",
       "╞═══════╪═════════╡\n",
       "│ 58283 ┆ Ford    │\n",
       "│ 32390 ┆ Toyota  │\n",
       "│ 25500 ┆ Toyota  │\n",
       "│ 18081 ┆ Honda   │\n",
       "│ …     ┆ …       │\n",
       "│ 11619 ┆ Honda   │\n",
       "│ 15126 ┆ Subaru  │\n",
       "│ 13272 ┆ Ford    │\n",
       "│ 10928 ┆ Subaru  │\n",
       "└───────┴─────────┘"
      ]
     },
     "execution_count": 12,
     "metadata": {},
     "output_type": "execute_result"
    }
   ],
   "source": [
    "df.select(\n",
    " [pl.col(pl.Int64), 'Company']\n",
    ")"
   ]
  },
  {
   "cell_type": "code",
   "execution_count": 13,
   "id": "ea27611b-fd0c-4191-bb90-9a0422521461",
   "metadata": {
    "papermill": {
     "duration": 0.23972,
     "end_time": "2022-12-06T00:28:34.929771",
     "exception": false,
     "start_time": "2022-12-06T00:28:34.690051",
     "status": "completed"
    },
    "tags": []
   },
   "outputs": [
    {
     "data": {
      "text/html": [
       "<div><style>\n",
       ".dataframe > thead > tr > th,\n",
       ".dataframe > tbody > tr > td {\n",
       "  text-align: right;\n",
       "}\n",
       "</style>\n",
       "<small>shape: (10, 2)</small><table border=\"1\" class=\"dataframe\"><thead><tr><th>Company</th><th>Model</th></tr><tr><td>str</td><td>str</td></tr></thead><tbody><tr><td>&quot;Ford&quot;</td><td>&quot;F-Series&quot;</td></tr><tr><td>&quot;Toyota&quot;</td><td>&quot;RAV4&quot;</td></tr><tr><td>&quot;Toyota&quot;</td><td>&quot;Camry&quot;</td></tr><tr><td>&quot;Honda&quot;</td><td>&quot;CR-V&quot;</td></tr><tr><td>&quot;Toyota&quot;</td><td>&quot;Tacoma&quot;</td></tr><tr><td>&quot;Ford&quot;</td><td>&quot;Explorer&quot;</td></tr><tr><td>&quot;Honda&quot;</td><td>&quot;Accord&quot;</td></tr><tr><td>&quot;Subaru&quot;</td><td>&quot;CrossTrek&quot;</td></tr><tr><td>&quot;Ford&quot;</td><td>&quot;Escape&quot;</td></tr><tr><td>&quot;Subaru&quot;</td><td>&quot;Outback&quot;</td></tr></tbody></table></div>"
      ],
      "text/plain": [
       "shape: (10, 2)\n",
       "┌─────────┬───────────┐\n",
       "│ Company ┆ Model     │\n",
       "│ ---     ┆ ---       │\n",
       "│ str     ┆ str       │\n",
       "╞═════════╪═══════════╡\n",
       "│ Ford    ┆ F-Series  │\n",
       "│ Toyota  ┆ RAV4      │\n",
       "│ Toyota  ┆ Camry     │\n",
       "│ Honda   ┆ CR-V      │\n",
       "│ …       ┆ …         │\n",
       "│ Honda   ┆ Accord    │\n",
       "│ Subaru  ┆ CrossTrek │\n",
       "│ Ford    ┆ Escape    │\n",
       "│ Subaru  ┆ Outback   │\n",
       "└─────────┴───────────┘"
      ]
     },
     "execution_count": 13,
     "metadata": {},
     "output_type": "execute_result"
    }
   ],
   "source": [
    "df.select(\n",
    " [pl.col(pl.Utf8)]\n",
    ")"
   ]
  },
  {
   "cell_type": "code",
   "execution_count": 14,
   "id": "8d89e326-9697-440b-8953-a6dcf1de80dc",
   "metadata": {
    "papermill": {
     "duration": 0.196343,
     "end_time": "2022-12-06T00:28:35.257514",
     "exception": false,
     "start_time": "2022-12-06T00:28:35.061171",
     "status": "completed"
    },
    "tags": []
   },
   "outputs": [
    {
     "data": {
      "text/plain": [
       "('Ford', 'F-Series', 58283)"
      ]
     },
     "execution_count": 14,
     "metadata": {},
     "output_type": "execute_result"
    }
   ],
   "source": [
    "df.row(0) # get the first row"
   ]
  },
  {
   "cell_type": "code",
   "execution_count": 15,
   "id": "affdd523-1402-4e1a-8360-6b73023458fb",
   "metadata": {
    "papermill": {
     "duration": 0.212497,
     "end_time": "2022-12-06T00:28:35.600520",
     "exception": false,
     "start_time": "2022-12-06T00:28:35.388023",
     "status": "completed"
    },
    "tags": []
   },
   "outputs": [
    {
     "data": {
      "text/html": [
       "<div><style>\n",
       ".dataframe > thead > tr > th,\n",
       ".dataframe > tbody > tr > td {\n",
       "  text-align: right;\n",
       "}\n",
       "</style>\n",
       "<small>shape: (2, 3)</small><table border=\"1\" class=\"dataframe\"><thead><tr><th>Company</th><th>Model</th><th>Sales</th></tr><tr><td>str</td><td>str</td><td>i64</td></tr></thead><tbody><tr><td>&quot;Toyota&quot;</td><td>&quot;RAV4&quot;</td><td>32390</td></tr><tr><td>&quot;Honda&quot;</td><td>&quot;CR-V&quot;</td><td>18081</td></tr></tbody></table></div>"
      ],
      "text/plain": [
       "shape: (2, 3)\n",
       "┌─────────┬───────┬───────┐\n",
       "│ Company ┆ Model ┆ Sales │\n",
       "│ ---     ┆ ---   ┆ ---   │\n",
       "│ str     ┆ str   ┆ i64   │\n",
       "╞═════════╪═══════╪═══════╡\n",
       "│ Toyota  ┆ RAV4  ┆ 32390 │\n",
       "│ Honda   ┆ CR-V  ┆ 18081 │\n",
       "└─────────┴───────┴───────┘"
      ]
     },
     "execution_count": 15,
     "metadata": {},
     "output_type": "execute_result"
    }
   ],
   "source": [
    "df[:2] # first 2 rows\n",
    "df[[1,3]] # second and fourth row"
   ]
  },
  {
   "cell_type": "code",
   "execution_count": 14,
   "id": "522475a5-492b-495d-96f9-79940d0cf6c8",
   "metadata": {
    "execution": {
     "iopub.execute_input": "2022-12-06T00:28:35.920998Z",
     "iopub.status.busy": "2022-12-06T00:28:35.920595Z",
     "iopub.status.idle": "2022-12-06T00:28:35.966327Z",
     "shell.execute_reply": "2022-12-06T00:28:35.955325Z"
    },
    "papermill": {
     "duration": 0.210789,
     "end_time": "2022-12-06T00:28:35.977428",
     "exception": false,
     "start_time": "2022-12-06T00:28:35.766639",
     "status": "completed"
    },
    "tags": []
   },
   "outputs": [
    {
     "data": {
      "text/html": [
       "<div>\n",
       "<style scoped>\n",
       "    .dataframe tbody tr th:only-of-type {\n",
       "        vertical-align: middle;\n",
       "    }\n",
       "\n",
       "    .dataframe tbody tr th {\n",
       "        vertical-align: top;\n",
       "    }\n",
       "\n",
       "    .dataframe thead th {\n",
       "        text-align: right;\n",
       "    }\n",
       "\n",
       "    .dataframe td {\n",
       "        white-space: pre;\n",
       "    }\n",
       "\n",
       "    .dataframe td {\n",
       "        padding-top: 0;\n",
       "    }\n",
       "\n",
       "    .dataframe td {\n",
       "        padding-bottom: 0;\n",
       "    }\n",
       "\n",
       "    .dataframe td {\n",
       "        line-height: 95%;\n",
       "    }\n",
       "</style>\n",
       "<table border=\"1\" class=\"dataframe\">\n",
       "<small>shape: (3, 3)</small>\n",
       "<thead>\n",
       "<tr>\n",
       "<th>\n",
       "Company\n",
       "</th>\n",
       "<th>\n",
       "Model\n",
       "</th>\n",
       "<th>\n",
       "Sales\n",
       "</th>\n",
       "</tr>\n",
       "<tr>\n",
       "<td>\n",
       "str\n",
       "</td>\n",
       "<td>\n",
       "str\n",
       "</td>\n",
       "<td>\n",
       "i64\n",
       "</td>\n",
       "</tr>\n",
       "</thead>\n",
       "<tbody>\n",
       "<tr>\n",
       "<td>\n",
       "&quot;Toyota&quot;\n",
       "</td>\n",
       "<td>\n",
       "&quot;RAV4&quot;\n",
       "</td>\n",
       "<td>\n",
       "32390\n",
       "</td>\n",
       "</tr>\n",
       "<tr>\n",
       "<td>\n",
       "&quot;Toyota&quot;\n",
       "</td>\n",
       "<td>\n",
       "&quot;Camry&quot;\n",
       "</td>\n",
       "<td>\n",
       "25500\n",
       "</td>\n",
       "</tr>\n",
       "<tr>\n",
       "<td>\n",
       "&quot;Toyota&quot;\n",
       "</td>\n",
       "<td>\n",
       "&quot;Tacoma&quot;\n",
       "</td>\n",
       "<td>\n",
       "21837\n",
       "</td>\n",
       "</tr>\n",
       "</tbody>\n",
       "</table>\n",
       "</div>"
      ],
      "text/plain": [
       "shape: (3, 3)\n",
       "┌─────────┬────────┬───────┐\n",
       "│ Company ┆ Model  ┆ Sales │\n",
       "│ ---     ┆ ---    ┆ ---   │\n",
       "│ str     ┆ str    ┆ i64   │\n",
       "╞═════════╪════════╪═══════╡\n",
       "│ Toyota  ┆ RAV4   ┆ 32390 │\n",
       "├╌╌╌╌╌╌╌╌╌┼╌╌╌╌╌╌╌╌┼╌╌╌╌╌╌╌┤\n",
       "│ Toyota  ┆ Camry  ┆ 25500 │\n",
       "├╌╌╌╌╌╌╌╌╌┼╌╌╌╌╌╌╌╌┼╌╌╌╌╌╌╌┤\n",
       "│ Toyota  ┆ Tacoma ┆ 21837 │\n",
       "└─────────┴────────┴───────┘"
      ]
     },
     "execution_count": 14,
     "metadata": {},
     "output_type": "execute_result"
    }
   ],
   "source": [
    "df.filter(\n",
    " pl.col('Company') == 'Toyota'\n",
    ")"
   ]
  },
  {
   "cell_type": "code",
   "execution_count": 16,
   "id": "ab64dc74-557b-49e2-9e3c-79c54bdeb7fa",
   "metadata": {
    "papermill": {
     "duration": 0.224881,
     "end_time": "2022-12-06T00:28:36.421207",
     "exception": false,
     "start_time": "2022-12-06T00:28:36.196326",
     "status": "completed"
    },
    "tags": []
   },
   "outputs": [
    {
     "data": {
      "text/html": [
       "<div><style>\n",
       ".dataframe > thead > tr > th,\n",
       ".dataframe > tbody > tr > td {\n",
       "  text-align: right;\n",
       "}\n",
       "</style>\n",
       "<small>shape: (6, 3)</small><table border=\"1\" class=\"dataframe\"><thead><tr><th>Company</th><th>Model</th><th>Sales</th></tr><tr><td>str</td><td>str</td><td>i64</td></tr></thead><tbody><tr><td>&quot;Ford&quot;</td><td>&quot;F-Series&quot;</td><td>58283</td></tr><tr><td>&quot;Toyota&quot;</td><td>&quot;RAV4&quot;</td><td>32390</td></tr><tr><td>&quot;Toyota&quot;</td><td>&quot;Camry&quot;</td><td>25500</td></tr><tr><td>&quot;Toyota&quot;</td><td>&quot;Tacoma&quot;</td><td>21837</td></tr><tr><td>&quot;Ford&quot;</td><td>&quot;Explorer&quot;</td><td>19076</td></tr><tr><td>&quot;Ford&quot;</td><td>&quot;Escape&quot;</td><td>13272</td></tr></tbody></table></div>"
      ],
      "text/plain": [
       "shape: (6, 3)\n",
       "┌─────────┬──────────┬───────┐\n",
       "│ Company ┆ Model    ┆ Sales │\n",
       "│ ---     ┆ ---      ┆ ---   │\n",
       "│ str     ┆ str      ┆ i64   │\n",
       "╞═════════╪══════════╪═══════╡\n",
       "│ Ford    ┆ F-Series ┆ 58283 │\n",
       "│ Toyota  ┆ RAV4     ┆ 32390 │\n",
       "│ Toyota  ┆ Camry    ┆ 25500 │\n",
       "│ Toyota  ┆ Tacoma   ┆ 21837 │\n",
       "│ Ford    ┆ Explorer ┆ 19076 │\n",
       "│ Ford    ┆ Escape   ┆ 13272 │\n",
       "└─────────┴──────────┴───────┘"
      ]
     },
     "execution_count": 16,
     "metadata": {},
     "output_type": "execute_result"
    }
   ],
   "source": [
    "df.filter(\n",
    " (pl.col('Company') == 'Toyota') |\n",
    " (pl.col('Company') == 'Ford')\n",
    ")"
   ]
  },
  {
   "cell_type": "code",
   "execution_count": 17,
   "id": "41a4be3e-cb2d-48c2-8bb2-236e1b59bd7a",
   "metadata": {
    "papermill": {
     "duration": 0.244637,
     "end_time": "2022-12-06T00:28:36.852333",
     "exception": false,
     "start_time": "2022-12-06T00:28:36.607696",
     "status": "completed"
    },
    "tags": []
   },
   "outputs": [
    {
     "data": {
      "text/html": [
       "<div><style>\n",
       ".dataframe > thead > tr > th,\n",
       ".dataframe > tbody > tr > td {\n",
       "  text-align: right;\n",
       "}\n",
       "</style>\n",
       "<small>shape: (3, 1)</small><table border=\"1\" class=\"dataframe\"><thead><tr><th>Model</th></tr><tr><td>str</td></tr></thead><tbody><tr><td>&quot;F-Series&quot;</td></tr><tr><td>&quot;Explorer&quot;</td></tr><tr><td>&quot;Escape&quot;</td></tr></tbody></table></div>"
      ],
      "text/plain": [
       "shape: (3, 1)\n",
       "┌──────────┐\n",
       "│ Model    │\n",
       "│ ---      │\n",
       "│ str      │\n",
       "╞══════════╡\n",
       "│ F-Series │\n",
       "│ Explorer │\n",
       "│ Escape   │\n",
       "└──────────┘"
      ]
     },
     "execution_count": 17,
     "metadata": {},
     "output_type": "execute_result"
    }
   ],
   "source": [
    "df.filter(\n",
    " pl.col('Company') == 'Ford'\n",
    ").select('Model')\n"
   ]
  },
  {
   "cell_type": "code",
   "execution_count": 17,
   "id": "161bc6d4-dd60-4f69-9cd5-c7df08072215",
   "metadata": {
    "execution": {
     "iopub.execute_input": "2022-12-06T00:28:37.217293Z",
     "iopub.status.busy": "2022-12-06T00:28:37.216952Z",
     "iopub.status.idle": "2022-12-06T00:28:37.240152Z",
     "shell.execute_reply": "2022-12-06T00:28:37.239318Z"
    },
    "papermill": {
     "duration": 0.226435,
     "end_time": "2022-12-06T00:28:37.247507",
     "exception": false,
     "start_time": "2022-12-06T00:28:37.021072",
     "status": "completed"
    },
    "tags": []
   },
   "outputs": [
    {
     "data": {
      "text/html": [
       "<div>\n",
       "<style scoped>\n",
       "    .dataframe tbody tr th:only-of-type {\n",
       "        vertical-align: middle;\n",
       "    }\n",
       "\n",
       "    .dataframe tbody tr th {\n",
       "        vertical-align: top;\n",
       "    }\n",
       "\n",
       "    .dataframe thead th {\n",
       "        text-align: right;\n",
       "    }\n",
       "\n",
       "    .dataframe td {\n",
       "        white-space: pre;\n",
       "    }\n",
       "\n",
       "    .dataframe td {\n",
       "        padding-top: 0;\n",
       "    }\n",
       "\n",
       "    .dataframe td {\n",
       "        padding-bottom: 0;\n",
       "    }\n",
       "\n",
       "    .dataframe td {\n",
       "        line-height: 95%;\n",
       "    }\n",
       "</style>\n",
       "<table border=\"1\" class=\"dataframe\">\n",
       "<small>shape: (3, 2)</small>\n",
       "<thead>\n",
       "<tr>\n",
       "<th>\n",
       "Model\n",
       "</th>\n",
       "<th>\n",
       "Sales\n",
       "</th>\n",
       "</tr>\n",
       "<tr>\n",
       "<td>\n",
       "str\n",
       "</td>\n",
       "<td>\n",
       "i64\n",
       "</td>\n",
       "</tr>\n",
       "</thead>\n",
       "<tbody>\n",
       "<tr>\n",
       "<td>\n",
       "&quot;RAV4&quot;\n",
       "</td>\n",
       "<td>\n",
       "32390\n",
       "</td>\n",
       "</tr>\n",
       "<tr>\n",
       "<td>\n",
       "&quot;Camry&quot;\n",
       "</td>\n",
       "<td>\n",
       "25500\n",
       "</td>\n",
       "</tr>\n",
       "<tr>\n",
       "<td>\n",
       "&quot;Tacoma&quot;\n",
       "</td>\n",
       "<td>\n",
       "21837\n",
       "</td>\n",
       "</tr>\n",
       "</tbody>\n",
       "</table>\n",
       "</div>"
      ],
      "text/plain": [
       "shape: (3, 2)\n",
       "┌────────┬───────┐\n",
       "│ Model  ┆ Sales │\n",
       "│ ---    ┆ ---   │\n",
       "│ str    ┆ i64   │\n",
       "╞════════╪═══════╡\n",
       "│ RAV4   ┆ 32390 │\n",
       "├╌╌╌╌╌╌╌╌┼╌╌╌╌╌╌╌┤\n",
       "│ Camry  ┆ 25500 │\n",
       "├╌╌╌╌╌╌╌╌┼╌╌╌╌╌╌╌┤\n",
       "│ Tacoma ┆ 21837 │\n",
       "└────────┴───────┘"
      ]
     },
     "execution_count": 17,
     "metadata": {},
     "output_type": "execute_result"
    }
   ],
   "source": [
    "df.filter(\n",
    " pl.col('Company') == 'Toyota'\n",
    ").select(['Model','Sales'])"
   ]
  },
  {
   "cell_type": "code",
   "execution_count": 4,
   "id": "cc5e87a4-521c-4fe8-873a-18b43512f6ad",
   "metadata": {
    "papermill": {
     "duration": 32.395059,
     "end_time": "2022-12-06T00:29:09.797810",
     "exception": false,
     "start_time": "2022-12-06T00:28:37.402751",
     "status": "completed"
    },
    "tags": []
   },
   "outputs": [
    {
     "name": "stdout",
     "output_type": "stream",
     "text": [
      "Traceback \u001b[1;36m(most recent call last)\u001b[0m:\n",
      "\u001b[0m  Cell \u001b[0;32mIn[4], line 4\u001b[0m\n",
      "    df = pd.read_csv('flights.csv')\u001b[0m\n",
      "\u001b[0m  File \u001b[0;32m/opt/conda/lib/python3.10/site-packages/pandas/util/_decorators.py:211\u001b[0m in \u001b[0;35mwrapper\u001b[0m\n",
      "    return func(*args, **kwargs)\u001b[0m\n",
      "\u001b[0m  File \u001b[0;32m/opt/conda/lib/python3.10/site-packages/pandas/util/_decorators.py:331\u001b[0m in \u001b[0;35mwrapper\u001b[0m\n",
      "    return func(*args, **kwargs)\u001b[0m\n",
      "\u001b[0m  File \u001b[0;32m/opt/conda/lib/python3.10/site-packages/pandas/io/parsers/readers.py:950\u001b[0m in \u001b[0;35mread_csv\u001b[0m\n",
      "    return _read(filepath_or_buffer, kwds)\u001b[0m\n",
      "\u001b[0m  File \u001b[0;32m/opt/conda/lib/python3.10/site-packages/pandas/io/parsers/readers.py:605\u001b[0m in \u001b[0;35m_read\u001b[0m\n",
      "    parser = TextFileReader(filepath_or_buffer, **kwds)\u001b[0m\n",
      "\u001b[0m  File \u001b[0;32m/opt/conda/lib/python3.10/site-packages/pandas/io/parsers/readers.py:1442\u001b[0m in \u001b[0;35m__init__\u001b[0m\n",
      "    self._engine = self._make_engine(f, self.engine)\u001b[0m\n",
      "\u001b[0m  File \u001b[0;32m/opt/conda/lib/python3.10/site-packages/pandas/io/parsers/readers.py:1735\u001b[0m in \u001b[0;35m_make_engine\u001b[0m\n",
      "    self.handles = get_handle(\u001b[0m\n",
      "\u001b[1;36m  File \u001b[1;32m/opt/conda/lib/python3.10/site-packages/pandas/io/common.py:856\u001b[1;36m in \u001b[1;35mget_handle\u001b[1;36m\n",
      "\u001b[1;33m    handle = open(\u001b[1;36m\n",
      "\u001b[1;31mFileNotFoundError\u001b[0m\u001b[1;31m:\u001b[0m [Errno 2] No such file or directory: 'flights.csv'\n",
      "\n",
      "Use %tb to get the full traceback.\n"
     ]
    },
    {
     "data": {
      "text/html": [
       "\n",
       "<style>\n",
       ".button {\n",
       "  border: none;\n",
       "  color: white;\n",
       "  padding: 4px 8px;\n",
       "  text-align: center;\n",
       "  text-decoration: none;\n",
       "  display: inline-block;\n",
       "  font-size: 12px;\n",
       "  margin: 4px 2px;\n",
       "  transition-duration: 0.2s;\n",
       "  cursor: pointer;\n",
       "}\n",
       ".iqx-button {\n",
       "  background-color: #0f62fe; \n",
       "  color: white; \n",
       "}\n",
       ".iqx-button:hover {\n",
       "  background-color: #0043ce;\n",
       "  color: white;\n",
       "}\n",
       "</style>\n",
       "<a href=\"https://stackoverflow.com/search?q=FileNotFoundError: 2\" target='_blank'><button class='button iqx-button'>Search for solution online</button></a>\n"
      ],
      "text/plain": [
       "<IPython.core.display.HTML object>"
      ]
     },
     "metadata": {},
     "output_type": "display_data"
    }
   ],
   "source": [
    "import pandas as pd\n",
    "import time\n",
    "start = time.time()\n",
    "df = pd.read_csv('flights.csv')\n",
    "df = df[(df['MONTH'] == 12) &\n",
    " (df['ORIGIN_AIRPORT'] == 'SEA') &\n",
    " (df['DESTINATION_AIRPORT'] == 'DFW')]\n",
    "end = time.time()\n",
    "print(end - start)\n",
    "df"
   ]
  },
  {
   "cell_type": "code",
   "execution_count": null,
   "id": "22e95b66-332c-4224-a8f3-8278acca02ca",
   "metadata": {
    "papermill": {
     "duration": null,
     "end_time": null,
     "exception": null,
     "start_time": null,
     "status": "pending"
    },
    "tags": []
   },
   "outputs": [],
   "source": [
    "import polars as pl\n",
    "import time\n",
    "start = time.time()\n",
    "df = pl.read_csv('flights.csv').filter(\n",
    " (pl.col('MONTH') == 12) &\n",
    " (pl.col('ORIGIN_AIRPORT') == 'SEA') &\n",
    " (pl.col('DESTINATION_AIRPORT') ==\n",
    " 'DFW'))\n",
    "end = time.time()"
   ]
  },
  {
   "cell_type": "code",
   "execution_count": null,
   "id": "0b390b8b-84fb-46ae-8d12-25fc59c4f183",
   "metadata": {
    "papermill": {
     "duration": null,
     "end_time": null,
     "exception": null,
     "start_time": null,
     "status": "pending"
    },
    "tags": []
   },
   "outputs": [],
   "source": [
    "print(end - start)\n",
    "display(df)"
   ]
  },
  {
   "cell_type": "code",
   "execution_count": null,
   "id": "0f2113c9-405a-4d54-a56f-c8d2a0050ffb",
   "metadata": {
    "papermill": {
     "duration": null,
     "end_time": null,
     "exception": null,
     "start_time": null,
     "status": "pending"
    },
    "tags": []
   },
   "outputs": [],
   "source": [
    "import polars as pl\n",
    "import time\n",
    "start = time.time()\n",
    "df = pl.scan_csv('flights.csv').filter(\n",
    " (pl.col('MONTH') == 12) &\n",
    " (pl.col('ORIGIN_AIRPORT') == 'SEA') &\n",
    " (pl.col('DESTINATION_AIRPORT') ==\n",
    " 'DFW')).collect()\n",
    "end = time.time()\n",
    "print(end - start)\n",
    "display(df)"
   ]
  },
  {
   "cell_type": "code",
   "execution_count": null,
   "id": "4b34fefb-4e8c-4d7b-9f76-3f5770ffd018",
   "metadata": {
    "papermill": {
     "duration": null,
     "end_time": null,
     "exception": null,
     "start_time": null,
     "status": "pending"
    },
    "tags": []
   },
   "outputs": [],
   "source": [
    "import polars as pl\n",
    "import time\n",
    "start = time.time()\n",
    "df = pl.read_csv('flights.csv').lazy().filter((pl.col('MONTH') == 12) & (pl.col('ORIGIN_AIRPORT') == 'SEA') & (pl.col('DESTINATION_AIRPORT') == 'DFW')).collect()\n",
    "end = time.time()\n",
    "\n",
    "print(end - start)\n",
    "display(df)   "
   ]
  },
  {
   "cell_type": "code",
   "execution_count": null,
   "id": "f2fa5391-9457-463f-af9c-20d5477baa37",
   "metadata": {
    "papermill": {
     "duration": null,
     "end_time": null,
     "exception": null,
     "start_time": null,
     "status": "pending"
    },
    "tags": []
   },
   "outputs": [],
   "source": [
    "pl.scan_csv('train.csv')"
   ]
  },
  {
   "cell_type": "code",
   "execution_count": null,
   "id": "4cc5839b-c75a-4bce-ac3b-bf902752c5a4",
   "metadata": {
    "papermill": {
     "duration": null,
     "end_time": null,
     "exception": null,
     "start_time": null,
     "status": "pending"
    },
    "tags": []
   },
   "outputs": [],
   "source": [
    "!pip install pydot\n",
    "!pip install graphviz"
   ]
  },
  {
   "cell_type": "code",
   "execution_count": 18,
   "id": "82c2bde0-ce3a-45ec-b21c-dd49c1bb3f9d",
   "metadata": {
    "papermill": {
     "duration": null,
     "end_time": null,
     "exception": null,
     "start_time": null,
     "status": "pending"
    },
    "tags": []
   },
   "outputs": [
    {
     "data": {
      "text/html": [
       "<div><style>\n",
       ".dataframe > thead > tr > th,\n",
       ".dataframe > tbody > tr > td {\n",
       "  text-align: right;\n",
       "}\n",
       "</style>\n",
       "<small>shape: (962, 4)</small><table border=\"1\" class=\"dataframe\"><thead><tr><th>WorkspaceId</th><th>UserName</th><th>ComputerName</th><th>State</th></tr><tr><td>str</td><td>str</td><td>str</td><td>str</td></tr></thead><tbody><tr><td>&quot;ws-44tfj2hd9&quot;</td><td>&quot;ajay3534&quot;</td><td>&quot;WSAMZN-F4GCF6J…</td><td>&quot;STOPPED&quot;</td></tr><tr><td>&quot;ws-v2lgcn4yg&quot;</td><td>&quot;aqur6459&quot;</td><td>&quot;WSAMZN-5CFO6BV…</td><td>&quot;STOPPED&quot;</td></tr><tr><td>&quot;ws-56qjgdnvc&quot;</td><td>&quot;echa7159&quot;</td><td>&quot;WSAMZN-4L3NJVV…</td><td>&quot;STOPPED&quot;</td></tr><tr><td>&quot;ws-89yrb3156&quot;</td><td>&quot;asri2881&quot;</td><td>&quot;WSAMZN-LD9F70B…</td><td>&quot;STOPPED&quot;</td></tr><tr><td>&quot;ws-1fp9xj1kq&quot;</td><td>&quot;epla0628&quot;</td><td>&quot;WSAMZN-OSTJA82…</td><td>&quot;STOPPED&quot;</td></tr><tr><td>&quot;ws-1qzwnswr3&quot;</td><td>&quot;ypar5200&quot;</td><td>&quot;WSAMZN-3ULFUTL…</td><td>&quot;STOPPED&quot;</td></tr><tr><td>&quot;ws-kglsmhr79&quot;</td><td>&quot;krat1077&quot;</td><td>&quot;WSAMZN-1KUGBA4…</td><td>&quot;STOPPED&quot;</td></tr><tr><td>&quot;ws-w5l0nkn8t&quot;</td><td>&quot;tseb0821&quot;</td><td>&quot;WSAMZN-9KTKLV2…</td><td>&quot;STOPPED&quot;</td></tr><tr><td>&quot;ws-3zrs19dz1&quot;</td><td>&quot;hluu1836&quot;</td><td>&quot;WSAMZN-QVKOUGO…</td><td>&quot;STOPPED&quot;</td></tr><tr><td>&quot;ws-hd9br4nr6&quot;</td><td>&quot;acha3695&quot;</td><td>&quot;WSAMZN-1BVFPHO…</td><td>&quot;STOPPED&quot;</td></tr><tr><td>&quot;ws-gxb1tczmx&quot;</td><td>&quot;agad0398&quot;</td><td>&quot;WSAMZN-PGH7A2B…</td><td>&quot;STOPPED&quot;</td></tr><tr><td>&quot;ws-0nwwtdsnx&quot;</td><td>&quot;qche3696&quot;</td><td>&quot;WSAMZN-MNPABL1…</td><td>&quot;STOPPED&quot;</td></tr><tr><td>&hellip;</td><td>&hellip;</td><td>&hellip;</td><td>&hellip;</td></tr><tr><td>&quot;ws-wt8dlbw92&quot;</td><td>&quot;rkar0738&quot;</td><td>&quot;EC2AMAZ-PDJ8CU…</td><td>&quot;STOPPED&quot;</td></tr><tr><td>&quot;ws-9fgtfbrbd&quot;</td><td>&quot;shye5934&quot;</td><td>&quot;WSAMZN-EJ69NE6…</td><td>&quot;STOPPED&quot;</td></tr><tr><td>&quot;ws-gtzdp3zpc&quot;</td><td>&quot;abag3545&quot;</td><td>&quot;WSAMZN-Q1GFGBS…</td><td>&quot;STOPPED&quot;</td></tr><tr><td>&quot;ws-b33s4s4sx&quot;</td><td>&quot;smog4023&quot;</td><td>&quot;WSAMZN-VL4FKTT…</td><td>&quot;STOPPED&quot;</td></tr><tr><td>&quot;ws-dw0wz44zk&quot;</td><td>&quot;rthi5778&quot;</td><td>&quot;WSAMZN-GBVFQHV…</td><td>&quot;STOPPED&quot;</td></tr><tr><td>&quot;ws-1xcw9r2jz&quot;</td><td>&quot;dmah9268&quot;</td><td>&quot;WSAMZN-FIMURUN…</td><td>&quot;STOPPED&quot;</td></tr><tr><td>&quot;ws-4mk7hk356&quot;</td><td>&quot;pchi4006&quot;</td><td>&quot;WSAMZN-F403O23…</td><td>&quot;STOPPED&quot;</td></tr><tr><td>&quot;ws-ckbd840zt&quot;</td><td>&quot;rvas2907&quot;</td><td>&quot;WSAMZN-HOHO56I…</td><td>&quot;STOPPED&quot;</td></tr><tr><td>&quot;ws-jz9y56q8y&quot;</td><td>&quot;ggag4075&quot;</td><td>&quot;WSAMZN-985ROA9…</td><td>&quot;STOPPED&quot;</td></tr><tr><td>&quot;ws-dn8qj2hp8&quot;</td><td>&quot;nram0159&quot;</td><td>&quot;WSAMZN-2LF71N1…</td><td>&quot;STOPPED&quot;</td></tr><tr><td>&quot;ws-crghq3l52&quot;</td><td>&quot;ranw7343&quot;</td><td>&quot;WSAMZN-CHP03K7…</td><td>&quot;STOPPED&quot;</td></tr><tr><td>&quot;ws-919kwnm37&quot;</td><td>&quot;kkas0350&quot;</td><td>&quot;WSAMZN-G5AURRR…</td><td>&quot;STOPPED&quot;</td></tr></tbody></table></div>"
      ],
      "text/plain": [
       "shape: (962, 4)\n",
       "┌──────────────┬──────────┬─────────────────┬─────────┐\n",
       "│ WorkspaceId  ┆ UserName ┆ ComputerName    ┆ State   │\n",
       "│ ---          ┆ ---      ┆ ---             ┆ ---     │\n",
       "│ str          ┆ str      ┆ str             ┆ str     │\n",
       "╞══════════════╪══════════╪═════════════════╪═════════╡\n",
       "│ ws-44tfj2hd9 ┆ ajay3534 ┆ WSAMZN-F4GCF6JK ┆ STOPPED │\n",
       "│ ws-v2lgcn4yg ┆ aqur6459 ┆ WSAMZN-5CFO6BVD ┆ STOPPED │\n",
       "│ ws-56qjgdnvc ┆ echa7159 ┆ WSAMZN-4L3NJVV9 ┆ STOPPED │\n",
       "│ ws-89yrb3156 ┆ asri2881 ┆ WSAMZN-LD9F70BV ┆ STOPPED │\n",
       "│ …            ┆ …        ┆ …               ┆ …       │\n",
       "│ ws-jz9y56q8y ┆ ggag4075 ┆ WSAMZN-985ROA9O ┆ STOPPED │\n",
       "│ ws-dn8qj2hp8 ┆ nram0159 ┆ WSAMZN-2LF71N10 ┆ STOPPED │\n",
       "│ ws-crghq3l52 ┆ ranw7343 ┆ WSAMZN-CHP03K7H ┆ STOPPED │\n",
       "│ ws-919kwnm37 ┆ kkas0350 ┆ WSAMZN-G5AURRRT ┆ STOPPED │\n",
       "└──────────────┴──────────┴─────────────────┴─────────┘"
      ]
     },
     "execution_count": 18,
     "metadata": {},
     "output_type": "execute_result"
    }
   ],
   "source": [
    "pl.scan_csv('stopped_workspaces1.csv').collect()"
   ]
  },
  {
   "cell_type": "code",
   "execution_count": 70,
   "id": "c492ec10-d78c-4cc2-9c4b-eb6a39f7b652",
   "metadata": {
    "papermill": {
     "duration": null,
     "end_time": null,
     "exception": null,
     "start_time": null,
     "status": "pending"
    },
    "tags": []
   },
   "outputs": [
    {
     "name": "stdout",
     "output_type": "stream",
     "text": [
      "Traceback \u001b[1;36m(most recent call last)\u001b[0m:\n",
      "\u001b[1;36m  File \u001b[1;32m/opt/conda/lib/python3.10/site-packages/IPython/core/compilerop.py:86\u001b[1;36m in \u001b[1;35mast_parse\u001b[1;36m\n",
      "\u001b[1;33m    return compile(source, filename, symbol, self.flags | PyCF_ONLY_AST, 1)\u001b[1;36m\n",
      "\u001b[1;36m  Cell \u001b[1;32mIn[70], line 2\u001b[1;36m\u001b[0m\n",
      "\u001b[1;33m    pl.scan_csv('stopped_workspaces1.csv').(pl.Utf8)\u001b[0m\n",
      "\u001b[1;37m                                           ^\u001b[0m\n",
      "\u001b[1;31mSyntaxError\u001b[0m\u001b[1;31m:\u001b[0m invalid syntax\n",
      "\n",
      "Use %tb to get the full traceback.\n"
     ]
    },
    {
     "data": {
      "text/html": [
       "\n",
       "<style>\n",
       ".button {\n",
       "  border: none;\n",
       "  color: white;\n",
       "  padding: 4px 8px;\n",
       "  text-align: center;\n",
       "  text-decoration: none;\n",
       "  display: inline-block;\n",
       "  font-size: 12px;\n",
       "  margin: 4px 2px;\n",
       "  transition-duration: 0.2s;\n",
       "  cursor: pointer;\n",
       "}\n",
       ".iqx-button {\n",
       "  background-color: #0f62fe; \n",
       "  color: white; \n",
       "}\n",
       ".iqx-button:hover {\n",
       "  background-color: #0043ce;\n",
       "  color: white;\n",
       "}\n",
       "</style>\n",
       "<a href=\"https://stackoverflow.com/search?q=SyntaxError: invalid syntax\" target='_blank'><button class='button iqx-button'>Search for solution online</button></a>\n"
      ],
      "text/plain": [
       "<IPython.core.display.HTML object>"
      ]
     },
     "metadata": {},
     "output_type": "display_data"
    }
   ],
   "source": [
    "q = (\n",
    " pl.scan_csv('stopped_workspaces1.csv').(pl.Utf8)\n",
    ")\n",
    "q.collect()"
   ]
  },
  {
   "cell_type": "code",
   "execution_count": null,
   "id": "a81776c8-4289-407f-8fb4-6365202f2849",
   "metadata": {
    "tags": []
   },
   "outputs": [],
   "source": [
    "\n"
   ]
  },
  {
   "cell_type": "code",
   "execution_count": 66,
   "id": "77c92e17-01b0-469d-9ace-4687b7f66cff",
   "metadata": {
    "papermill": {
     "duration": null,
     "end_time": null,
     "exception": null,
     "start_time": null,
     "status": "pending"
    },
    "tags": []
   },
   "outputs": [
    {
     "name": "stdout",
     "output_type": "stream",
     "text": [
      "Traceback \u001b[1;36m(most recent call last)\u001b[0m:\n",
      "\u001b[0m  Cell \u001b[0;32mIn[66], line 1\u001b[0m\n",
      "    q.fetch(5)\u001b[0m\n",
      "\u001b[1;36m  File \u001b[1;32m/opt/conda/lib/python3.10/site-packages/polars/lazyframe/frame.py:1864\u001b[1;36m in \u001b[1;35mfetch\u001b[1;36m\n",
      "\u001b[1;33m    return wrap_df(lf.fetch(n_rows))\u001b[1;36m\n",
      "\u001b[1;31mComputeError\u001b[0m\u001b[1;31m:\u001b[0m cannot compare utf-8 with numeric data\n",
      "\n",
      "Use %tb to get the full traceback.\n"
     ]
    },
    {
     "data": {
      "text/html": [
       "\n",
       "<style>\n",
       ".button {\n",
       "  border: none;\n",
       "  color: white;\n",
       "  padding: 4px 8px;\n",
       "  text-align: center;\n",
       "  text-decoration: none;\n",
       "  display: inline-block;\n",
       "  font-size: 12px;\n",
       "  margin: 4px 2px;\n",
       "  transition-duration: 0.2s;\n",
       "  cursor: pointer;\n",
       "}\n",
       ".iqx-button {\n",
       "  background-color: #0f62fe; \n",
       "  color: white; \n",
       "}\n",
       ".iqx-button:hover {\n",
       "  background-color: #0043ce;\n",
       "  color: white;\n",
       "}\n",
       "</style>\n",
       "<a href=\"https://stackoverflow.com/search?q=ComputeError: cannot compare utf-8 with numeric data\" target='_blank'><button class='button iqx-button'>Search for solution online</button></a>\n"
      ],
      "text/plain": [
       "<IPython.core.display.HTML object>"
      ]
     },
     "metadata": {},
     "output_type": "display_data"
    }
   ],
   "source": [
    "q.fetch(5)"
   ]
  },
  {
   "cell_type": "code",
   "execution_count": 60,
   "id": "2e5d0910-9dcf-4a5f-bc7d-0bf4f2cc6c48",
   "metadata": {
    "papermill": {
     "duration": null,
     "end_time": null,
     "exception": null,
     "start_time": null,
     "status": "pending"
    },
    "tags": []
   },
   "outputs": [
    {
     "data": {
      "text/html": [
       "<h4>NAIVE QUERY PLAN</h4><p>run <b>LazyFrame.show_graph()</b> to see the optimized version</p><?xml version=\"1.0\" encoding=\"UTF-8\" standalone=\"no\"?>\n",
       "<!DOCTYPE svg PUBLIC \"-//W3C//DTD SVG 1.1//EN\"\n",
       " \"http://www.w3.org/Graphics/SVG/1.1/DTD/svg11.dtd\">\n",
       "<!-- Generated by graphviz version 7.1.0 (20230122.1345)\n",
       " -->\n",
       "<!-- Title: polars_query Pages: 1 -->\n",
       "<svg width=\"313pt\" height=\"277pt\"\n",
       " viewBox=\"0.00 0.00 313.00 277.00\" xmlns=\"http://www.w3.org/2000/svg\" xmlns:xlink=\"http://www.w3.org/1999/xlink\">\n",
       "<g id=\"graph0\" class=\"graph\" transform=\"scale(1 1) rotate(0) translate(4 273)\">\n",
       "<title>polars_query</title>\n",
       "<polygon fill=\"white\" stroke=\"none\" points=\"-4,4 -4,-273 309,-273 309,4 -4,4\"/>\n",
       "<!-- FILTER BY (col(&quot;ComputerName&quot;)) &gt; (... [(0, 0)] -->\n",
       "<g id=\"node1\" class=\"node\">\n",
       "<title>FILTER BY (col(&quot;ComputerName&quot;)) &gt; (... [(0, 0)]</title>\n",
       "<polygon fill=\"none\" stroke=\"black\" points=\"305,-269 0,-269 0,-233 305,-233 305,-269\"/>\n",
       "<text text-anchor=\"middle\" x=\"152.5\" y=\"-247.3\" font-family=\"Times,serif\" font-size=\"14.00\">FILTER BY (col(&quot;ComputerName&quot;)) &gt; (...</text>\n",
       "</g>\n",
       "<!-- WITH COLUMNS [&quot;ComputerName&quot;] [(0, 1)] -->\n",
       "<g id=\"node2\" class=\"node\">\n",
       "<title>WITH COLUMNS [&quot;ComputerName&quot;] [(0, 1)]</title>\n",
       "<polygon fill=\"none\" stroke=\"black\" points=\"293,-197 12,-197 12,-161 293,-161 293,-197\"/>\n",
       "<text text-anchor=\"middle\" x=\"152.5\" y=\"-175.3\" font-family=\"Times,serif\" font-size=\"14.00\">WITH COLUMNS [&quot;ComputerName&quot;]</text>\n",
       "</g>\n",
       "<!-- FILTER BY (col(&quot;ComputerName&quot;)) &gt; (... [(0, 0)]&#45;&#45;WITH COLUMNS [&quot;ComputerName&quot;] [(0, 1)] -->\n",
       "<g id=\"edge1\" class=\"edge\">\n",
       "<title>FILTER BY (col(&quot;ComputerName&quot;)) &gt; (... [(0, 0)]&#45;&#45;WITH COLUMNS [&quot;ComputerName&quot;] [(0, 1)]</title>\n",
       "<path fill=\"none\" stroke=\"black\" d=\"M152.5,-232.7C152.5,-221.85 152.5,-207.92 152.5,-197.1\"/>\n",
       "</g>\n",
       "<!-- π 2/4 [(0, 2)] -->\n",
       "<g id=\"node3\" class=\"node\">\n",
       "<title>π 2/4 [(0, 2)]</title>\n",
       "<polygon fill=\"none\" stroke=\"black\" points=\"179.5,-125 125.5,-125 125.5,-89 179.5,-89 179.5,-125\"/>\n",
       "<text text-anchor=\"middle\" x=\"152.5\" y=\"-103.3\" font-family=\"Times,serif\" font-size=\"14.00\">π 2/4</text>\n",
       "</g>\n",
       "<!-- WITH COLUMNS [&quot;ComputerName&quot;] [(0, 1)]&#45;&#45;π 2/4 [(0, 2)] -->\n",
       "<g id=\"edge2\" class=\"edge\">\n",
       "<title>WITH COLUMNS [&quot;ComputerName&quot;] [(0, 1)]&#45;&#45;π 2/4 [(0, 2)]</title>\n",
       "<path fill=\"none\" stroke=\"black\" d=\"M152.5,-160.7C152.5,-149.85 152.5,-135.92 152.5,-125.1\"/>\n",
       "</g>\n",
       "<!-- CSV SCAN stopped_workspaces1.csv;\n",
       "π */4;\n",
       "σ &#45; [(0, 3)] -->\n",
       "<g id=\"node4\" class=\"node\">\n",
       "<title>CSV SCAN stopped_workspaces1.csv;\n",
       "π */4;\n",
       "σ &#45; [(0, 3)]</title>\n",
       "<polygon fill=\"none\" stroke=\"black\" points=\"295.5,-53 9.5,-53 9.5,0 295.5,0 295.5,-53\"/>\n",
       "<text text-anchor=\"middle\" x=\"152.5\" y=\"-37.8\" font-family=\"Times,serif\" font-size=\"14.00\">CSV SCAN stopped_workspaces1.csv;</text>\n",
       "<text text-anchor=\"middle\" x=\"152.5\" y=\"-22.8\" font-family=\"Times,serif\" font-size=\"14.00\">π */4;</text>\n",
       "<text text-anchor=\"middle\" x=\"152.5\" y=\"-7.8\" font-family=\"Times,serif\" font-size=\"14.00\">σ &#45;</text>\n",
       "</g>\n",
       "<!-- π 2/4 [(0, 2)]&#45;&#45;CSV SCAN stopped_workspaces1.csv;\n",
       "π */4;\n",
       "σ &#45; [(0, 3)] -->\n",
       "<g id=\"edge3\" class=\"edge\">\n",
       "<title>π 2/4 [(0, 2)]&#45;&#45;CSV SCAN stopped_workspaces1.csv;\n",
       "π */4;\n",
       "σ &#45; [(0, 3)]</title>\n",
       "<path fill=\"none\" stroke=\"black\" d=\"M152.5,-88.58C152.5,-78.19 152.5,-64.81 152.5,-53.22\"/>\n",
       "</g>\n",
       "</g>\n",
       "</svg>\n"
      ],
      "text/plain": [
       "<polars.LazyFrame object at 0x7F9CB64CD720>"
      ]
     },
     "execution_count": 60,
     "metadata": {},
     "output_type": "execute_result"
    }
   ],
   "source": [
    "q = (\n",
    " pl.scan_csv('stopped_workspaces1.csv')\n",
    " .select(['WorkspaceId','ComputerName'])\n",
    " .with_columns([\n",
    "  pl.col('ComputerName')\n",
    " ])\n",
    " .filter(pl.col('ComputerName') > 18)\n",
    ")\n",
    "\n",
    "q\n"
   ]
  },
  {
   "cell_type": "code",
   "execution_count": 61,
   "id": "0d3a5f0d-c801-4359-b6b4-2c51ce998689",
   "metadata": {
    "papermill": {
     "duration": null,
     "end_time": null,
     "exception": null,
     "start_time": null,
     "status": "pending"
    },
    "tags": []
   },
   "outputs": [
    {
     "data": {
      "image/svg+xml": [
       "<svg xmlns=\"http://www.w3.org/2000/svg\" xmlns:xlink=\"http://www.w3.org/1999/xlink\" width=\"368pt\" height=\"205pt\" viewBox=\"0.00 0.00 368.00 205.00\">\n",
       "<g id=\"graph0\" class=\"graph\" transform=\"scale(1 1) rotate(0) translate(4 201)\">\n",
       "<title>polars_query</title>\n",
       "<polygon fill=\"white\" stroke=\"none\" points=\"-4,4 -4,-201 364,-201 364,4 -4,4\"/>\n",
       "<!-- WITH COLUMNS [&quot;ComputerName&quot;] [(0, 0)] -->\n",
       "<g id=\"node1\" class=\"node\">\n",
       "<title>WITH COLUMNS [&quot;ComputerName&quot;] [(0, 0)]</title>\n",
       "<polygon fill=\"none\" stroke=\"black\" points=\"320.5,-197 39.5,-197 39.5,-161 320.5,-161 320.5,-197\"/>\n",
       "<text text-anchor=\"middle\" x=\"180\" y=\"-175.3\" font-family=\"Times,serif\" font-size=\"14.00\">WITH COLUMNS [&quot;ComputerName&quot;]</text>\n",
       "</g>\n",
       "<!-- FAST_PROJECT: [WorkspaceId, ComputerName] [(0, 1)] -->\n",
       "<g id=\"node2\" class=\"node\">\n",
       "<title>FAST_PROJECT: [WorkspaceId, ComputerName] [(0, 1)]</title>\n",
       "<polygon fill=\"none\" stroke=\"black\" points=\"360,-125 0,-125 0,-89 360,-89 360,-125\"/>\n",
       "<text text-anchor=\"middle\" x=\"180\" y=\"-103.3\" font-family=\"Times,serif\" font-size=\"14.00\">FAST_PROJECT: [WorkspaceId, ComputerName]</text>\n",
       "</g>\n",
       "<!-- WITH COLUMNS [&quot;ComputerName&quot;] [(0, 0)]&#45;&#45;FAST_PROJECT: [WorkspaceId, ComputerName] [(0, 1)] -->\n",
       "<g id=\"edge1\" class=\"edge\">\n",
       "<title>WITH COLUMNS [&quot;ComputerName&quot;] [(0, 0)]--FAST_PROJECT: [WorkspaceId, ComputerName] [(0, 1)]</title>\n",
       "<path fill=\"none\" stroke=\"black\" d=\"M180,-160.7C180,-149.85 180,-135.92 180,-125.1\"/>\n",
       "</g>\n",
       "<!-- CSV SCAN stopped_workspaces1.csv;\n",
       "π 2/4;\n",
       "σ (col(&quot;ComputerName&quot;)) &gt; (... [(0, 2)] -->\n",
       "<g id=\"node3\" class=\"node\">\n",
       "<title>CSV SCAN stopped_workspaces1.csv;\n",
       "π 2/4;\n",
       "σ (col(&quot;ComputerName&quot;)) &gt; (... [(0, 2)]</title>\n",
       "<polygon fill=\"none\" stroke=\"black\" points=\"323,-53 37,-53 37,0 323,0 323,-53\"/>\n",
       "<text text-anchor=\"middle\" x=\"180\" y=\"-37.8\" font-family=\"Times,serif\" font-size=\"14.00\">CSV SCAN stopped_workspaces1.csv;</text>\n",
       "<text text-anchor=\"middle\" x=\"180\" y=\"-22.8\" font-family=\"Times,serif\" font-size=\"14.00\">π 2/4;</text>\n",
       "<text text-anchor=\"middle\" x=\"180\" y=\"-7.8\" font-family=\"Times,serif\" font-size=\"14.00\">σ (col(&quot;ComputerName&quot;)) &gt; (...</text>\n",
       "</g>\n",
       "<!-- FAST_PROJECT: [WorkspaceId, ComputerName] [(0, 1)]&#45;&#45;CSV SCAN stopped_workspaces1.csv;\n",
       "π 2/4;\n",
       "σ (col(&quot;ComputerName&quot;)) &gt; (... [(0, 2)] -->\n",
       "<g id=\"edge2\" class=\"edge\">\n",
       "<title>FAST_PROJECT: [WorkspaceId, ComputerName] [(0, 1)]--CSV SCAN stopped_workspaces1.csv;\n",
       "π 2/4;\n",
       "σ (col(&quot;ComputerName&quot;)) &gt; (... [(0, 2)]</title>\n",
       "<path fill=\"none\" stroke=\"black\" d=\"M180,-88.58C180,-78.19 180,-64.81 180,-53.22\"/>\n",
       "</g>\n",
       "</g>\n",
       "</svg>"
      ],
      "text/plain": [
       "<IPython.core.display.SVG object>"
      ]
     },
     "metadata": {},
     "output_type": "display_data"
    }
   ],
   "source": [
    "q.show_graph(optimized=True)"
   ]
  },
  {
   "cell_type": "code",
   "execution_count": 62,
   "id": "c1a52227-e0dc-479e-8ff9-e3e818aab576",
   "metadata": {
    "papermill": {
     "duration": null,
     "end_time": null,
     "exception": null,
     "start_time": null,
     "status": "pending"
    },
    "tags": []
   },
   "outputs": [
    {
     "data": {
      "image/svg+xml": [
       "<svg xmlns=\"http://www.w3.org/2000/svg\" xmlns:xlink=\"http://www.w3.org/1999/xlink\" width=\"313pt\" height=\"277pt\" viewBox=\"0.00 0.00 313.00 277.00\">\n",
       "<g id=\"graph0\" class=\"graph\" transform=\"scale(1 1) rotate(0) translate(4 273)\">\n",
       "<title>polars_query</title>\n",
       "<polygon fill=\"white\" stroke=\"none\" points=\"-4,4 -4,-273 309,-273 309,4 -4,4\"/>\n",
       "<!-- FILTER BY (col(&quot;ComputerName&quot;)) &gt; (... [(0, 0)] -->\n",
       "<g id=\"node1\" class=\"node\">\n",
       "<title>FILTER BY (col(&quot;ComputerName&quot;)) &gt; (... [(0, 0)]</title>\n",
       "<polygon fill=\"none\" stroke=\"black\" points=\"305,-269 0,-269 0,-233 305,-233 305,-269\"/>\n",
       "<text text-anchor=\"middle\" x=\"152.5\" y=\"-247.3\" font-family=\"Times,serif\" font-size=\"14.00\">FILTER BY (col(&quot;ComputerName&quot;)) &gt; (...</text>\n",
       "</g>\n",
       "<!-- WITH COLUMNS [&quot;ComputerName&quot;] [(0, 1)] -->\n",
       "<g id=\"node2\" class=\"node\">\n",
       "<title>WITH COLUMNS [&quot;ComputerName&quot;] [(0, 1)]</title>\n",
       "<polygon fill=\"none\" stroke=\"black\" points=\"293,-197 12,-197 12,-161 293,-161 293,-197\"/>\n",
       "<text text-anchor=\"middle\" x=\"152.5\" y=\"-175.3\" font-family=\"Times,serif\" font-size=\"14.00\">WITH COLUMNS [&quot;ComputerName&quot;]</text>\n",
       "</g>\n",
       "<!-- FILTER BY (col(&quot;ComputerName&quot;)) &gt; (... [(0, 0)]&#45;&#45;WITH COLUMNS [&quot;ComputerName&quot;] [(0, 1)] -->\n",
       "<g id=\"edge1\" class=\"edge\">\n",
       "<title>FILTER BY (col(&quot;ComputerName&quot;)) &gt; (... [(0, 0)]--WITH COLUMNS [&quot;ComputerName&quot;] [(0, 1)]</title>\n",
       "<path fill=\"none\" stroke=\"black\" d=\"M152.5,-232.7C152.5,-221.85 152.5,-207.92 152.5,-197.1\"/>\n",
       "</g>\n",
       "<!-- π 2/4 [(0, 2)] -->\n",
       "<g id=\"node3\" class=\"node\">\n",
       "<title>π 2/4 [(0, 2)]</title>\n",
       "<polygon fill=\"none\" stroke=\"black\" points=\"179.5,-125 125.5,-125 125.5,-89 179.5,-89 179.5,-125\"/>\n",
       "<text text-anchor=\"middle\" x=\"152.5\" y=\"-103.3\" font-family=\"Times,serif\" font-size=\"14.00\">π 2/4</text>\n",
       "</g>\n",
       "<!-- WITH COLUMNS [&quot;ComputerName&quot;] [(0, 1)]&#45;&#45;π 2/4 [(0, 2)] -->\n",
       "<g id=\"edge2\" class=\"edge\">\n",
       "<title>WITH COLUMNS [&quot;ComputerName&quot;] [(0, 1)]--π 2/4 [(0, 2)]</title>\n",
       "<path fill=\"none\" stroke=\"black\" d=\"M152.5,-160.7C152.5,-149.85 152.5,-135.92 152.5,-125.1\"/>\n",
       "</g>\n",
       "<!-- CSV SCAN stopped_workspaces1.csv;\n",
       "π */4;\n",
       "σ &#45; [(0, 3)] -->\n",
       "<g id=\"node4\" class=\"node\">\n",
       "<title>CSV SCAN stopped_workspaces1.csv;\n",
       "π */4;\n",
       "σ - [(0, 3)]</title>\n",
       "<polygon fill=\"none\" stroke=\"black\" points=\"295.5,-53 9.5,-53 9.5,0 295.5,0 295.5,-53\"/>\n",
       "<text text-anchor=\"middle\" x=\"152.5\" y=\"-37.8\" font-family=\"Times,serif\" font-size=\"14.00\">CSV SCAN stopped_workspaces1.csv;</text>\n",
       "<text text-anchor=\"middle\" x=\"152.5\" y=\"-22.8\" font-family=\"Times,serif\" font-size=\"14.00\">π */4;</text>\n",
       "<text text-anchor=\"middle\" x=\"152.5\" y=\"-7.8\" font-family=\"Times,serif\" font-size=\"14.00\">σ -</text>\n",
       "</g>\n",
       "<!-- π 2/4 [(0, 2)]&#45;&#45;CSV SCAN stopped_workspaces1.csv;\n",
       "π */4;\n",
       "σ &#45; [(0, 3)] -->\n",
       "<g id=\"edge3\" class=\"edge\">\n",
       "<title>π 2/4 [(0, 2)]--CSV SCAN stopped_workspaces1.csv;\n",
       "π */4;\n",
       "σ - [(0, 3)]</title>\n",
       "<path fill=\"none\" stroke=\"black\" d=\"M152.5,-88.58C152.5,-78.19 152.5,-64.81 152.5,-53.22\"/>\n",
       "</g>\n",
       "</g>\n",
       "</svg>"
      ],
      "text/plain": [
       "<IPython.core.display.SVG object>"
      ]
     },
     "metadata": {},
     "output_type": "display_data"
    }
   ],
   "source": [
    "q.show_graph(optimized=False)"
   ]
  },
  {
   "cell_type": "code",
   "execution_count": 63,
   "id": "4a14c50a-e18b-4d20-b88f-c04a427e6499",
   "metadata": {
    "papermill": {
     "duration": null,
     "end_time": null,
     "exception": null,
     "start_time": null,
     "status": "pending"
    },
    "tags": []
   },
   "outputs": [
    {
     "name": "stdout",
     "output_type": "stream",
     "text": [
      "Traceback \u001b[1;36m(most recent call last)\u001b[0m:\n",
      "\u001b[0m  Cell \u001b[0;32mIn[63], line 1\u001b[0m\n",
      "    q.collect()\u001b[0m\n",
      "\u001b[1;36m  File \u001b[1;32m/opt/conda/lib/python3.10/site-packages/polars/lazyframe/frame.py:1606\u001b[1;36m in \u001b[1;35mcollect\u001b[1;36m\n",
      "\u001b[1;33m    return wrap_df(ldf.collect())\u001b[1;36m\n",
      "\u001b[1;31mComputeError\u001b[0m\u001b[1;31m:\u001b[0m cannot compare utf-8 with numeric data\n",
      "\n",
      "Use %tb to get the full traceback.\n"
     ]
    },
    {
     "data": {
      "text/html": [
       "\n",
       "<style>\n",
       ".button {\n",
       "  border: none;\n",
       "  color: white;\n",
       "  padding: 4px 8px;\n",
       "  text-align: center;\n",
       "  text-decoration: none;\n",
       "  display: inline-block;\n",
       "  font-size: 12px;\n",
       "  margin: 4px 2px;\n",
       "  transition-duration: 0.2s;\n",
       "  cursor: pointer;\n",
       "}\n",
       ".iqx-button {\n",
       "  background-color: #0f62fe; \n",
       "  color: white; \n",
       "}\n",
       ".iqx-button:hover {\n",
       "  background-color: #0043ce;\n",
       "  color: white;\n",
       "}\n",
       "</style>\n",
       "<a href=\"https://stackoverflow.com/search?q=ComputeError: cannot compare utf-8 with numeric data\" target='_blank'><button class='button iqx-button'>Search for solution online</button></a>\n"
      ],
      "text/plain": [
       "<IPython.core.display.HTML object>"
      ]
     },
     "metadata": {},
     "output_type": "display_data"
    }
   ],
   "source": [
    "q.collect()\n"
   ]
  },
  {
   "cell_type": "code",
   "execution_count": 59,
   "id": "2f767269-a285-46b3-8c5c-341322b32af6",
   "metadata": {
    "papermill": {
     "duration": null,
     "end_time": null,
     "exception": null,
     "start_time": null,
     "status": "pending"
    },
    "tags": []
   },
   "outputs": [
    {
     "name": "stdout",
     "output_type": "stream",
     "text": [
      "Traceback \u001b[1;36m(most recent call last)\u001b[0m:\n",
      "\u001b[0m  Cell \u001b[0;32mIn[59], line 1\u001b[0m\n",
      "    q.fetch(5)\u001b[0m\n",
      "\u001b[1;36m  File \u001b[1;32m/opt/conda/lib/python3.10/site-packages/polars/lazyframe/frame.py:1864\u001b[1;36m in \u001b[1;35mfetch\u001b[1;36m\n",
      "\u001b[1;33m    return wrap_df(lf.fetch(n_rows))\u001b[1;36m\n",
      "\u001b[1;31mComputeError\u001b[0m\u001b[1;31m:\u001b[0m strict conversion from `str` to `f64` failed for value(s) [\"WSAMZN-F4GCF6JK\", \"WSAMZN-5CFO6BVD\", … \"WSAMZN-LD9F70BV\"]; if you were trying to cast Utf8 to temporal dtypes, consider using `strptime`\n",
      "\n",
      "Use %tb to get the full traceback.\n"
     ]
    },
    {
     "data": {
      "text/html": [
       "\n",
       "<style>\n",
       ".button {\n",
       "  border: none;\n",
       "  color: white;\n",
       "  padding: 4px 8px;\n",
       "  text-align: center;\n",
       "  text-decoration: none;\n",
       "  display: inline-block;\n",
       "  font-size: 12px;\n",
       "  margin: 4px 2px;\n",
       "  transition-duration: 0.2s;\n",
       "  cursor: pointer;\n",
       "}\n",
       ".iqx-button {\n",
       "  background-color: #0f62fe; \n",
       "  color: white; \n",
       "}\n",
       ".iqx-button:hover {\n",
       "  background-color: #0043ce;\n",
       "  color: white;\n",
       "}\n",
       "</style>\n",
       "<a href=\"https://stackoverflow.com/search?q=ComputeError: strict conversion from `str` to `f64` failed for value(s) [\"WSAMZN-F4GCF6JK\", \"WSAMZN-5CFO6BVD\", … \"WSAMZN-LD9F70BV\"]; if you were trying to cast Utf8 to temporal dtypes, consider using `strptime`\" target='_blank'><button class='button iqx-button'>Search for solution online</button></a>\n"
      ],
      "text/plain": [
       "<IPython.core.display.HTML object>"
      ]
     },
     "metadata": {},
     "output_type": "display_data"
    }
   ],
   "source": [
    "q.fetch(5)"
   ]
  },
  {
   "cell_type": "code",
   "execution_count": 42,
   "id": "517a4105-fb15-4518-b8ed-51195ae33555",
   "metadata": {
    "papermill": {
     "duration": null,
     "end_time": null,
     "exception": null,
     "start_time": null,
     "status": "pending"
    },
    "tags": []
   },
   "outputs": [
    {
     "data": {
      "text/html": [
       "<div><style>\n",
       ".dataframe > thead > tr > th,\n",
       ".dataframe > tbody > tr > td {\n",
       "  text-align: right;\n",
       "}\n",
       "</style>\n",
       "<small>shape: (962, 4)</small><table border=\"1\" class=\"dataframe\"><thead><tr><th>WorkspaceId</th><th>UserName</th><th>ComputerName</th><th>State</th></tr><tr><td>str</td><td>str</td><td>str</td><td>str</td></tr></thead><tbody><tr><td>&quot;ws-44tfj2hd9&quot;</td><td>&quot;ajay3534&quot;</td><td>&quot;WSAMZN-F4GCF6J…</td><td>&quot;STOPPED&quot;</td></tr><tr><td>&quot;ws-v2lgcn4yg&quot;</td><td>&quot;aqur6459&quot;</td><td>&quot;WSAMZN-5CFO6BV…</td><td>&quot;STOPPED&quot;</td></tr><tr><td>&quot;ws-56qjgdnvc&quot;</td><td>&quot;echa7159&quot;</td><td>&quot;WSAMZN-4L3NJVV…</td><td>&quot;STOPPED&quot;</td></tr><tr><td>&quot;ws-89yrb3156&quot;</td><td>&quot;asri2881&quot;</td><td>&quot;WSAMZN-LD9F70B…</td><td>&quot;STOPPED&quot;</td></tr><tr><td>&quot;ws-1fp9xj1kq&quot;</td><td>&quot;epla0628&quot;</td><td>&quot;WSAMZN-OSTJA82…</td><td>&quot;STOPPED&quot;</td></tr><tr><td>&quot;ws-1qzwnswr3&quot;</td><td>&quot;ypar5200&quot;</td><td>&quot;WSAMZN-3ULFUTL…</td><td>&quot;STOPPED&quot;</td></tr><tr><td>&quot;ws-kglsmhr79&quot;</td><td>&quot;krat1077&quot;</td><td>&quot;WSAMZN-1KUGBA4…</td><td>&quot;STOPPED&quot;</td></tr><tr><td>&quot;ws-w5l0nkn8t&quot;</td><td>&quot;tseb0821&quot;</td><td>&quot;WSAMZN-9KTKLV2…</td><td>&quot;STOPPED&quot;</td></tr><tr><td>&quot;ws-3zrs19dz1&quot;</td><td>&quot;hluu1836&quot;</td><td>&quot;WSAMZN-QVKOUGO…</td><td>&quot;STOPPED&quot;</td></tr><tr><td>&quot;ws-hd9br4nr6&quot;</td><td>&quot;acha3695&quot;</td><td>&quot;WSAMZN-1BVFPHO…</td><td>&quot;STOPPED&quot;</td></tr><tr><td>&quot;ws-gxb1tczmx&quot;</td><td>&quot;agad0398&quot;</td><td>&quot;WSAMZN-PGH7A2B…</td><td>&quot;STOPPED&quot;</td></tr><tr><td>&quot;ws-0nwwtdsnx&quot;</td><td>&quot;qche3696&quot;</td><td>&quot;WSAMZN-MNPABL1…</td><td>&quot;STOPPED&quot;</td></tr><tr><td>&hellip;</td><td>&hellip;</td><td>&hellip;</td><td>&hellip;</td></tr><tr><td>&quot;ws-wt8dlbw92&quot;</td><td>&quot;rkar0738&quot;</td><td>&quot;EC2AMAZ-PDJ8CU…</td><td>&quot;STOPPED&quot;</td></tr><tr><td>&quot;ws-9fgtfbrbd&quot;</td><td>&quot;shye5934&quot;</td><td>&quot;WSAMZN-EJ69NE6…</td><td>&quot;STOPPED&quot;</td></tr><tr><td>&quot;ws-gtzdp3zpc&quot;</td><td>&quot;abag3545&quot;</td><td>&quot;WSAMZN-Q1GFGBS…</td><td>&quot;STOPPED&quot;</td></tr><tr><td>&quot;ws-b33s4s4sx&quot;</td><td>&quot;smog4023&quot;</td><td>&quot;WSAMZN-VL4FKTT…</td><td>&quot;STOPPED&quot;</td></tr><tr><td>&quot;ws-dw0wz44zk&quot;</td><td>&quot;rthi5778&quot;</td><td>&quot;WSAMZN-GBVFQHV…</td><td>&quot;STOPPED&quot;</td></tr><tr><td>&quot;ws-1xcw9r2jz&quot;</td><td>&quot;dmah9268&quot;</td><td>&quot;WSAMZN-FIMURUN…</td><td>&quot;STOPPED&quot;</td></tr><tr><td>&quot;ws-4mk7hk356&quot;</td><td>&quot;pchi4006&quot;</td><td>&quot;WSAMZN-F403O23…</td><td>&quot;STOPPED&quot;</td></tr><tr><td>&quot;ws-ckbd840zt&quot;</td><td>&quot;rvas2907&quot;</td><td>&quot;WSAMZN-HOHO56I…</td><td>&quot;STOPPED&quot;</td></tr><tr><td>&quot;ws-jz9y56q8y&quot;</td><td>&quot;ggag4075&quot;</td><td>&quot;WSAMZN-985ROA9…</td><td>&quot;STOPPED&quot;</td></tr><tr><td>&quot;ws-dn8qj2hp8&quot;</td><td>&quot;nram0159&quot;</td><td>&quot;WSAMZN-2LF71N1…</td><td>&quot;STOPPED&quot;</td></tr><tr><td>&quot;ws-crghq3l52&quot;</td><td>&quot;ranw7343&quot;</td><td>&quot;WSAMZN-CHP03K7…</td><td>&quot;STOPPED&quot;</td></tr><tr><td>&quot;ws-919kwnm37&quot;</td><td>&quot;kkas0350&quot;</td><td>&quot;WSAMZN-G5AURRR…</td><td>&quot;STOPPED&quot;</td></tr></tbody></table></div>"
      ],
      "text/plain": [
       "shape: (962, 4)\n",
       "┌──────────────┬──────────┬─────────────────┬─────────┐\n",
       "│ WorkspaceId  ┆ UserName ┆ ComputerName    ┆ State   │\n",
       "│ ---          ┆ ---      ┆ ---             ┆ ---     │\n",
       "│ str          ┆ str      ┆ str             ┆ str     │\n",
       "╞══════════════╪══════════╪═════════════════╪═════════╡\n",
       "│ ws-44tfj2hd9 ┆ ajay3534 ┆ WSAMZN-F4GCF6JK ┆ STOPPED │\n",
       "│ ws-v2lgcn4yg ┆ aqur6459 ┆ WSAMZN-5CFO6BVD ┆ STOPPED │\n",
       "│ ws-56qjgdnvc ┆ echa7159 ┆ WSAMZN-4L3NJVV9 ┆ STOPPED │\n",
       "│ ws-89yrb3156 ┆ asri2881 ┆ WSAMZN-LD9F70BV ┆ STOPPED │\n",
       "│ …            ┆ …        ┆ …               ┆ …       │\n",
       "│ ws-jz9y56q8y ┆ ggag4075 ┆ WSAMZN-985ROA9O ┆ STOPPED │\n",
       "│ ws-dn8qj2hp8 ┆ nram0159 ┆ WSAMZN-2LF71N10 ┆ STOPPED │\n",
       "│ ws-crghq3l52 ┆ ranw7343 ┆ WSAMZN-CHP03K7H ┆ STOPPED │\n",
       "│ ws-919kwnm37 ┆ kkas0350 ┆ WSAMZN-G5AURRRT ┆ STOPPED │\n",
       "└──────────────┴──────────┴─────────────────┴─────────┘"
      ]
     },
     "execution_count": 42,
     "metadata": {},
     "output_type": "execute_result"
    }
   ],
   "source": [
    "import polars as pl\n",
    "q = (\n",
    " pl.scan_csv('stopped_workspaces1.csv')\n",
    ")\n",
    "df = q.collect()\n",
    "df"
   ]
  },
  {
   "cell_type": "code",
   "execution_count": null,
   "id": "a58857fb-5bfc-482f-85d0-12da529bbfce",
   "metadata": {
    "papermill": {
     "duration": null,
     "end_time": null,
     "exception": null,
     "start_time": null,
     "status": "pending"
    },
    "tags": []
   },
   "outputs": [],
   "source": [
    "import polars as pl\n",
    "q = (pl.scan_csv('train.csv')\n",
    "     .select(\n",
    "         pl.col('Cabin').is_null()\n",
    "     )\n",
    "    )\n",
    "df = q.collect()\n",
    "df"
   ]
  },
  {
   "cell_type": "code",
   "execution_count": null,
   "id": "e72a6329-4d30-432f-b1b7-d43d6a14a6cd",
   "metadata": {
    "papermill": {
     "duration": null,
     "end_time": null,
     "exception": null,
     "start_time": null,
     "status": "pending"
    },
    "tags": []
   },
   "outputs": [],
   "source": [
    "q = (\n",
    " pl.scan_csv('train.csv')\n",
    " .select(\n",
    " pl.col('Cabin').is_null().sum()\n",
    " )\n",
    ")\n"
   ]
  },
  {
   "cell_type": "code",
   "execution_count": null,
   "id": "f5227553-602f-4a50-bf3e-d607ae8d6a0f",
   "metadata": {
    "papermill": {
     "duration": null,
     "end_time": null,
     "exception": null,
     "start_time": null,
     "status": "pending"
    },
    "tags": []
   },
   "outputs": [],
   "source": [
    "q = (\n",
    " pl.scan_csv('train.csv')\n",
    ")\n",
    "\n",
    "for col in q.collect():\n",
    " print(\n",
    " f'{col.name} - {col.is_null().sum()}') "
   ]
  },
  {
   "cell_type": "code",
   "execution_count": null,
   "id": "3d43dc7b-d46f-4733-bf19-0b599e220cfb",
   "metadata": {
    "papermill": {
     "duration": null,
     "end_time": null,
     "exception": null,
     "start_time": null,
     "status": "pending"
    },
    "tags": []
   },
   "outputs": [],
   "source": [
    "q = (\n",
    " pl.scan_csv('train.csv')\n",
    " .fill_null(strategy='backward')\n",
    ")\n",
    "q.collect()"
   ]
  },
  {
   "cell_type": "code",
   "execution_count": null,
   "id": "ffb60294-1090-4074-af3b-e88459932cf0",
   "metadata": {
    "papermill": {
     "duration": null,
     "end_time": null,
     "exception": null,
     "start_time": null,
     "status": "pending"
    },
    "tags": []
   },
   "outputs": [],
   "source": [
    "q = (\n",
    " pl.scan_csv('train.csv')\n",
    " .fill_null(strategy='forward')\n",
    ")\n",
    "q.collect()"
   ]
  },
  {
   "cell_type": "code",
   "execution_count": null,
   "id": "976321aa-d105-4daa-9c92-df93cf90feea",
   "metadata": {
    "papermill": {
     "duration": null,
     "end_time": null,
     "exception": null,
     "start_time": null,
     "status": "pending"
    },
    "tags": []
   },
   "outputs": [],
   "source": [
    "q = (\n",
    " pl.scan_csv('train.csv')\n",
    " .fill_null(1)\n",
    ")\n",
    "q.collect()\n",
    "q.fetch(5)"
   ]
  },
  {
   "cell_type": "code",
   "execution_count": null,
   "id": "3cc56347-9add-4a78-8582-dc9c6dd50b92",
   "metadata": {
    "papermill": {
     "duration": null,
     "end_time": null,
     "exception": null,
     "start_time": null,
     "status": "pending"
    },
    "tags": []
   },
   "outputs": [],
   "source": [
    "q = (\n",
    " pl.scan_csv('train.csv')\n",
    " .select(\n",
    " pl.col('Cabin').fill_null(\n",
    " strategy='backward')\n",
    " )\n",
    ")\n",
    "q.collect()"
   ]
  },
  {
   "cell_type": "code",
   "execution_count": null,
   "id": "341e5d66-a475-47fd-8e1d-b4bd26cea7e6",
   "metadata": {
    "papermill": {
     "duration": null,
     "end_time": null,
     "exception": null,
     "start_time": null,
     "status": "pending"
    },
    "tags": []
   },
   "outputs": [],
   "source": [
    "q = (\n",
    " pl.scan_csv('train.csv')\n",
    " .select(\n",
    " [\n",
    " pl.exclude('Cabin'),\n",
    " # select all columns except Cabin\n",
    " pl.col('Cabin').fill_null(\n",
    "      strategy='backward')\n",
    " ]\n",
    " )\n",
    ")"
   ]
  },
  {
   "cell_type": "code",
   "execution_count": null,
   "id": "1fe8dd71-4e66-486b-82ce-2e737cf8e0ed",
   "metadata": {
    "papermill": {
     "duration": null,
     "end_time": null,
     "exception": null,
     "start_time": null,
     "status": "pending"
    },
    "tags": []
   },
   "outputs": [],
   "source": [
    "q = (\n",
    " pl.scan_csv('train.csv')\n",
    " .select(\n",
    " [\n",
    " pl.exclude('Age'),\n",
    " pl.col('Age').fill_null(\n",
    " value = 0)\n",
    " ]\n",
    " )\n",
    ")"
   ]
  },
  {
   "cell_type": "code",
   "execution_count": null,
   "id": "fe1b15cb-0328-4ff7-921e-ee5f0eaf1e0c",
   "metadata": {
    "papermill": {
     "duration": null,
     "end_time": null,
     "exception": null,
     "start_time": null,
     "status": "pending"
    },
    "tags": []
   },
   "outputs": [],
   "source": [
    "q = (\n",
    " pl.scan_csv('train.csv')\n",
    " .select(\n",
    " [\n",
    " pl.exclude('Age'),\n",
    " pl.col('Age').fill_null(\n",
    " value = pl.col('Age').mean())\n",
    " ]\n",
    "     )\n",
    ")\n",
    "q.collect()"
   ]
  },
  {
   "cell_type": "code",
   "execution_count": null,
   "id": "634ec642-8b7f-43b7-8f64-4fdadcdb08fc",
   "metadata": {
    "papermill": {
     "duration": null,
     "end_time": null,
     "exception": null,
     "start_time": null,
     "status": "pending"
    },
    "tags": []
   },
   "outputs": [],
   "source": [
    "q = (\n",
    " pl.scan_csv('train.csv')\n",
    " .drop_nulls()\n",
    ")\n",
    "q.collect()"
   ]
  },
  {
   "cell_type": "code",
   "execution_count": null,
   "id": "0f845cf1-11bf-4605-b596-269e87a5f3a7",
   "metadata": {
    "papermill": {
     "duration": null,
     "end_time": null,
     "exception": null,
     "start_time": null,
     "status": "pending"
    },
    "tags": []
   },
   "outputs": [],
   "source": [
    "q = (\n",
    " pl.scan_csv('train.csv')\n",
    " .select(\n",
    " pl.exclude('Cabin')\n",
    " )\n",
    ")\n",
    "q.collect()"
   ]
  },
  {
   "cell_type": "code",
   "execution_count": null,
   "id": "31d75c35-b120-4da9-a6da-dc1d8ad02d36",
   "metadata": {
    "papermill": {
     "duration": null,
     "end_time": null,
     "exception": null,
     "start_time": null,
     "status": "pending"
    },
    "tags": []
   },
   "outputs": [],
   "source": [
    "# drop the Cabin column\n",
    "q = (\n",
    " pl.scan_csv('train.csv')\n",
    " .drop(['Cabin'])\n",
    ")\n",
    "q.collect()"
   ]
  },
  {
   "cell_type": "code",
   "execution_count": null,
   "id": "865231af-12cd-4b3d-b38c-f7a3131787a1",
   "metadata": {
    "papermill": {
     "duration": null,
     "end_time": null,
     "exception": null,
     "start_time": null,
     "status": "pending"
    },
    "tags": []
   },
   "outputs": [],
   "source": [
    "# drop the Ticket & Fare & Cabin columns \n",
    "q = (\n",
    " pl.scan_csv('train.csv')\n",
    " .drop(['Ticket','Fare','Cabin'])\n",
    " \n",
    ")\n",
    "q.collect()"
   ]
  },
  {
   "cell_type": "code",
   "execution_count": null,
   "id": "c1849a40-33cc-4221-9a39-833aa9c799ea",
   "metadata": {
    "papermill": {
     "duration": null,
     "end_time": null,
     "exception": null,
     "start_time": null,
     "status": "pending"
    },
    "tags": []
   },
   "outputs": [],
   "source": [
    "q = (\n",
    " pl.scan_csv('train.csv')\n",
    " .drop_nulls()\n",
    " .drop(['Ticket','Fare','Cabin'])\n",
    ")\n",
    "q.collect()"
   ]
  },
  {
   "cell_type": "code",
   "execution_count": null,
   "id": "ad97760a-06f6-4b5a-82e3-8eebd3e2896c",
   "metadata": {
    "papermill": {
     "duration": null,
     "end_time": null,
     "exception": null,
     "start_time": null,
     "status": "pending"
    },
    "tags": []
   },
   "outputs": [],
   "source": [
    "df = pl.read_csv('train.csv')\n",
    "df.drop_in_place('Cabin')\n",
    "q.collect()"
   ]
  },
  {
   "cell_type": "code",
   "execution_count": 4,
   "id": "f55dd5a4-01d9-4ec1-84c1-b72613e57d1e",
   "metadata": {
    "papermill": {
     "duration": null,
     "end_time": null,
     "exception": null,
     "start_time": null,
     "status": "pending"
    },
    "tags": []
   },
   "outputs": [],
   "source": [
    "import string\n",
    "import re\n",
    "import pandas as pd\n",
    "import itertools\n",
    "\n",
    "def preprocess_text(text_file):\n",
    "  # Read the text file and encode it as UTF-8\n",
    "  with open(text_file, encoding='utf-8-sig') as f:\n",
    "    text = f.read()\n",
    "\n",
    "  # Delete all the URLs and Emails in the file\n",
    "  text = re.sub(r'www\\S+', '', text)\n",
    "  text = re.sub(r'http\\S+', '', text)\n",
    "  text = re.sub(r'\\S*@\\S*\\s?', '', text)\n",
    "\n",
    "  # Delete all the numbers in the file\n",
    "  text = ''.join([i for i in text if not i.isdigit()])\n",
    "\n",
    "  # Delete all the punctuation marks\n",
    "  text = text.translate(str.maketrans('','',string.punctuation))\n",
    "\n",
    "  # Convert text to LOWERCASE\n",
    "  text = text.lower()\n",
    "\n",
    "  # Seperate each works with a space and save the words to a list named \"data\"\n",
    "  data = text.split()\n",
    "\n",
    "  return data\n",
    "\n",
    "# Preprocess the text file\n",
    "data = preprocess_text('kin.txt')\n",
    "\n",
    "# Print out the preprocessed data\n",
    "#print(data)\n"
   ]
  },
  {
   "cell_type": "code",
   "execution_count": 6,
   "id": "e5f07d95-0e09-4efd-b655-c228f2558c59",
   "metadata": {
    "papermill": {
     "duration": null,
     "end_time": null,
     "exception": null,
     "start_time": null,
     "status": "pending"
    },
    "tags": []
   },
   "outputs": [
    {
     "name": "stdout",
     "output_type": "stream",
     "text": [
      "Collecting textblob\n",
      "  Downloading textblob-0.17.1-py2.py3-none-any.whl (636 kB)\n",
      "\u001b[K     |████████████████████████████████| 636 kB 5.9 MB/s eta 0:00:01\n",
      "\u001b[?25hCollecting nltk>=3.1\n",
      "  Downloading nltk-3.8-py3-none-any.whl (1.5 MB)\n",
      "\u001b[K     |████████████████████████████████| 1.5 MB 13.9 MB/s eta 0:00:01\n",
      "\u001b[?25hRequirement already satisfied: click in /opt/conda/lib/python3.8/site-packages (from nltk>=3.1->textblob) (8.1.3)\n",
      "Requirement already satisfied: regex>=2021.8.3 in /opt/conda/lib/python3.8/site-packages (from nltk>=3.1->textblob) (2022.10.31)\n",
      "Requirement already satisfied: tqdm in /opt/conda/lib/python3.8/site-packages (from nltk>=3.1->textblob) (4.64.1)\n",
      "Requirement already satisfied: joblib in /opt/conda/lib/python3.8/site-packages (from nltk>=3.1->textblob) (1.2.0)\n",
      "Installing collected packages: nltk, textblob\n",
      "Successfully installed nltk-3.8 textblob-0.17.1\n"
     ]
    },
    {
     "name": "stderr",
     "output_type": "stream",
     "text": [
      "<frozen importlib._bootstrap>:219: RuntimeWarning: scipy._lib.messagestream.MessageStream size changed, may indicate binary incompatibility. Expected 56 from C header, got 64 from PyObject\n"
     ]
    },
    {
     "name": "stdout",
     "output_type": "stream",
     "text": [
      "The sentiment of the text is 0.127 (positive or negative) and 0.497 (objective or subjective).\n"
     ]
    }
   ],
   "source": [
    "!pip install textblob\n",
    "from textblob import TextBlob\n",
    "\n",
    "# Create a TextBlob object from the data list\n",
    "blob = TextBlob(' '.join(data))\n",
    "\n",
    "# Get the sentiment of the text\n",
    "sentiment = blob.sentiment\n",
    "\n",
    "print(f'The sentiment of the text is {sentiment.polarity:.3f} (positive or negative) and {sentiment.subjectivity:.3f} (objective or subjective).')\n"
   ]
  },
  {
   "cell_type": "code",
   "execution_count": 11,
   "id": "2fea472e-5415-4a3f-bf62-5a28e703d77d",
   "metadata": {},
   "outputs": [
    {
     "name": "stderr",
     "output_type": "stream",
     "text": [
      "[nltk_data] Downloading package vader_lexicon to\n",
      "[nltk_data]     /home/jovyan/nltk_data...\n",
      "[nltk_data]   Package vader_lexicon is already up-to-date!\n",
      "IOPub data rate exceeded.\n",
      "The Jupyter server will temporarily stop sending output\n",
      "to the client in order to avoid crashing it.\n",
      "To change this limit, set the config variable\n",
      "`--ServerApp.iopub_data_rate_limit`.\n",
      "\n",
      "Current values:\n",
      "ServerApp.iopub_data_rate_limit=1000000.0 (bytes/sec)\n",
      "ServerApp.rate_limit_window=3.0 (secs)\n",
      "\n"
     ]
    }
   ],
   "source": [
    "from nltk.sentiment.vader import SentimentIntensityAnalyzer\n",
    "import nltk\n",
    "nltk.download('vader_lexicon')\n",
    "# Create a SentimentIntensityAnalyzer object\n",
    "vader = SentimentIntensityAnalyzer()\n",
    "\n",
    "# Get the sentiment scores for each sentence in the data list\n",
    "sentiments = [vader.polarity_scores(sentence) for sentence in data]\n",
    "\n",
    "# Print the sentiments\n",
    "print(sentiments)"
   ]
  },
  {
   "cell_type": "code",
   "execution_count": null,
   "id": "e9c241c1-9054-4390-a29d-78c5e9d48788",
   "metadata": {},
   "outputs": [],
   "source": []
  }
 ],
 "metadata": {
  "kernelspec": {
   "display_name": "Python 3 (ipykernel)",
   "language": "python",
   "name": "python3"
  },
  "language_info": {
   "codemirror_mode": {
    "name": "ipython",
    "version": 3
   },
   "file_extension": ".py",
   "mimetype": "text/x-python",
   "name": "python",
   "nbconvert_exporter": "python",
   "pygments_lexer": "ipython3",
   "version": "3.10.8"
  },
  "papermill": {
   "default_parameters": {},
   "duration": null,
   "end_time": null,
   "environment_variables": {},
   "exception": null,
   "input_path": "/home/jovyan/polars.ipynb",
   "output_path": "/home/jovyan/polars-background-results.ipynb",
   "parameters": {},
   "start_time": "2022-12-06T00:28:15.003156",
   "version": "2.4.0"
  },
  "widgets": {
   "application/vnd.jupyter.widget-state+json": {
    "state": {},
    "version_major": 2,
    "version_minor": 0
   }
  }
 },
 "nbformat": 4,
 "nbformat_minor": 5
}
