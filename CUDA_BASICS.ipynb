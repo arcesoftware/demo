{
 "cells": [
  {
   "cell_type": "code",
   "execution_count": 4,
   "id": "0860668b",
   "metadata": {},
   "outputs": [
    {
     "data": {
      "text/plain": [
       "array([11, 22, 33, 44])"
      ]
     },
     "execution_count": 4,
     "metadata": {},
     "output_type": "execute_result"
    }
   ],
   "source": [
    "import numpy as np\n",
    "\n",
    "a = np.array([1, 2, 3, 4])\n",
    "b = np.array([10, 20, 30, 40])\n",
    "\n",
    "np.add(a, b)"
   ]
  },
  {
   "cell_type": "code",
   "execution_count": 5,
   "id": "980a921c",
   "metadata": {},
   "outputs": [
    {
     "data": {
      "text/plain": [
       "array([101, 102, 103, 104])"
      ]
     },
     "execution_count": 5,
     "metadata": {},
     "output_type": "execute_result"
    }
   ],
   "source": [
    "np.add(a, 100)"
   ]
  },
  {
   "cell_type": "code",
   "execution_count": 6,
   "id": "4901e318",
   "metadata": {},
   "outputs": [
    {
     "name": "stdout",
     "output_type": "stream",
     "text": [
      "c: [[ 0  1  2  3]\n",
      " [ 4  5  6  7]\n",
      " [ 8  9 10 11]\n",
      " [12 13 14 15]]\n"
     ]
    },
    {
     "data": {
      "text/plain": [
       "array([[10, 21, 32, 43],\n",
       "       [14, 25, 36, 47],\n",
       "       [18, 29, 40, 51],\n",
       "       [22, 33, 44, 55]])"
      ]
     },
     "execution_count": 6,
     "metadata": {},
     "output_type": "execute_result"
    }
   ],
   "source": [
    "c = np.arange(4*4).reshape((4,4))\n",
    "print('c:', c)\n",
    "\n",
    "np.add(b, c)"
   ]
  },
  {
   "cell_type": "code",
   "execution_count": 7,
   "id": "2a395f69",
   "metadata": {},
   "outputs": [
    {
     "data": {
      "text/plain": [
       "array([[10],\n",
       "       [20],\n",
       "       [30],\n",
       "       [40]])"
      ]
     },
     "execution_count": 7,
     "metadata": {},
     "output_type": "execute_result"
    }
   ],
   "source": [
    "b_col = b[:, np.newaxis]\n",
    "b_col"
   ]
  },
  {
   "cell_type": "code",
   "execution_count": 8,
   "id": "9e08cbce",
   "metadata": {},
   "outputs": [
    {
     "data": {
      "text/plain": [
       "array([[10, 11, 12, 13],\n",
       "       [24, 25, 26, 27],\n",
       "       [38, 39, 40, 41],\n",
       "       [52, 53, 54, 55]])"
      ]
     },
     "execution_count": 8,
     "metadata": {},
     "output_type": "execute_result"
    }
   ],
   "source": [
    "np.add(b_col, c)"
   ]
  },
  {
   "cell_type": "code",
   "execution_count": 9,
   "id": "3da38dca",
   "metadata": {},
   "outputs": [],
   "source": [
    "from numba import vectorize\n",
    "\n",
    "@vectorize(['int64(int64, int64)'], target='cuda')\n",
    "def add_ufunc(x, y):\n",
    "    return x + y"
   ]
  },
  {
   "cell_type": "code",
   "execution_count": 10,
   "id": "3aa562c6",
   "metadata": {},
   "outputs": [
    {
     "name": "stdout",
     "output_type": "stream",
     "text": [
      "628 ns ± 10.7 ns per loop (mean ± std. dev. of 7 runs, 1,000,000 loops each)\n"
     ]
    }
   ],
   "source": [
    "%timeit np.add(b_col, c)   # NumPy on CPU"
   ]
  },
  {
   "cell_type": "code",
   "execution_count": 11,
   "id": "cacdd148",
   "metadata": {},
   "outputs": [],
   "source": [
    "import math  # Note that for the CUDA target, we need to use the scalar functions from the math module, not NumPy\n",
    "\n",
    "SQRT_2PI = np.float32((2*math.pi)**0.5)  # Precompute this constant as a float32.  Numba will inline it at compile time.\n",
    "\n",
    "@vectorize(['float32(float32, float32, float32)'], target='cuda')\n",
    "def gaussian_pdf(x, mean, sigma):\n",
    "    '''Compute the value of a Gaussian probability density function at x with given mean and sigma.'''\n",
    "    return math.exp(-0.5 * ((x - mean) / sigma)**2) / (sigma * SQRT_2PI)"
   ]
  },
  {
   "cell_type": "code",
   "execution_count": 12,
   "id": "6a751399",
   "metadata": {},
   "outputs": [
    {
     "name": "stderr",
     "output_type": "stream",
     "text": [
      "C:\\Users\\alfal\\anaconda3\\envs\\AI\\Lib\\site-packages\\numba\\cuda\\dispatcher.py:536: NumbaPerformanceWarning: \u001b[1mGrid size 1 will likely result in GPU under-utilization due to low occupancy.\u001b[0m\n",
      "  warn(NumbaPerformanceWarning(msg))\n"
     ]
    },
    {
     "data": {
      "text/plain": [
       "array([0.12681967], dtype=float32)"
      ]
     },
     "execution_count": 12,
     "metadata": {},
     "output_type": "execute_result"
    }
   ],
   "source": [
    "# Evaluate the Gaussian a million times!\n",
    "x = np.random.uniform(-3, 3, size=1000000).astype(np.float32)\n",
    "mean = np.float32(0.0)\n",
    "sigma = np.float32(1.0)\n",
    "\n",
    "# Quick test\n",
    "gaussian_pdf(x[0], 0.0, 1.0)"
   ]
  },
  {
   "cell_type": "code",
   "execution_count": 13,
   "id": "8ae896f1",
   "metadata": {},
   "outputs": [
    {
     "data": {
      "text/plain": [
       "array([0.0107732], dtype=float32)"
      ]
     },
     "execution_count": 13,
     "metadata": {},
     "output_type": "execute_result"
    }
   ],
   "source": [
    "gaussian_pdf(x[0], 0.0, 37.0)"
   ]
  },
  {
   "cell_type": "code",
   "execution_count": 14,
   "id": "ef6a91ee",
   "metadata": {},
   "outputs": [
    {
     "name": "stdout",
     "output_type": "stream",
     "text": [
      "21.7 ms ± 623 µs per loop (mean ± std. dev. of 7 runs, 10 loops each)\n"
     ]
    }
   ],
   "source": [
    "import scipy.stats # for definition of gaussian distribution\n",
    "norm_pdf = scipy.stats.norm\n",
    "%timeit norm_pdf.pdf(x, loc=mean, scale=sigma)"
   ]
  },
  {
   "cell_type": "code",
   "execution_count": null,
   "id": "2bde4efe",
   "metadata": {},
   "outputs": [],
   "source": [
    "import numpy as np\n",
    "import cupy as cp\n",
    "from numba import njit\n",
    "\n",
    "@njit\n",
    "def solve_roessler(x, y, z, dx, dy, dt, a, b, c):\n",
    "    dx_new = (-y - z) * dt\n",
    "    dy_new = (x + a * y) * dt\n",
    "    dz_new = (b + z * (x - c)) * dt\n",
    "\n",
    "    x += dx_new\n",
    "    y += dy_new\n",
    "    z += dz_new\n",
    "\n",
    "    return x, y, z, dx_new, dy_new\n",
    "\n",
    "# Set the initial conditions on CPU\n",
    "x, y, z = 10, 10, 10\n",
    "dx, dy = 0.0, 0.0\n",
    "dt = 0.0001\n",
    "a, b, c = 0.1, 0.1, 14.0\n",
    "scale = 10\n",
    "\n",
    "# Transfer initial conditions to GPU\n",
    "x_gpu, y_gpu, z_gpu = cp.array(x), cp.array(y), cp.array(z)\n",
    "dx_gpu, dy_gpu = cp.array(dx), cp.array(dy)\n",
    "\n",
    "# Main simulation loop\n",
    "while True:\n",
    "    x_gpu, y_gpu, z_gpu, dx_gpu, dy_gpu = solve_roessler(x_gpu, y_gpu, z_gpu, dx_gpu, dy_gpu, dt, a, b, c)\n",
    "\n",
    "    # The rest of the code for turtle graphics remains on the CPU\n",
    "    t.setpos(x_gpu * scale, y_gpu * scale)\n",
    "    t.setheading(atan2(dy_gpu, dx_gpu))\n",
    "    t.pencolor(cp.asnumpy(cp.random.rand(3)))\n"
   ]
  },
  {
   "cell_type": "code",
   "execution_count": 19,
   "id": "e2c71924",
   "metadata": {},
   "outputs": [
    {
     "name": "stderr",
     "output_type": "stream",
     "text": [
      "C:\\Users\\alfal\\anaconda3\\envs\\AI\\Lib\\site-packages\\numba\\cuda\\cudadrv\\devicearray.py:886: NumbaPerformanceWarning: \u001b[1mHost array used in CUDA kernel will incur copy overhead to/from device.\u001b[0m\n",
      "  warn(NumbaPerformanceWarning(msg))\n"
     ]
    }
   ],
   "source": [
    "import numpy as np\n",
    "from numba import cuda\n",
    "\n",
    "@cuda.jit\n",
    "def rossler_attractor_kernel(x, y, z, dx, dy, a, b, c, dt, scale, iterations):\n",
    "    i = cuda.grid(1)\n",
    "    if i < iterations:\n",
    "        dx[i] = (-y[i] - z[i]) * dt\n",
    "        dy[i] = (x[i] + a * y[i]) * dt\n",
    "        dz = (b + z[i] * (x[i] - c)) * dt\n",
    "        x[i] += dx[i]\n",
    "        y[i] += dy[i]\n",
    "        z[i] += dz\n",
    "\n",
    "def rossler_attractor(a, b, c, dt, scale, iterations):\n",
    "    x = np.full(iterations, 10.0)\n",
    "    y = np.full(iterations, 10.0)\n",
    "    z = np.full(iterations, 10.0)\n",
    "    dx = np.zeros(iterations)\n",
    "    dy = np.zeros(iterations)\n",
    "\n",
    "    threads_per_block = 256\n",
    "    blocks_per_grid = (iterations + (threads_per_block - 1)) // threads_per_block\n",
    "\n",
    "    rossler_attractor_kernel[blocks_per_grid, threads_per_block](\n",
    "        x, y, z, dx, dy, a, b, c, dt, scale, iterations\n",
    "    )\n",
    "\n",
    "    return x, y, z\n",
    "\n",
    "# Set the parameters\n",
    "a = 0.1\n",
    "b = 0.1\n",
    "c = 14.0\n",
    "dt = 0.0001  # time step\n",
    "scale = 10\n",
    "iterations = 1000000  # number of iterations\n",
    "\n",
    "# Run the simulation\n",
    "x, y, z = rossler_attractor(a, b, c, dt, scale, iterations)\n"
   ]
  },
  {
   "cell_type": "code",
   "execution_count": null,
   "id": "f6eef9fa",
   "metadata": {},
   "outputs": [],
   "source": [
    "import turtle\n",
    "import numpy as np\n",
    "from math import atan2\n",
    "from numba import jit\n",
    "\n",
    "# Create a turtle and set the pen size\n",
    "turtle.screensize(canvwidth=7680, canvheight=4800, bg='black')\n",
    "t = turtle.Turtle()\n",
    "t.speed('fastest')\n",
    "t.pensize(1)\n",
    "t.pencolor(np.random.rand(3))\n",
    "t.radians()\n",
    "t.pendown()\n",
    "\n",
    "@jit(nopython=True)\n",
    "def calculate_trajectory(x, y, z, dx, dy, a, b, c, dt, scale, iterations):\n",
    "    trajectory = np.zeros((iterations, 2))\n",
    "    for i in range(iterations):\n",
    "        trajectory[i][0] = x * scale\n",
    "        trajectory[i][1] = y * scale\n",
    "\n",
    "        dx = (-y - z) * dt\n",
    "        dy = (x + a * y) * dt\n",
    "        dz = (b + z * (x - c)) * dt\n",
    "\n",
    "        x += dx\n",
    "        y += dy\n",
    "        z += dz\n",
    "    return trajectory\n",
    "\n",
    "# Set the parameters\n",
    "a = 0.1\n",
    "b = 0.1\n",
    "c = 14.0\n",
    "dt = 0.0001  # time step\n",
    "scale = 10\n",
    "iterations = 100000  # number of iterations\n",
    "\n",
    "# Set the initial conditions\n",
    "x, y, z = 10, 10, 10\n",
    "dx, dy = 0.0, 0.0  # initialize the x velocity\n",
    "\n",
    "trajectory = calculate_trajectory(x, y, z, dx, dy, a, b, c, dt, scale, iterations)\n",
    "\n",
    "\n",
    "\n",
    "# Plot the trajectory\n",
    "for pos in trajectory:\n",
    "    t.setpos(pos[0], pos[1])\n",
    "    # Set the pen color to a random color\n",
    "    \n",
    "\n",
    "# Keep the window open until it is closed\n",
    "turtle.mainloop()\n"
   ]
  },
  {
   "cell_type": "code",
   "execution_count": null,
   "id": "1edae7d5",
   "metadata": {},
   "outputs": [],
   "source": []
  }
 ],
 "metadata": {
  "kernelspec": {
   "display_name": "Python 3 (ipykernel)",
   "language": "python",
   "name": "python3"
  },
  "language_info": {
   "codemirror_mode": {
    "name": "ipython",
    "version": 3
   },
   "file_extension": ".py",
   "mimetype": "text/x-python",
   "name": "python",
   "nbconvert_exporter": "python",
   "pygments_lexer": "ipython3",
   "version": "3.11.7"
  }
 },
 "nbformat": 4,
 "nbformat_minor": 5
}
