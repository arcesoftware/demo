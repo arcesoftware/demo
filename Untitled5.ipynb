{
 "cells": [
  {
   "cell_type": "code",
   "execution_count": 1,
   "id": "298bbdd2-45c8-41e1-9c95-d7e352732bd9",
   "metadata": {},
   "outputs": [
    {
     "name": "stderr",
     "output_type": "stream",
     "text": [
      "<frozen importlib._bootstrap>:219: RuntimeWarning: scipy._lib.messagestream.MessageStream size changed, may indicate binary incompatibility. Expected 56 from C header, got 64 from PyObject\n"
     ]
    }
   ],
   "source": [
    "import numpy as np\n",
    "\n",
    "# Importing standard Qiskit libraries\n",
    "from qiskit import QuantumCircuit, transpile, Aer, IBMQ\n",
    "from qiskit.tools.jupyter import *\n",
    "from qiskit.visualization import *\n",
    "from ibm_quantum_widgets import *\n",
    "from qiskit.providers.aer import QasmSimulator\n",
    "\n",
    "# Loading your IBM Quantum account(s)\n",
    "provider = IBMQ.load_account()"
   ]
  },
  {
   "cell_type": "code",
   "execution_count": 3,
   "id": "047b2fa7-5e57-4333-a29f-6ec2ddeb22b1",
   "metadata": {},
   "outputs": [
    {
     "name": "stdout",
     "output_type": "stream",
     "text": [
      "Dataframe shape:  (52, 12)\n",
      "Columns in the DataFrame:  Index(['Issue', 'Date Reported', 'Status', 'Date resolved', 'Impact',\n",
      "       'Classification', 'Assigned to', 'Resoultion', 'Unnamed: 8',\n",
      "       'Unnamed: 9', 'Unnamed: 10', 'Unnamed: 11'],\n",
      "      dtype='object')\n",
      "                                                    Issue Date Reported  \\\n",
      "count                                                  28             6   \n",
      "unique                                                 28             6   \n",
      "top     Insuffienct rights in vCenter… need dedicated ...       January   \n",
      "freq                                                    1             1   \n",
      "\n",
      "          Status Date resolved                    Impact Classification  \\\n",
      "count          6             5                        33             16   \n",
      "unique         2             5                        31             10   \n",
      "top     resolved        10-May  Unable to build machines       Critical   \n",
      "freq           5             1                         3              5   \n",
      "\n",
      "       Assigned to Resoultion Unnamed: 8 Unnamed: 9 Unnamed: 10    Unnamed: 11  \n",
      "count           36         37         10         10          10              6  \n",
      "unique          16         16          7          6           6              6  \n",
      "top        Shabeer  Completed  11/1/2022  11/7/2022     Shabeer  R# of servers  \n",
      "freq            10          8          3          5           4              1  \n",
      "Traceback \u001b[1;36m(most recent call last)\u001b[0m:\n",
      "  Input \u001b[0;32mIn [3]\u001b[0m in \u001b[0;35m<cell line: 14>\u001b[0m\n",
      "    grouped = df.groupby('Purpose')\n",
      "  File \u001b[0;32m/opt/conda/lib/python3.8/site-packages/pandas/core/frame.py:7631\u001b[0m in \u001b[0;35mgroupby\u001b[0m\n",
      "    return DataFrameGroupBy(\n",
      "  File \u001b[0;32m/opt/conda/lib/python3.8/site-packages/pandas/core/groupby/groupby.py:889\u001b[0m in \u001b[0;35m__init__\u001b[0m\n",
      "    grouper, exclusions, obj = get_grouper(\n",
      "\u001b[1;36m  File \u001b[1;32m/opt/conda/lib/python3.8/site-packages/pandas/core/groupby/grouper.py:862\u001b[1;36m in \u001b[1;35mget_grouper\u001b[1;36m\u001b[0m\n",
      "\u001b[1;33m    raise KeyError(gpr)\u001b[0m\n",
      "\u001b[1;31mKeyError\u001b[0m\u001b[1;31m:\u001b[0m 'Purpose'\n",
      "\n",
      "Use %tb to get the full traceback.\n"
     ]
    },
    {
     "data": {
      "text/html": [
       "\n",
       "<style>\n",
       ".button {\n",
       "  border: none;\n",
       "  color: white;\n",
       "  padding: 4px 8px;\n",
       "  text-align: center;\n",
       "  text-decoration: none;\n",
       "  display: inline-block;\n",
       "  font-size: 12px;\n",
       "  margin: 4px 2px;\n",
       "  transition-duration: 0.2s;\n",
       "  cursor: pointer;\n",
       "}\n",
       ".iqx-button {\n",
       "  background-color: #0f62fe; \n",
       "  color: white; \n",
       "}\n",
       ".iqx-button:hover {\n",
       "  background-color: #0043ce;\n",
       "  color: white;\n",
       "}\n",
       "</style>\n",
       "<a href=\"https://stackoverflow.com/search?q=KeyError: Purpose\" target='_blank'><button class='button iqx-button'>Search for solution online</button></a>\n"
      ],
      "text/plain": [
       "<IPython.core.display.HTML object>"
      ]
     },
     "metadata": {},
     "output_type": "display_data"
    }
   ],
   "source": [
    "import pandas as pd\n",
    "\n",
    "# Read in the CSV file and store it in a pandas DataFrame\n",
    "df = pd.read_csv('mydata.csv')\n",
    "\n",
    "# Get some basic information about the DataFrame\n",
    "print('Dataframe shape: ', df.shape)\n",
    "print('Columns in the DataFrame: ', df.columns)\n",
    "\n",
    "# Get summary statistics for the numerical columns in the DataFrame\n",
    "print(df.describe())\n",
    "\n",
    "# Group the DataFrame by a categorical column and get summary statistics for each group\n",
    "grouped = df.groupby('Purpose')\n",
    "print(grouped.describe())\n",
    "\n"
   ]
  },
  {
   "cell_type": "code",
   "execution_count": 4,
   "id": "77c1b7ce-10af-404a-b79e-40dd5751e89f",
   "metadata": {},
   "outputs": [
    {
     "data": {
      "text/plain": [
       "Index(['Issue', 'Date Reported', 'Status', 'Date resolved', 'Impact',\n",
       "       'Classification', 'Assigned to', 'Resoultion', 'Unnamed: 8',\n",
       "       'Unnamed: 9', 'Unnamed: 10', 'Unnamed: 11'],\n",
       "      dtype='object')"
      ]
     },
     "execution_count": 4,
     "metadata": {},
     "output_type": "execute_result"
    }
   ],
   "source": [
    "df.columns"
   ]
  },
  {
   "cell_type": "code",
   "execution_count": 6,
   "id": "a42f8c77-e1e9-4103-b802-578d721318ef",
   "metadata": {},
   "outputs": [
    {
     "name": "stdout",
     "output_type": "stream",
     "text": [
      "Dataframe shape:  (52, 12)\n",
      "Columns in the DataFrame:  Index(['Issue', 'Date Reported', 'Status', 'Date resolved', 'Impact',\n",
      "       'Classification', 'Assigned to', 'Resoultion', 'Unnamed: 8',\n",
      "       'Unnamed: 9', 'Unnamed: 10', 'Unnamed: 11'],\n",
      "      dtype='object')\n",
      "                                                    Issue Date Reported  \\\n",
      "count                                                  28             6   \n",
      "unique                                                 28             6   \n",
      "top     Insuffienct rights in vCenter… need dedicated ...       January   \n",
      "freq                                                    1             1   \n",
      "\n",
      "          Status Date resolved                    Impact Classification  \\\n",
      "count          6             5                        33             16   \n",
      "unique         2             5                        31             10   \n",
      "top     resolved        10-May  Unable to build machines       Critical   \n",
      "freq           5             1                         3              5   \n",
      "\n",
      "       Assigned to Resoultion Unnamed: 8 Unnamed: 9 Unnamed: 10    Unnamed: 11  \n",
      "count           36         37         10         10          10              6  \n",
      "unique          16         16          7          6           6              6  \n",
      "top        Shabeer  Completed  11/1/2022  11/7/2022     Shabeer  R# of servers  \n",
      "freq            10          8          3          5           4              1  \n"
     ]
    }
   ],
   "source": [
    "import pandas as pd\n",
    "\n",
    "# Read in the CSV file and store it in a pandas DataFrame\n",
    "df = pd.read_csv('mydata.csv')\n",
    "\n",
    "# Get some basic information about the DataFrame\n",
    "print('Dataframe shape: ', df.shape)\n",
    "print('Columns in the DataFrame: ', df.columns)\n",
    "\n",
    "# Get summary statistics for the numerical columns in the DataFrame\n",
    "print(df.describe())\n",
    "\n"
   ]
  },
  {
   "cell_type": "code",
   "execution_count": 8,
   "id": "71445939-faa3-40c4-8601-555f77774a75",
   "metadata": {},
   "outputs": [
    {
     "name": "stdout",
     "output_type": "stream",
     "text": [
      "Collecting polars\n",
      "  Downloading polars-0.16.6-cp37-abi3-manylinux_2_17_x86_64.manylinux2014_x86_64.whl (15.2 MB)\n",
      "\u001b[K     |████████████████████████████████| 15.2 MB 28.4 MB/s eta 0:00:01\n",
      "\u001b[?25hRequirement already satisfied: typing_extensions>=4.0.1 in /opt/conda/lib/python3.8/site-packages (from polars) (4.4.0)\n",
      "Installing collected packages: polars\n",
      "Successfully installed polars-0.16.6\n",
      "Dataframe shape:  (52, 12)\n",
      "Columns in the DataFrame:  ['Issue', 'Date Reported', 'Status', 'Date resolved', 'Impact', 'Classification', 'Assigned to', 'Resoultion', '', '_duplicated_0', '_duplicated_1', '_duplicated_2']\n",
      "shape: (7, 13)\n",
      "┌─────────┬─────────┬────────────┬──────────┬─────┬─────────┬────────────┬────────────┬────────────┐\n",
      "│ describ ┆ Issue   ┆ Date       ┆ Status   ┆ ... ┆ column_ ┆ _duplicate ┆ _duplicate ┆ _duplicate │\n",
      "│ e       ┆ ---     ┆ Reported   ┆ ---      ┆     ┆ 8       ┆ d_0        ┆ d_1        ┆ d_2        │\n",
      "│ ---     ┆ str     ┆ ---        ┆ str      ┆     ┆ ---     ┆ ---        ┆ ---        ┆ ---        │\n",
      "│ str     ┆         ┆ str        ┆          ┆     ┆ str     ┆ str        ┆ str        ┆ str        │\n",
      "╞═════════╪═════════╪════════════╪══════════╪═════╪═════════╪════════════╪════════════╪════════════╡\n",
      "│ count   ┆ 52      ┆ 52         ┆ 52       ┆ ... ┆ 52      ┆ 52         ┆ 52         ┆ 52         │\n",
      "│ null_co ┆ 0       ┆ 0          ┆ 0        ┆ ... ┆ 0       ┆ 0          ┆ 0          ┆ 0          │\n",
      "│ unt     ┆         ┆            ┆          ┆     ┆         ┆            ┆            ┆            │\n",
      "│ mean    ┆ null    ┆ null       ┆ null     ┆ ... ┆ null    ┆ null       ┆ null       ┆ null       │\n",
      "│ std     ┆ null    ┆ null       ┆ null     ┆ ... ┆ null    ┆ null       ┆ null       ┆ null       │\n",
      "│ min     ┆         ┆            ┆          ┆ ... ┆         ┆            ┆            ┆            │\n",
      "│ max     ┆ request ┆ January    ┆ resolved ┆ ... ┆ Propose ┆ Actual     ┆ Team       ┆ ~60        │\n",
      "│         ┆ 2016    ┆            ┆          ┆     ┆ d       ┆ Cutover    ┆            ┆            │\n",
      "│         ┆ servers ┆            ┆          ┆     ┆ Cutover ┆ Date       ┆            ┆            │\n",
      "│         ┆ w/RDS   ┆            ┆          ┆     ┆ Date    ┆            ┆            ┆            │\n",
      "│ median  ┆ null    ┆ null       ┆ null     ┆ ... ┆ null    ┆ null       ┆ null       ┆ null       │\n",
      "└─────────┴─────────┴────────────┴──────────┴─────┴─────────┴────────────┴────────────┴────────────┘\n"
     ]
    }
   ],
   "source": [
    "!pip install polars\n",
    "import polars as pl\n",
    "\n",
    "# Read in the CSV file and store it in a Polars DataFrame\n",
    "df = pl.read_csv('mydata.csv')\n",
    "\n",
    "# Get some basic information about the DataFrame\n",
    "print('Dataframe shape: ', df.shape)\n",
    "print('Columns in the DataFrame: ', df.columns)\n",
    "\n",
    "# Get summary statistics for the numerical columns in the DataFrame\n",
    "print(df.describe())\n"
   ]
  },
  {
   "cell_type": "code",
   "execution_count": 13,
   "id": "5420ca4b-6379-4d7a-85a1-d06e3f8b5162",
   "metadata": {},
   "outputs": [
    {
     "name": "stdout",
     "output_type": "stream",
     "text": [
      "shape: (52, 12)\n",
      "┌──────────┬────────────┬──────────┬────────────┬─────┬─────┬────────────┬────────────┬────────────┐\n",
      "│ Issue    ┆ Date       ┆ Status   ┆ Date       ┆ ... ┆     ┆ _duplicate ┆ _duplicate ┆ _duplicate │\n",
      "│ ---      ┆ Reported   ┆ ---      ┆ resolved   ┆     ┆ --- ┆ d_0        ┆ d_1        ┆ d_2        │\n",
      "│ str      ┆ ---        ┆ str      ┆ ---        ┆     ┆ str ┆ ---        ┆ ---        ┆ ---        │\n",
      "│          ┆ str        ┆          ┆ str        ┆     ┆     ┆ str        ┆ str        ┆ str        │\n",
      "╞══════════╪════════════╪══════════╪════════════╪═════╪═════╪════════════╪════════════╪════════════╡\n",
      "│ Insuffie ┆ January    ┆ resolved ┆ 10-May     ┆ ... ┆     ┆            ┆            ┆            │\n",
      "│ nct      ┆            ┆          ┆            ┆     ┆     ┆            ┆            ┆            │\n",
      "│ rights   ┆            ┆          ┆            ┆     ┆     ┆            ┆            ┆            │\n",
      "│ in       ┆            ┆          ┆            ┆     ┆     ┆            ┆            ┆            │\n",
      "│ vCenter… ┆            ┆          ┆            ┆     ┆     ┆            ┆            ┆            │\n",
      "│ n...     ┆            ┆          ┆            ┆     ┆     ┆            ┆            ┆            │\n",
      "│ LDAP     ┆ April      ┆ resolved ┆ June       ┆ ... ┆     ┆            ┆            ┆            │\n",
      "│ issues   ┆            ┆          ┆            ┆     ┆     ┆            ┆            ┆            │\n",
      "│ and DHCP ┆            ┆          ┆            ┆     ┆     ┆            ┆            ┆            │\n",
      "│ issues   ┆            ┆          ┆            ┆     ┆     ┆            ┆            ┆            │\n",
      "│ Error    ┆ 15-Sep     ┆ Resolved ┆ 19-Sep     ┆ ... ┆     ┆            ┆            ┆            │\n",
      "│ when     ┆            ┆          ┆            ┆     ┆     ┆            ┆            ┆            │\n",
      "│ using    ┆            ┆          ┆            ┆     ┆     ┆            ┆            ┆            │\n",
      "│ global   ┆            ┆          ┆            ┆     ┆     ┆            ┆            ┆            │\n",
      "│ entitlem ┆            ┆          ┆            ┆     ┆     ┆            ┆            ┆            │\n",
      "│ ...      ┆            ┆          ┆            ┆     ┆     ┆            ┆            ┆            │\n",
      "│ Need to  ┆ 3-Aug      ┆ resolved ┆ 14-Oct     ┆ ... ┆     ┆            ┆            ┆            │\n",
      "│ be able  ┆            ┆          ┆            ┆     ┆     ┆            ┆            ┆            │\n",
      "│ to       ┆            ┆          ┆            ┆     ┆     ┆            ┆            ┆            │\n",
      "│ access   ┆            ┆          ┆            ┆     ┆     ┆            ┆            ┆            │\n",
      "│ deskto.. ┆            ┆          ┆            ┆     ┆     ┆            ┆            ┆            │\n",
      "│ .        ┆            ┆          ┆            ┆     ┆     ┆            ┆            ┆            │\n",
      "│ ...      ┆ ...        ┆ ...      ┆ ...        ┆ ... ┆ ... ┆ ...        ┆ ...        ┆ ...        │\n",
      "│          ┆            ┆          ┆            ┆ ... ┆     ┆            ┆            ┆            │\n",
      "│          ┆            ┆          ┆            ┆ ... ┆     ┆            ┆            ┆            │\n",
      "│          ┆            ┆          ┆            ┆ ... ┆     ┆            ┆            ┆            │\n",
      "│          ┆            ┆          ┆            ┆ ... ┆     ┆            ┆            ┆            │\n",
      "└──────────┴────────────┴──────────┴────────────┴─────┴─────┴────────────┴────────────┴────────────┘\n"
     ]
    }
   ],
   "source": [
    "\n",
    "print(df)\n",
    "\n"
   ]
  },
  {
   "cell_type": "code",
   "execution_count": 18,
   "id": "79582509-c703-4a88-b4e6-5862dc0ef3f3",
   "metadata": {},
   "outputs": [],
   "source": [
    "import polars as pl\n",
    "\n",
    "# Read in the CSV file and store it in a Polars DataFrame\n",
    "df = pl.read_csv('mydata.csv')\n",
    "# Remove leading and trailing spaces from column names\n",
    "df = df.select\n"
   ]
  },
  {
   "cell_type": "code",
   "execution_count": 19,
   "id": "7be243df-8503-4d6b-981f-ecfb0ea98910",
   "metadata": {},
   "outputs": [
    {
     "data": {
      "text/plain": [
       "<bound method DataFrame.select of shape: (52, 12)\n",
       "┌──────────┬────────────┬──────────┬────────────┬─────┬─────┬────────────┬────────────┬────────────┐\n",
       "│ Issue    ┆ Date       ┆ Status   ┆ Date       ┆ ... ┆     ┆ _duplicate ┆ _duplicate ┆ _duplicate │\n",
       "│ ---      ┆ Reported   ┆ ---      ┆ resolved   ┆     ┆ --- ┆ d_0        ┆ d_1        ┆ d_2        │\n",
       "│ str      ┆ ---        ┆ str      ┆ ---        ┆     ┆ str ┆ ---        ┆ ---        ┆ ---        │\n",
       "│          ┆ str        ┆          ┆ str        ┆     ┆     ┆ str        ┆ str        ┆ str        │\n",
       "╞══════════╪════════════╪══════════╪════════════╪═════╪═════╪════════════╪════════════╪════════════╡\n",
       "│ Insuffie ┆ January    ┆ resolved ┆ 10-May     ┆ ... ┆     ┆            ┆            ┆            │\n",
       "│ nct      ┆            ┆          ┆            ┆     ┆     ┆            ┆            ┆            │\n",
       "│ rights   ┆            ┆          ┆            ┆     ┆     ┆            ┆            ┆            │\n",
       "│ in       ┆            ┆          ┆            ┆     ┆     ┆            ┆            ┆            │\n",
       "│ vCenter… ┆            ┆          ┆            ┆     ┆     ┆            ┆            ┆            │\n",
       "│ n...     ┆            ┆          ┆            ┆     ┆     ┆            ┆            ┆            │\n",
       "│ LDAP     ┆ April      ┆ resolved ┆ June       ┆ ... ┆     ┆            ┆            ┆            │\n",
       "│ issues   ┆            ┆          ┆            ┆     ┆     ┆            ┆            ┆            │\n",
       "│ and DHCP ┆            ┆          ┆            ┆     ┆     ┆            ┆            ┆            │\n",
       "│ issues   ┆            ┆          ┆            ┆     ┆     ┆            ┆            ┆            │\n",
       "│ Error    ┆ 15-Sep     ┆ Resolved ┆ 19-Sep     ┆ ... ┆     ┆            ┆            ┆            │\n",
       "│ when     ┆            ┆          ┆            ┆     ┆     ┆            ┆            ┆            │\n",
       "│ using    ┆            ┆          ┆            ┆     ┆     ┆            ┆            ┆            │\n",
       "│ global   ┆            ┆          ┆            ┆     ┆     ┆            ┆            ┆            │\n",
       "│ entitlem ┆            ┆          ┆            ┆     ┆     ┆            ┆            ┆            │\n",
       "│ ...      ┆            ┆          ┆            ┆     ┆     ┆            ┆            ┆            │\n",
       "│ Need to  ┆ 3-Aug      ┆ resolved ┆ 14-Oct     ┆ ... ┆     ┆            ┆            ┆            │\n",
       "│ be able  ┆            ┆          ┆            ┆     ┆     ┆            ┆            ┆            │\n",
       "│ to       ┆            ┆          ┆            ┆     ┆     ┆            ┆            ┆            │\n",
       "│ access   ┆            ┆          ┆            ┆     ┆     ┆            ┆            ┆            │\n",
       "│ deskto.. ┆            ┆          ┆            ┆     ┆     ┆            ┆            ┆            │\n",
       "│ .        ┆            ┆          ┆            ┆     ┆     ┆            ┆            ┆            │\n",
       "│ ...      ┆ ...        ┆ ...      ┆ ...        ┆ ... ┆ ... ┆ ...        ┆ ...        ┆ ...        │\n",
       "│          ┆            ┆          ┆            ┆ ... ┆     ┆            ┆            ┆            │\n",
       "│          ┆            ┆          ┆            ┆ ... ┆     ┆            ┆            ┆            │\n",
       "│          ┆            ┆          ┆            ┆ ... ┆     ┆            ┆            ┆            │\n",
       "│          ┆            ┆          ┆            ┆ ... ┆     ┆            ┆            ┆            │\n",
       "└──────────┴────────────┴──────────┴────────────┴─────┴─────┴────────────┴────────────┴────────────┘>"
      ]
     },
     "execution_count": 19,
     "metadata": {},
     "output_type": "execute_result"
    }
   ],
   "source": [
    "df"
   ]
  },
  {
   "cell_type": "code",
   "execution_count": 20,
   "id": "4336a580-b3d4-4cb5-9542-6415e6984a40",
   "metadata": {},
   "outputs": [
    {
     "name": "stdout",
     "output_type": "stream",
     "text": [
      "Traceback \u001b[1;36m(most recent call last)\u001b[0m:\n",
      "\u001b[1;36m  Input \u001b[1;32mIn [20]\u001b[1;36m in \u001b[1;35m<cell line: 11>\u001b[1;36m\u001b[0m\n",
      "\u001b[1;33m    df = df.with_column(pl.col(\"Date Reported\").str.parse_date(\"%m/%d/%Y\"))\u001b[0m\n",
      "\u001b[1;31mAttributeError\u001b[0m\u001b[1;31m:\u001b[0m 'ExprStringNameSpace' object has no attribute 'parse_date'\n",
      "\n",
      "Use %tb to get the full traceback.\n"
     ]
    },
    {
     "name": "stderr",
     "output_type": "stream",
     "text": [
      "/tmp/ipykernel_59/1782642395.py:11: DeprecationWarning: `DataFrame.with_column` has been renamed; this redirect is temporary, please use `.with_columns` instead\n",
      "  df = df.with_column(pl.col(\"Date Reported\").str.parse_date(\"%m/%d/%Y\"))\n"
     ]
    },
    {
     "data": {
      "text/html": [
       "\n",
       "<style>\n",
       ".button {\n",
       "  border: none;\n",
       "  color: white;\n",
       "  padding: 4px 8px;\n",
       "  text-align: center;\n",
       "  text-decoration: none;\n",
       "  display: inline-block;\n",
       "  font-size: 12px;\n",
       "  margin: 4px 2px;\n",
       "  transition-duration: 0.2s;\n",
       "  cursor: pointer;\n",
       "}\n",
       ".iqx-button {\n",
       "  background-color: #0f62fe; \n",
       "  color: white; \n",
       "}\n",
       ".iqx-button:hover {\n",
       "  background-color: #0043ce;\n",
       "  color: white;\n",
       "}\n",
       "</style>\n",
       "<a href=\"https://stackoverflow.com/search?q=AttributeError: 'ExprStringNameSpace' object has no attribute 'parse_date'\" target='_blank'><button class='button iqx-button'>Search for solution online</button></a>\n"
      ],
      "text/plain": [
       "<IPython.core.display.HTML object>"
      ]
     },
     "metadata": {},
     "output_type": "display_data"
    }
   ],
   "source": [
    "import polars as pl\n",
    "\n",
    "# Load the data\n",
    "df = pl.read_csv(\"mydata.csv\")\n",
    "\n",
    "# Select columns of interest\n",
    "df = df.select([\"Issue\", \"Date Reported\", \"Status\", \"Date resolved\", \"Impact\",\n",
    "                \"Classification\", \"Assigned to\", \"Resoultion\"])\n",
    "\n",
    "# Convert date columns to DateTime type\n",
    "df = df.with_column(pl.col(\"Date Reported\").str.parse_date(\"%m/%d/%Y\"))\n",
    "df = df.with_column(pl.col(\"Date resolved\").str.parse_date(\"%m/%d/%Y\"))\n",
    "\n",
    "# Compute the time to resolution for each issue\n",
    "df = df.with_column((pl.col(\"Date resolved\") - pl.col(\"Date Reported\")).alias(\"Time to resolution\"))\n",
    "\n",
    "# Group the data by status and compute the average time to resolution for each group\n",
    "df_grouped = df.groupby(\"Status\").agg({\"Time to resolution\": [\"mean\", \"min\", \"max\"]})\n",
    "\n",
    "# Print the result\n",
    "print(df_grouped)\n"
   ]
  },
  {
   "cell_type": "code",
   "execution_count": 21,
   "id": "e1830088-375a-4192-85a0-2d52cedb4a33",
   "metadata": {},
   "outputs": [],
   "source": [
    "import turtle\n"
   ]
  },
  {
   "cell_type": "code",
   "execution_count": null,
   "id": "5df09da6-8818-47ff-be37-67038adf2b07",
   "metadata": {},
   "outputs": [],
   "source": []
  }
 ],
 "metadata": {
  "kernelspec": {
   "display_name": "Python 3 (ipykernel)",
   "language": "python",
   "name": "python3"
  },
  "language_info": {
   "codemirror_mode": {
    "name": "ipython",
    "version": 3
   },
   "file_extension": ".py",
   "mimetype": "text/x-python",
   "name": "python",
   "nbconvert_exporter": "python",
   "pygments_lexer": "ipython3",
   "version": "3.10.8"
  },
  "widgets": {
   "application/vnd.jupyter.widget-state+json": {
    "state": {},
    "version_major": 2,
    "version_minor": 0
   }
  }
 },
 "nbformat": 4,
 "nbformat_minor": 5
}
