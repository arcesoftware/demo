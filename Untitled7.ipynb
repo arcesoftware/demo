{
 "cells": [
  {
   "cell_type": "code",
   "execution_count": 1,
   "id": "78ac35a7-4082-4afe-a86d-d44bc5552eae",
   "metadata": {
    "tags": []
   },
   "outputs": [],
   "source": [
    "# Importing standard Qiskit libraries\n",
    "from qiskit import QuantumCircuit, transpile\n",
    "from qiskit.tools.jupyter import *\n",
    "from qiskit.visualization import *\n",
    "from ibm_quantum_widgets import *\n",
    "from qiskit_aer import AerSimulator\n",
    "\n",
    "# qiskit-ibmq-provider has been deprecated.\n",
    "# Please see the Migration Guides in https://ibm.biz/provider_migration_guide for more detail.\n",
    "from qiskit_ibm_runtime import QiskitRuntimeService, Sampler, Estimator, Session, Options\n",
    "\n",
    "# Loading your IBM Quantum account(s)\n",
    "service = QiskitRuntimeService(channel=\"ibm_quantum\")\n",
    "\n",
    "# Invoke a primitive inside a session. For more details see https://qiskit.org/documentation/partners/qiskit_ibm_runtime/tutorials.html\n",
    "# with Session(backend=service.backend(\"ibmq_qasm_simulator\")):\n",
    "#     result = Sampler().run(circuits).result()"
   ]
  },
  {
   "cell_type": "code",
   "execution_count": 2,
   "id": "a68e60ec-3ffb-4758-bb7f-e0668e5ed9f0",
   "metadata": {
    "tags": []
   },
   "outputs": [],
   "source": [
    "import torch\n",
    "from torch.optim.optimizer import Optimizer\n",
    "\n",
    "class CustomOptimizer(Optimizer):\n",
    "    def __init__(self, params, lr, momentum, weight_decay, d_dim, k, alpha):\n",
    "        defaults = dict(lr=lr, momentum=momentum, weight_decay=weight_decay, d_dim=d_dim, k=k, alpha=alpha)\n",
    "        super().__init__(params, defaults)\n",
    "\n",
    "    def step(self, closure=None):\n",
    "        for group in self.param_groups:\n",
    "            lr = group['lr']\n",
    "            momentum = group['momentum']\n",
    "            weight_decay = group['weight_decay']\n",
    "            d_dim = group['d_dim']\n",
    "            k = group['k']\n",
    "            alpha = group['alpha']\n",
    "\n",
    "            for p in group['params']:\n",
    "                if p.grad is None:\n",
    "                    continue\n",
    "\n",
    "                grad = p.grad.data\n",
    "                shape = grad.shape\n",
    "                d = min(d_dim, len(shape))\n",
    "                flatten_dim = 1\n",
    "                for i in range(d):\n",
    "                    flatten_dim *= shape[i]\n",
    "                grad_2d = grad.view(flatten_dim, -1)\n",
    "\n",
    "                U, S, V = torch.svd(grad_2d)\n",
    "                Uk = U[:, :k]\n",
    "                Uk_norm = torch.norm(Uk, p='fro')\n",
    "                Wk = Uk / Uk_norm\n",
    "                W2k = U[:, :2*k] @ torch.diag(S[:2*k]) @ V[:2*k, :]\n",
    "                W2k_norm = torch.norm(W2k, p='fro')\n",
    "                Wk_norm = momentum * W2k_norm + (1 - momentum) * Uk_norm\n",
    "                Wk_normalized = Wk / Wk_norm\n",
    "\n",
    "                alpha_percentile = torch.kthvalue(torch.abs(Wk_normalized), int(alpha * flatten_dim))[0]\n",
    "                mask = torch.abs(Wk_normalized) >= alpha_percentile\n",
    "                Wk_truncated = Wk_normalized * mask\n",
    "\n",
    "                if 'momentum_buffer' not in state:\n",
    "                    state['momentum_buffer'] = torch.zeros_like(p.data)\n",
    "                momentum_buffer = state['momentum_buffer']\n",
    "\n",
    "                momentum_buffer.mul_(momentum).add_(Wk_truncated, alpha=1 - momentum)\n",
    "                p.data.add_(momentum_buffer, alpha=-lr)\n",
    "                p.data.add_(-lr * weight_decay, p.data)\n"
   ]
  },
  {
   "cell_type": "code",
   "execution_count": null,
   "id": "24bd9186-41a7-4a61-a0c6-365680c958a0",
   "metadata": {},
   "outputs": [],
   "source": []
  }
 ],
 "metadata": {
  "kernelspec": {
   "display_name": "Python 3 (ipykernel)",
   "language": "python",
   "name": "python3"
  },
  "language_info": {
   "codemirror_mode": {
    "name": "ipython",
    "version": 3
   },
   "file_extension": ".py",
   "mimetype": "text/x-python",
   "name": "python",
   "nbconvert_exporter": "python",
   "pygments_lexer": "ipython3",
   "version": "3.10.8"
  },
  "widgets": {
   "application/vnd.jupyter.widget-state+json": {
    "state": {
     "0c6ed2a246bf4822919d98da3ed956ca": {
      "model_module": "@jupyter-widgets/controls",
      "model_module_version": "2.0.0",
      "model_name": "HTMLModel",
      "state": {
       "layout": "IPY_MODEL_e41803e2adac45d48e8e6e1b98bdf8c1",
       "style": "IPY_MODEL_0f8cd1a4f86b442eb087277a74a407a9",
       "value": "<h5>Job ID</h5>"
      }
     },
     "0d52a432a5b8420a90deb1f90fd54b30": {
      "model_module": "@jupyter-widgets/base",
      "model_module_version": "2.0.0",
      "model_name": "LayoutModel",
      "state": {}
     },
     "0f8cd1a4f86b442eb087277a74a407a9": {
      "model_module": "@jupyter-widgets/controls",
      "model_module_version": "2.0.0",
      "model_name": "HTMLStyleModel",
      "state": {
       "description_width": "",
       "font_size": null,
       "text_color": null
      }
     },
     "10bf32d3a2014a4fa85030925412b092": {
      "model_module": "@jupyter-widgets/base",
      "model_module_version": "2.0.0",
      "model_name": "LayoutModel",
      "state": {
       "margin": "0px 0px 0px 37px",
       "width": "600px"
      }
     },
     "2a55a88ff94f4351861555a5c200fc59": {
      "model_module": "@jupyter-widgets/controls",
      "model_module_version": "2.0.0",
      "model_name": "GridBoxModel",
      "state": {
       "children": [
        "IPY_MODEL_a1c3f7fee8624e4588a1146191ec268e"
       ],
       "layout": "IPY_MODEL_f3da5562c59f452dbecdaeef0332e45f"
      }
     },
     "2a9616e33a974352b74294ee57a5de07": {
      "model_module": "@jupyter-widgets/controls",
      "model_module_version": "2.0.0",
      "model_name": "HTMLStyleModel",
      "state": {
       "description_width": "",
       "font_size": null,
       "text_color": null
      }
     },
     "302ba374f1ca461f9b216f0069b68a6a": {
      "model_module": "@jupyter-widgets/controls",
      "model_module_version": "2.0.0",
      "model_name": "ButtonStyleModel",
      "state": {
       "font_family": null,
       "font_size": null,
       "font_style": null,
       "font_variant": null,
       "font_weight": null,
       "text_color": null,
       "text_decoration": null
      }
     },
     "5cdd220ab45645c1843f1ed2986207dc": {
      "model_module": "@jupyter-widgets/base",
      "model_module_version": "2.0.0",
      "model_name": "LayoutModel",
      "state": {
       "grid_area": "right",
       "padding": "0px 0px 0px 0px",
       "width": "70px"
      }
     },
     "71a800c4b9024f2995ea2a91e59df717": {
      "model_module": "@jupyter-widgets/controls",
      "model_module_version": "2.0.0",
      "model_name": "HTMLModel",
      "state": {
       "layout": "IPY_MODEL_e4ad06755e1544faa11c730383377431",
       "style": "IPY_MODEL_e239a83e354741ee876d88e41c7da24b",
       "value": "<h5>Backend</h5>"
      }
     },
     "74f73ef179cf4abca823d9e51fcc6fea": {
      "model_module": "@jupyter-widgets/controls",
      "model_module_version": "2.0.0",
      "model_name": "HTMLStyleModel",
      "state": {
       "description_width": "",
       "font_size": null,
       "text_color": null
      }
     },
     "78a718cebf5e497bb885365bde783081": {
      "model_module": "@jupyter-widgets/base",
      "model_module_version": "2.0.0",
      "model_name": "LayoutModel",
      "state": {
       "width": "95px"
      }
     },
     "7a138a74071e4f1ba7b659d704888027": {
      "model_module": "@jupyter-widgets/controls",
      "model_module_version": "2.0.0",
      "model_name": "HTMLStyleModel",
      "state": {
       "description_width": "",
       "font_size": null,
       "text_color": null
      }
     },
     "807b7ec1b47243a7af88abf8da620a2d": {
      "model_module": "@jupyter-widgets/controls",
      "model_module_version": "2.0.0",
      "model_name": "HTMLStyleModel",
      "state": {
       "description_width": "",
       "font_size": null,
       "text_color": null
      }
     },
     "9944801aefb44fc586f5ed6a18b54139": {
      "model_module": "@jupyter-widgets/controls",
      "model_module_version": "2.0.0",
      "model_name": "HTMLModel",
      "state": {
       "layout": "IPY_MODEL_d2b7694c4a5c4b808b9b5b4e29f97a1f",
       "style": "IPY_MODEL_2a9616e33a974352b74294ee57a5de07",
       "value": "<p style='font-family: IBM Plex Sans, Arial, Helvetica, sans-serif; font-size: 20px; font-weight: medium;'>Circuit Properties</p>"
      }
     },
     "a1c3f7fee8624e4588a1146191ec268e": {
      "model_module": "@jupyter-widgets/controls",
      "model_module_version": "2.0.0",
      "model_name": "ButtonModel",
      "state": {
       "button_style": "primary",
       "description": "Clear",
       "layout": "IPY_MODEL_5cdd220ab45645c1843f1ed2986207dc",
       "style": "IPY_MODEL_302ba374f1ca461f9b216f0069b68a6a",
       "tooltip": null
      }
     },
     "c51ede63e80a4934849d4cb79e934a28": {
      "model_module": "@jupyter-widgets/base",
      "model_module_version": "2.0.0",
      "model_name": "LayoutModel",
      "state": {
       "width": "70px"
      }
     },
     "d2b7694c4a5c4b808b9b5b4e29f97a1f": {
      "model_module": "@jupyter-widgets/base",
      "model_module_version": "2.0.0",
      "model_name": "LayoutModel",
      "state": {
       "margin": "0px 0px 10px 0px"
      }
     },
     "d591a804077b40898a44f25087db3dcb": {
      "model_module": "@jupyter-widgets/controls",
      "model_module_version": "2.0.0",
      "model_name": "HTMLModel",
      "state": {
       "layout": "IPY_MODEL_c51ede63e80a4934849d4cb79e934a28",
       "style": "IPY_MODEL_7a138a74071e4f1ba7b659d704888027",
       "value": "<h5>Queue</h5>"
      }
     },
     "e239a83e354741ee876d88e41c7da24b": {
      "model_module": "@jupyter-widgets/controls",
      "model_module_version": "2.0.0",
      "model_name": "HTMLStyleModel",
      "state": {
       "description_width": "",
       "font_size": null,
       "text_color": null
      }
     },
     "e41803e2adac45d48e8e6e1b98bdf8c1": {
      "model_module": "@jupyter-widgets/base",
      "model_module_version": "2.0.0",
      "model_name": "LayoutModel",
      "state": {
       "width": "190px"
      }
     },
     "e4ad06755e1544faa11c730383377431": {
      "model_module": "@jupyter-widgets/base",
      "model_module_version": "2.0.0",
      "model_name": "LayoutModel",
      "state": {
       "width": "145px"
      }
     },
     "e7930c0323cf420a96c66d774127b39b": {
      "model_module": "@jupyter-widgets/controls",
      "model_module_version": "2.0.0",
      "model_name": "HTMLModel",
      "state": {
       "layout": "IPY_MODEL_0d52a432a5b8420a90deb1f90fd54b30",
       "style": "IPY_MODEL_74f73ef179cf4abca823d9e51fcc6fea",
       "value": "<h5>Message</h5>"
      }
     },
     "ee36280f487744d2af372418e4e666b4": {
      "model_module": "@jupyter-widgets/controls",
      "model_module_version": "2.0.0",
      "model_name": "HTMLModel",
      "state": {
       "layout": "IPY_MODEL_78a718cebf5e497bb885365bde783081",
       "style": "IPY_MODEL_807b7ec1b47243a7af88abf8da620a2d",
       "value": "<h5>Status</h5>"
      }
     },
     "f3da5562c59f452dbecdaeef0332e45f": {
      "model_module": "@jupyter-widgets/base",
      "model_module_version": "2.0.0",
      "model_name": "LayoutModel",
      "state": {
       "grid_template_areas": "\n                                       \". . . . right \"\n                                        ",
       "grid_template_columns": "20% 20% 20% 20% 20%",
       "width": "100%"
      }
     },
     "f622048623c5404cb776653f083306e0": {
      "model_module": "@jupyter-widgets/controls",
      "model_module_version": "2.0.0",
      "model_name": "HBoxModel",
      "state": {
       "children": [
        "IPY_MODEL_0c6ed2a246bf4822919d98da3ed956ca",
        "IPY_MODEL_71a800c4b9024f2995ea2a91e59df717",
        "IPY_MODEL_ee36280f487744d2af372418e4e666b4",
        "IPY_MODEL_d591a804077b40898a44f25087db3dcb",
        "IPY_MODEL_e7930c0323cf420a96c66d774127b39b"
       ],
       "layout": "IPY_MODEL_10bf32d3a2014a4fa85030925412b092"
      }
     }
    },
    "version_major": 2,
    "version_minor": 0
   }
  }
 },
 "nbformat": 4,
 "nbformat_minor": 5
}
