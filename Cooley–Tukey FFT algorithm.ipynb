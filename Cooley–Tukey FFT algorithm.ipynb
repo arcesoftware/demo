###
import numpy as np
import matplotlib.pyplot as plt

# This function performs bit-reverse copy of the input array 'a'
def bit_reverse_copy(a, A):
    # Get the length of the input array 'a'
    n = len(a)
    
    # Perform bit-reverse copy
    for k in range(n):
        # Calculate the bit-reversed index for each element in 'a'
        reversed_index = int(format(k, '0{}b'.format(int(np.log2(n))))[::-1], 2)
        # Assign the element from 'a' to the corresponding index in 'A'
        A[reversed_index] = a[k]
    return A

# This function performs iterative FFT (Fast Fourier Transform)
def iterative_fft(a):
    # Get the length of the input array 'a'
    n = len(a)
    # Create an array 'A' of size n and with data type 'complex'
    A = np.zeros(n, dtype=np.complex_)
    # Perform bit-reverse copy of 'a' into 'A'
    bit_reverse_copy(a, A)
    # Loop through each stage of the FFT
    for s in range(int(np.log2(n))):
        # Calculate the number of points in the current stage
        m = 2**(s + 1)
        # Calculate the twiddle factor
        w_m = np.exp(-2 * np.pi * 1j / m)
        # Loop through each group in the current stage
        for k in range(0, n, m):
            # Set the twiddle factor to 1
            w = 1
            # Loop through each butterfly operation in the current group
            for j in range(m//2):
                # Calculate intermediate values 't' and 'u'
                t = w * A[k + j + m//2]
                u = A[k + j]
                # Perform butterfly operation
                A[k + j] = u + t
                A[k + j + m//2] = u - t
                # Update the twiddle factor for the next butterfly operation
                w = w * w_m
    return A

# Generate a random input
np.random.seed(0)
a = np.random.rand(8) + 1j * np.random.rand(8)

# Calculate the DFT of the input
A = iterative_fft(a)

# Plot the result as an image
plt.imshow(np.abs(A).reshape(2, 4), cmap='gray')
plt.show()
