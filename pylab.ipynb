{
 "cells": [
  {
   "cell_type": "code",
   "execution_count": null,
   "metadata": {},
   "outputs": [
    {
     "name": "stdout",
     "output_type": "stream",
     "text": [
      "Choose visualization mode:\n",
      "1: Turtle Continuous Drawing\n",
      "2: Matplotlib Animation\n"
     ]
    }
   ],
   "source": [
    "import turtle\n",
    "import numpy as np\n",
    "from math import atan2\n",
    "from scipy.integrate import odeint\n",
    "import matplotlib.pyplot as plt\n",
    "from matplotlib.animation import FuncAnimation\n",
    "\n",
    "# Constants for the Lorenz-like system\n",
    "rho = 43.5\n",
    "sigma = 10.0\n",
    "beta = 8.0 / 3.0\n",
    "d0 = 19.0 / 3.0\n",
    "\n",
    "# Initial scale and dynamic range\n",
    "initial_scale = 10\n",
    "scale = 10\n",
    "offset_x, offset_y = 0, 0  # To center the plot dynamically\n",
    "\n",
    "# Define the system of equations\n",
    "def f(state, t):\n",
    "    x, y, z, y1, z1 = state\n",
    "    return (\n",
    "        sigma * (y - x),\n",
    "        x * (rho - z) - y,\n",
    "        x * y - x * y1 - beta * z,\n",
    "        x * z - 2 * x * z1 - d0 * y1,\n",
    "        2 * x * y1 - 4 * beta * z1\n",
    "    )\n",
    "\n",
    "# Initial conditions and time range\n",
    "state0 = [1.0, 1.0, 1.0, 1.0, 1.0]\n",
    "t = np.arange(0.0, 200.0, 0.01)  # Increased time range\n",
    "\n",
    "# Solve the differential equations\n",
    "states = odeint(f, state0, t)\n",
    "\n",
    "# Get bounds for dynamic scaling\n",
    "x_vals, z_vals = states[:, 0], states[:, 2]\n",
    "offset_x, offset_y = np.mean(x_vals), np.mean(z_vals)\n",
    "max_range = max(np.max(np.abs(x_vals)), np.max(np.abs(z_vals)))\n",
    "scale = 400 / max_range\n",
    "\n",
    "# Initialize Turtle\n",
    "turtle.screensize(canvwidth=7680, canvheight=4800, bg=\"black\")\n",
    "plotter = turtle.Turtle()\n",
    "plotter.speed(\"fastest\")\n",
    "plotter.pensize(1)\n",
    "plotter.radians()\n",
    "plotter.pendown()\n",
    "\n",
    "# Create a color gradient\n",
    "colors = plt.cm.plasma(np.linspace(0, 1, len(states)))\n",
    "\n",
    "# Function to draw using turtle dynamically\n",
    "def draw_lorenz():\n",
    "    global states\n",
    "    while True:\n",
    "        for i, (x, y, z, y1, z1) in enumerate(states):\n",
    "            plotter.setpos((x - offset_x) * scale, (z - offset_y) * scale)\n",
    "            plotter.setheading(atan2(z1, y1))\n",
    "            plotter.pencolor(colors[i][0], colors[i][1], colors[i][2])\n",
    "        # Recompute states dynamically\n",
    "        final_state = states[-1]\n",
    "        t_next = np.arange(t[-1] + 0.01, t[-1] + 200.0, 0.01)\n",
    "        states = odeint(f, final_state, t_next)\n",
    "\n",
    "# Optional: Matplotlib animation for visualization\n",
    "def matplotlib_animation():\n",
    "    fig, ax = plt.subplots()\n",
    "    ax.set_xlim(-50, 50)\n",
    "    ax.set_ylim(-50, 50)\n",
    "    line, = ax.plot([], [], lw=2)\n",
    "\n",
    "    def init():\n",
    "        line.set_data([], [])\n",
    "        return line,\n",
    "\n",
    "    def update(frame):\n",
    "        line.set_data(states[:frame, 0], states[:frame, 2])\n",
    "        return line,\n",
    "\n",
    "    ani = FuncAnimation(fig, update, frames=len(states), init_func=init, blit=True)\n",
    "    plt.show()\n",
    "\n",
    "# Run the options\n",
    "print(\"Choose visualization mode:\\n1: Turtle Continuous Drawing\\n2: Matplotlib Animation\")\n",
    "choice = input(\"Enter choice (1 or 2): \")\n",
    "if choice == \"1\":\n",
    "    draw_lorenz()\n",
    "elif choice == \"2\":\n",
    "    matplotlib_animation()\n",
    "else:\n",
    "    print(\"Invalid choice.\")\n",
    "\n",
    "# Keep the window open until closed\n",
    "turtle.done()\n"
   ]
  },
  {
   "cell_type": "code",
   "execution_count": null,
   "metadata": {},
   "outputs": [],
   "source": []
  },
  {
   "cell_type": "code",
   "execution_count": null,
   "metadata": {},
   "outputs": [],
   "source": []
  },
  {
   "cell_type": "code",
   "execution_count": null,
   "metadata": {},
   "outputs": [],
   "source": []
  },
  {
   "cell_type": "code",
   "execution_count": null,
   "metadata": {},
   "outputs": [],
   "source": []
  },
  {
   "cell_type": "code",
   "execution_count": null,
   "metadata": {},
   "outputs": [],
   "source": []
  },
  {
   "cell_type": "code",
   "execution_count": null,
   "metadata": {},
   "outputs": [],
   "source": []
  },
  {
   "cell_type": "code",
   "execution_count": null,
   "metadata": {},
   "outputs": [],
   "source": []
  },
  {
   "cell_type": "code",
   "execution_count": null,
   "metadata": {},
   "outputs": [],
   "source": []
  },
  {
   "cell_type": "code",
   "execution_count": null,
   "metadata": {},
   "outputs": [],
   "source": []
  },
  {
   "cell_type": "code",
   "execution_count": null,
   "metadata": {},
   "outputs": [],
   "source": []
  },
  {
   "cell_type": "code",
   "execution_count": null,
   "metadata": {},
   "outputs": [],
   "source": []
  }
 ],
 "metadata": {
  "kernelspec": {
   "display_name": "cwq",
   "language": "python",
   "name": "python3"
  },
  "language_info": {
   "codemirror_mode": {
    "name": "ipython",
    "version": 3
   },
   "file_extension": ".py",
   "mimetype": "text/x-python",
   "name": "python",
   "nbconvert_exporter": "python",
   "pygments_lexer": "ipython3",
   "version": "3.11.11"
  }
 },
 "nbformat": 4,
 "nbformat_minor": 2
}
