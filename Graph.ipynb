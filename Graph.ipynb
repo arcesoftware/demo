{
 "cells": [
  {
   "cell_type": "code",
   "execution_count": 1,
   "id": "3aca0ab7-8bd8-41ed-b0d1-e4f78f8a656c",
   "metadata": {},
   "outputs": [
    {
     "name": "stderr",
     "output_type": "stream",
     "text": [
      "<frozen importlib._bootstrap>:219: RuntimeWarning: scipy._lib.messagestream.MessageStream size changed, may indicate binary incompatibility. Expected 56 from C header, got 64 from PyObject\n"
     ]
    }
   ],
   "source": [
    "import numpy as np\n",
    "\n",
    "# Importing standard Qiskit libraries\n",
    "from qiskit import QuantumCircuit, transpile, Aer, IBMQ\n",
    "from qiskit.tools.jupyter import *\n",
    "from qiskit.visualization import *\n",
    "from ibm_quantum_widgets import *\n",
    "from qiskit.providers.aer import QasmSimulator\n",
    "\n",
    "# Loading your IBM Quantum account(s)\n",
    "provider = IBMQ.load_account()"
   ]
  },
  {
   "cell_type": "code",
   "execution_count": 2,
   "id": "8f3bee51-eb93-4916-a359-211d9140c9a1",
   "metadata": {},
   "outputs": [
    {
     "name": "stdout",
     "output_type": "stream",
     "text": [
      "Requirement already satisfied: Turtle in /opt/conda/lib/python3.8/site-packages (0.0.1)\n",
      "Requirement already satisfied: PyYAML>=3.08 in /opt/conda/lib/python3.8/site-packages (from Turtle) (6.0)\n"
     ]
    }
   ],
   "source": [
    "!pip install Turtle\n"
   ]
  },
  {
   "cell_type": "code",
   "execution_count": 3,
   "id": "890dd68d-dbee-44b4-9971-9bb151fc931c",
   "metadata": {},
   "outputs": [],
   "source": [
    "import turtle as t"
   ]
  },
  {
   "cell_type": "code",
   "execution_count": 1,
   "id": "b5a9aed2-d592-495e-8f7e-5bb4df180c72",
   "metadata": {},
   "outputs": [
    {
     "name": "stdout",
     "output_type": "stream",
     "text": [
      "Traceback \u001b[1;36m(most recent call last)\u001b[0m:\n",
      "  Input \u001b[0;32mIn [1]\u001b[0m in \u001b[0;35m<cell line: 15>\u001b[0m\n",
      "    t = turtle.Turtle()\n",
      "  File \u001b[0;32m/opt/conda/lib/python3.8/turtle.py:3813\u001b[0m in \u001b[0;35m__init__\u001b[0m\n",
      "    Turtle._screen = Screen()\n",
      "  File \u001b[0;32m/opt/conda/lib/python3.8/turtle.py:3663\u001b[0m in \u001b[0;35mScreen\u001b[0m\n",
      "    Turtle._screen = _Screen()\n",
      "  File \u001b[0;32m/opt/conda/lib/python3.8/turtle.py:3679\u001b[0m in \u001b[0;35m__init__\u001b[0m\n",
      "    _Screen._root = self._root = _Root()\n",
      "  File \u001b[0;32m/opt/conda/lib/python3.8/turtle.py:435\u001b[0m in \u001b[0;35m__init__\u001b[0m\n",
      "    TK.Tk.__init__(self)\n",
      "\u001b[1;36m  File \u001b[1;32m/opt/conda/lib/python3.8/tkinter/__init__.py:2270\u001b[1;36m in \u001b[1;35m__init__\u001b[1;36m\u001b[0m\n",
      "\u001b[1;33m    self.tk = _tkinter.create(screenName, baseName, className, interactive, wantobjects, useTk, sync, use)\u001b[0m\n",
      "\u001b[1;31mTclError\u001b[0m\u001b[1;31m:\u001b[0m no display name and no $DISPLAY environment variable\n",
      "\n",
      "Use %tb to get the full traceback.\n"
     ]
    },
    {
     "data": {
      "text/html": [
       "\n",
       "<style>\n",
       ".button {\n",
       "  border: none;\n",
       "  color: white;\n",
       "  padding: 4px 8px;\n",
       "  text-align: center;\n",
       "  text-decoration: none;\n",
       "  display: inline-block;\n",
       "  font-size: 12px;\n",
       "  margin: 4px 2px;\n",
       "  transition-duration: 0.2s;\n",
       "  cursor: pointer;\n",
       "}\n",
       ".iqx-button {\n",
       "  background-color: #0f62fe; \n",
       "  color: white; \n",
       "}\n",
       ".iqx-button:hover {\n",
       "  background-color: #0043ce;\n",
       "  color: white;\n",
       "}\n",
       "</style>\n",
       "<a href=\"https://stackoverflow.com/search?q=TclError: no display name and no $DISPLAY environment variable\" target='_blank'><button class='button iqx-button'>Search for solution online</button></a>\n"
      ],
      "text/plain": [
       "<IPython.core.display.HTML object>"
      ]
     },
     "metadata": {},
     "output_type": "display_data"
    }
   ],
   "source": [
    "import turtle\n",
    "import numpy as np\n",
    "\n",
    "# Set the values of ρ, σ, and β\n",
    "rho = 28\n",
    "sigma = 10\n",
    "beta = 8/3\n",
    "scale = 10\n",
    "dt = 0.01  # time step\n",
    "\n",
    "# Set the initial conditions\n",
    "x, y, z = 1.0, 1.0, 1.0\n",
    "dx, dy = 0.0, 0.0  # initialize the x velocity\n",
    "# Create a turtle and set the pen size\n",
    "t = turtle.Turtle()\n",
    "t.speed('fastest')\n",
    "t.pensize(1)\n",
    "t.pencolor('red')\n",
    "t.radians()\n",
    "t.pendown()\n",
    "\n",
    "while True:\n",
    "    t.setpos(x*scale, y*scale)\n",
    "    t.setheading(atan2(dy, dx))\n",
    "    \n",
    "    # Solve the differential equations\n",
    "    dx = (sigma * (y - x)) * dt\n",
    "    dy = (x * (rho - z) - y) * dt\n",
    "    dz = (x * y - beta * z) * dt\n",
    "    \n",
    "    x += dx\n",
    "    y += dy\n",
    "    z += dz\n"
   ]
  },
  {
   "cell_type": "code",
   "execution_count": 6,
   "id": "f0840231-d0cb-4d1d-a89d-3e032ece65c2",
   "metadata": {},
   "outputs": [
    {
     "name": "stdout",
     "output_type": "stream",
     "text": [
      "Traceback \u001b[1;36m(most recent call last)\u001b[0m:\n",
      "  Input \u001b[0;32mIn [6]\u001b[0m in \u001b[0;35m<cell line: 12>\u001b[0m\n",
      "    t = turtle.Turtle()\n",
      "  File \u001b[0;32m/opt/conda/lib/python3.8/turtle.py:3813\u001b[0m in \u001b[0;35m__init__\u001b[0m\n",
      "    Turtle._screen = Screen()\n",
      "  File \u001b[0;32m/opt/conda/lib/python3.8/turtle.py:3663\u001b[0m in \u001b[0;35mScreen\u001b[0m\n",
      "    Turtle._screen = _Screen()\n",
      "  File \u001b[0;32m/opt/conda/lib/python3.8/turtle.py:3679\u001b[0m in \u001b[0;35m__init__\u001b[0m\n",
      "    _Screen._root = self._root = _Root()\n",
      "  File \u001b[0;32m/opt/conda/lib/python3.8/turtle.py:435\u001b[0m in \u001b[0;35m__init__\u001b[0m\n",
      "    TK.Tk.__init__(self)\n",
      "\u001b[1;36m  File \u001b[1;32m/opt/conda/lib/python3.8/tkinter/__init__.py:2270\u001b[1;36m in \u001b[1;35m__init__\u001b[1;36m\u001b[0m\n",
      "\u001b[1;33m    self.tk = _tkinter.create(screenName, baseName, className, interactive, wantobjects, useTk, sync, use)\u001b[0m\n",
      "\u001b[1;31mTclError\u001b[0m\u001b[1;31m:\u001b[0m no display name and no $DISPLAY environment variable\n",
      "\n",
      "Use %tb to get the full traceback.\n"
     ]
    },
    {
     "data": {
      "text/html": [
       "\n",
       "<style>\n",
       ".button {\n",
       "  border: none;\n",
       "  color: white;\n",
       "  padding: 4px 8px;\n",
       "  text-align: center;\n",
       "  text-decoration: none;\n",
       "  display: inline-block;\n",
       "  font-size: 12px;\n",
       "  margin: 4px 2px;\n",
       "  transition-duration: 0.2s;\n",
       "  cursor: pointer;\n",
       "}\n",
       ".iqx-button {\n",
       "  background-color: #0f62fe; \n",
       "  color: white; \n",
       "}\n",
       ".iqx-button:hover {\n",
       "  background-color: #0043ce;\n",
       "  color: white;\n",
       "}\n",
       "</style>\n",
       "<a href=\"https://stackoverflow.com/search?q=TclError: no display name and no $DISPLAY environment variable\" target='_blank'><button class='button iqx-button'>Search for solution online</button></a>\n"
      ],
      "text/plain": [
       "<IPython.core.display.HTML object>"
      ]
     },
     "metadata": {},
     "output_type": "display_data"
    }
   ],
   "source": [
    "\n"
   ]
  },
  {
   "cell_type": "code",
   "execution_count": null,
   "id": "32d6a809-0e7a-4266-8bf8-56d52c87d4ab",
   "metadata": {},
   "outputs": [],
   "source": []
  }
 ],
 "metadata": {
  "kernelspec": {
   "display_name": "Python 3 (ipykernel)",
   "language": "python",
   "name": "python3"
  },
  "language_info": {
   "codemirror_mode": {
    "name": "ipython",
    "version": 3
   },
   "file_extension": ".py",
   "mimetype": "text/x-python",
   "name": "python",
   "nbconvert_exporter": "python",
   "pygments_lexer": "ipython3",
   "version": "3.8.13"
  },
  "widgets": {
   "application/vnd.jupyter.widget-state+json": {
    "state": {},
    "version_major": 2,
    "version_minor": 0
   }
  }
 },
 "nbformat": 4,
 "nbformat_minor": 5
}
