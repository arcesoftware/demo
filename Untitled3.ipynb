{
 "cells": [
  {
   "cell_type": "code",
   "execution_count": 1,
   "id": "056c897e-a0a5-4970-a5a7-fc78aeb745ea",
   "metadata": {},
   "outputs": [
    {
     "name": "stderr",
     "output_type": "stream",
     "text": [
      "<frozen importlib._bootstrap>:219: RuntimeWarning: scipy._lib.messagestream.MessageStream size changed, may indicate binary incompatibility. Expected 56 from C header, got 64 from PyObject\n"
     ]
    }
   ],
   "source": [
    "import numpy as np\n",
    "\n",
    "# Importing standard Qiskit libraries\n",
    "from qiskit import QuantumCircuit, transpile, Aer, IBMQ\n",
    "from qiskit.tools.jupyter import *\n",
    "from qiskit.visualization import *\n",
    "from ibm_quantum_widgets import *\n",
    "from qiskit.providers.aer import QasmSimulator\n",
    "\n",
    "# Loading your IBM Quantum account(s)\n",
    "provider = IBMQ.load_account()"
   ]
  },
  {
   "cell_type": "code",
   "execution_count": null,
   "id": "78f24913-b9d4-4730-9482-fd0ecad8415c",
   "metadata": {},
   "outputs": [],
   "source": []
  }
 ],
 "metadata": {
  "kernelspec": {
   "display_name": "Python 3 (ipykernel)",
   "language": "python",
   "name": "python3"
  },
  "language_info": {
   "codemirror_mode": {
    "name": "ipython",
    "version": 3
   },
   "file_extension": ".py",
   "mimetype": "text/x-python",
   "name": "python",
   "nbconvert_exporter": "python",
   "pygments_lexer": "ipython3",
   "version": "3.8.13"
  },
  "widgets": {
   "application/vnd.jupyter.widget-state+json": {
    "state": {
     "10f6aa06e7594928897bb060bfec9528": {
      "model_module": "@jupyter-widgets/base",
      "model_module_version": "1.2.0",
      "model_name": "LayoutModel",
      "state": {
       "width": "95px"
      }
     },
     "17eff17606c24c59a2c4af7fddadc2b0": {
      "model_module": "@jupyter-widgets/controls",
      "model_module_version": "1.5.0",
      "model_name": "HBoxModel",
      "state": {
       "children": [
        "IPY_MODEL_19abc0a62c88400e80346054a836049a",
        "IPY_MODEL_b2a36902ea004e7b9e1c1851eff03755",
        "IPY_MODEL_438d140b83a0479aa337685429b5ee88",
        "IPY_MODEL_b8e5e52862d349ae8f9860d567370fbf",
        "IPY_MODEL_b53afeb25ea845278ca8b964ba34e2cb"
       ],
       "layout": "IPY_MODEL_48aa50f0f6464102b62c62c696bed020"
      }
     },
     "19abc0a62c88400e80346054a836049a": {
      "model_module": "@jupyter-widgets/controls",
      "model_module_version": "1.5.0",
      "model_name": "HTMLModel",
      "state": {
       "layout": "IPY_MODEL_97449ca4d3ca4d16aa49fe02c02dc646",
       "style": "IPY_MODEL_cf66a083041d4b54bb58984663de8a83",
       "value": "<h5>Job ID</h5>"
      }
     },
     "1ef1d999c73c4753806a1168a033a1ba": {
      "model_module": "@jupyter-widgets/controls",
      "model_module_version": "1.5.0",
      "model_name": "HTMLModel",
      "state": {
       "layout": "IPY_MODEL_cc0a309ed60f4e21b3f7a1fb6b818d8c",
       "style": "IPY_MODEL_a198d96fe69a400683d8e77915b88daf",
       "value": "<p style='font-family: IBM Plex Sans, Arial, Helvetica, sans-serif; font-size: 20px; font-weight: medium;'>Circuit Properties</p>"
      }
     },
     "203a526a371a423bbac7dfb89011c656": {
      "model_module": "@jupyter-widgets/controls",
      "model_module_version": "1.5.0",
      "model_name": "ButtonStyleModel",
      "state": {}
     },
     "376cfa0143634b3d9e791583c1ff0527": {
      "model_module": "@jupyter-widgets/base",
      "model_module_version": "1.2.0",
      "model_name": "LayoutModel",
      "state": {
       "grid_template_areas": "\n                                       \". . . . right \"\n                                        ",
       "grid_template_columns": "20% 20% 20% 20% 20%",
       "width": "100%"
      }
     },
     "3e3782e15d0641acb406cdbd03d88336": {
      "model_module": "@jupyter-widgets/controls",
      "model_module_version": "1.5.0",
      "model_name": "ButtonModel",
      "state": {
       "button_style": "primary",
       "description": "Clear",
       "layout": "IPY_MODEL_85889d84845846a59a2c1b022fb9ab86",
       "style": "IPY_MODEL_203a526a371a423bbac7dfb89011c656"
      }
     },
     "3f8bc5ad959649c181a8ff2b4134af33": {
      "model_module": "@jupyter-widgets/controls",
      "model_module_version": "1.5.0",
      "model_name": "GridBoxModel",
      "state": {
       "children": [
        "IPY_MODEL_3e3782e15d0641acb406cdbd03d88336"
       ],
       "layout": "IPY_MODEL_376cfa0143634b3d9e791583c1ff0527"
      }
     },
     "438d140b83a0479aa337685429b5ee88": {
      "model_module": "@jupyter-widgets/controls",
      "model_module_version": "1.5.0",
      "model_name": "HTMLModel",
      "state": {
       "layout": "IPY_MODEL_10f6aa06e7594928897bb060bfec9528",
       "style": "IPY_MODEL_43ad8093365c44dd9cb2506e53b9a882",
       "value": "<h5>Status</h5>"
      }
     },
     "43ad8093365c44dd9cb2506e53b9a882": {
      "model_module": "@jupyter-widgets/controls",
      "model_module_version": "1.5.0",
      "model_name": "DescriptionStyleModel",
      "state": {
       "description_width": ""
      }
     },
     "48aa50f0f6464102b62c62c696bed020": {
      "model_module": "@jupyter-widgets/base",
      "model_module_version": "1.2.0",
      "model_name": "LayoutModel",
      "state": {
       "margin": "0px 0px 0px 37px",
       "width": "600px"
      }
     },
     "712449c15147426aab4ea887a7befbb0": {
      "model_module": "@jupyter-widgets/controls",
      "model_module_version": "1.5.0",
      "model_name": "DescriptionStyleModel",
      "state": {
       "description_width": ""
      }
     },
     "85889d84845846a59a2c1b022fb9ab86": {
      "model_module": "@jupyter-widgets/base",
      "model_module_version": "1.2.0",
      "model_name": "LayoutModel",
      "state": {
       "grid_area": "right",
       "padding": "0px 0px 0px 0px",
       "width": "70px"
      }
     },
     "90679108290e419a902cf29acedd2471": {
      "model_module": "@jupyter-widgets/base",
      "model_module_version": "1.2.0",
      "model_name": "LayoutModel",
      "state": {
       "width": "145px"
      }
     },
     "91aa85bab057435d967af834347a434b": {
      "model_module": "@jupyter-widgets/controls",
      "model_module_version": "1.5.0",
      "model_name": "DescriptionStyleModel",
      "state": {
       "description_width": ""
      }
     },
     "97449ca4d3ca4d16aa49fe02c02dc646": {
      "model_module": "@jupyter-widgets/base",
      "model_module_version": "1.2.0",
      "model_name": "LayoutModel",
      "state": {
       "width": "190px"
      }
     },
     "a198d96fe69a400683d8e77915b88daf": {
      "model_module": "@jupyter-widgets/controls",
      "model_module_version": "1.5.0",
      "model_name": "DescriptionStyleModel",
      "state": {
       "description_width": ""
      }
     },
     "b2a36902ea004e7b9e1c1851eff03755": {
      "model_module": "@jupyter-widgets/controls",
      "model_module_version": "1.5.0",
      "model_name": "HTMLModel",
      "state": {
       "layout": "IPY_MODEL_90679108290e419a902cf29acedd2471",
       "style": "IPY_MODEL_91aa85bab057435d967af834347a434b",
       "value": "<h5>Backend</h5>"
      }
     },
     "b53afeb25ea845278ca8b964ba34e2cb": {
      "model_module": "@jupyter-widgets/controls",
      "model_module_version": "1.5.0",
      "model_name": "HTMLModel",
      "state": {
       "layout": "IPY_MODEL_edec72d302c84a84a86781e28e44288d",
       "style": "IPY_MODEL_c466ca1f634048728eb2de7b55c64dd9",
       "value": "<h5>Message</h5>"
      }
     },
     "b8e5e52862d349ae8f9860d567370fbf": {
      "model_module": "@jupyter-widgets/controls",
      "model_module_version": "1.5.0",
      "model_name": "HTMLModel",
      "state": {
       "layout": "IPY_MODEL_cd89e8dfb44f42c6ae171e363b4154d9",
       "style": "IPY_MODEL_712449c15147426aab4ea887a7befbb0",
       "value": "<h5>Queue</h5>"
      }
     },
     "c466ca1f634048728eb2de7b55c64dd9": {
      "model_module": "@jupyter-widgets/controls",
      "model_module_version": "1.5.0",
      "model_name": "DescriptionStyleModel",
      "state": {
       "description_width": ""
      }
     },
     "cc0a309ed60f4e21b3f7a1fb6b818d8c": {
      "model_module": "@jupyter-widgets/base",
      "model_module_version": "1.2.0",
      "model_name": "LayoutModel",
      "state": {
       "margin": "0px 0px 10px 0px"
      }
     },
     "cd89e8dfb44f42c6ae171e363b4154d9": {
      "model_module": "@jupyter-widgets/base",
      "model_module_version": "1.2.0",
      "model_name": "LayoutModel",
      "state": {
       "width": "70px"
      }
     },
     "cf66a083041d4b54bb58984663de8a83": {
      "model_module": "@jupyter-widgets/controls",
      "model_module_version": "1.5.0",
      "model_name": "DescriptionStyleModel",
      "state": {
       "description_width": ""
      }
     },
     "edec72d302c84a84a86781e28e44288d": {
      "model_module": "@jupyter-widgets/base",
      "model_module_version": "1.2.0",
      "model_name": "LayoutModel",
      "state": {}
     }
    },
    "version_major": 2,
    "version_minor": 0
   }
  }
 },
 "nbformat": 4,
 "nbformat_minor": 5
}
