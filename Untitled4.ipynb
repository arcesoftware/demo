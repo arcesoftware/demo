{
 "cells": [
  {
   "cell_type": "code",
   "execution_count": 1,
   "id": "ed7d5e26-c6eb-488e-baba-ecead184304c",
   "metadata": {},
   "outputs": [
    {
     "name": "stderr",
     "output_type": "stream",
     "text": [
      "<frozen importlib._bootstrap>:219: RuntimeWarning: scipy._lib.messagestream.MessageStream size changed, may indicate binary incompatibility. Expected 56 from C header, got 64 from PyObject\n"
     ]
    }
   ],
   "source": [
    "import numpy as np\n",
    "\n",
    "# Importing standard Qiskit libraries\n",
    "from qiskit import QuantumCircuit, transpile, Aer, IBMQ\n",
    "from qiskit.tools.jupyter import *\n",
    "from qiskit.visualization import *\n",
    "from ibm_quantum_widgets import *\n",
    "from qiskit.providers.aer import QasmSimulator\n",
    "\n",
    "# Loading your IBM Quantum account(s)\n",
    "provider = IBMQ.load_account()"
   ]
  },
  {
   "cell_type": "code",
   "execution_count": 2,
   "id": "2226b42e-c904-40fb-9afd-63a9d11a8a36",
   "metadata": {},
   "outputs": [
    {
     "name": "stdout",
     "output_type": "stream",
     "text": [
      "Requirement already satisfied: attrs in /opt/conda/lib/python3.8/site-packages (21.4.0)\n",
      "Requirement already satisfied: packaging in /opt/conda/lib/python3.8/site-packages (21.3)\n",
      "Collecting editables\n",
      "  Downloading editables-0.3-py3-none-any.whl (4.7 kB)\n",
      "Requirement already satisfied: pandas in /opt/conda/lib/python3.8/site-packages (1.3.5)\n",
      "Collecting sklearn\n",
      "  Downloading sklearn-0.0.post1.tar.gz (3.6 kB)\n",
      "Requirement already satisfied: sortedcontainers in /opt/conda/lib/python3.8/site-packages (2.4.0)\n",
      "Requirement already satisfied: gmpy2 in /opt/conda/lib/python3.8/site-packages (2.1.2)\n",
      "Requirement already satisfied: matplotlib in /opt/conda/lib/python3.8/site-packages (3.5.1)\n",
      "Requirement already satisfied: python-dateutil>=2.7 in /opt/conda/lib/python3.8/site-packages (from matplotlib) (2.8.2)\n",
      "Requirement already satisfied: pillow>=6.2.0 in /opt/conda/lib/python3.8/site-packages (from matplotlib) (9.0.1)\n",
      "Requirement already satisfied: cycler>=0.10 in /opt/conda/lib/python3.8/site-packages (from matplotlib) (0.11.0)\n",
      "Requirement already satisfied: fonttools>=4.22.0 in /opt/conda/lib/python3.8/site-packages (from matplotlib) (4.31.2)\n",
      "Requirement already satisfied: kiwisolver>=1.0.1 in /opt/conda/lib/python3.8/site-packages (from matplotlib) (1.4.2)\n",
      "Requirement already satisfied: numpy>=1.17 in /opt/conda/lib/python3.8/site-packages (from matplotlib) (1.22.4)\n",
      "Requirement already satisfied: pyparsing>=2.2.1 in /opt/conda/lib/python3.8/site-packages (from matplotlib) (3.0.7)\n",
      "Requirement already satisfied: six>=1.5 in /opt/conda/lib/python3.8/site-packages (from python-dateutil>=2.7->matplotlib) (1.16.0)\n",
      "Requirement already satisfied: pytz>=2017.3 in /opt/conda/lib/python3.8/site-packages (from pandas) (2022.6)\n",
      "Building wheels for collected packages: sklearn\n",
      "  Building wheel for sklearn (setup.py) ... \u001b[?25ldone\n",
      "\u001b[?25h  Created wheel for sklearn: filename=sklearn-0.0.post1-py3-none-any.whl size=2959 sha256=5429be0b7cf5ec07a7854acc238e745e20497dad04681ddad0f30881ddb7f798\n",
      "  Stored in directory: /home/jovyan/.cache/pip/wheels/14/25/f7/1cc0956978ae479e75140219088deb7a36f60459df242b1a72\n",
      "Successfully built sklearn\n",
      "Installing collected packages: sklearn, editables\n",
      "Successfully installed editables-0.3 sklearn-0.0.post1\n",
      "Collecting gosdt\n",
      "  Downloading gosdt-0.1.7-cp37-abi3-manylinux_2_17_x86_64.manylinux2014_x86_64.whl (748 kB)\n",
      "\u001b[K     |████████████████████████████████| 748 kB 23.2 MB/s eta 0:00:01\n",
      "\u001b[?25hRequirement already satisfied: setuptools in /opt/conda/lib/python3.8/site-packages (from gosdt) (61.2.0)\n",
      "Requirement already satisfied: pandas in /opt/conda/lib/python3.8/site-packages (from gosdt) (1.3.5)\n",
      "Requirement already satisfied: attrs in /opt/conda/lib/python3.8/site-packages (from gosdt) (21.4.0)\n",
      "Requirement already satisfied: gmpy2 in /opt/conda/lib/python3.8/site-packages (from gosdt) (2.1.2)\n",
      "Requirement already satisfied: sklearn in /opt/conda/lib/python3.8/site-packages (from gosdt) (0.0.post1)\n",
      "Requirement already satisfied: matplotlib in /opt/conda/lib/python3.8/site-packages (from gosdt) (3.5.1)\n",
      "Collecting editables==0.2\n",
      "  Downloading editables-0.2-py3-none-any.whl (4.6 kB)\n",
      "Requirement already satisfied: sortedcontainers in /opt/conda/lib/python3.8/site-packages (from gosdt) (2.4.0)\n",
      "Requirement already satisfied: wheel in /opt/conda/lib/python3.8/site-packages (from gosdt) (0.38.2)\n",
      "Requirement already satisfied: packaging>=20.9 in /opt/conda/lib/python3.8/site-packages (from gosdt) (21.3)\n",
      "Requirement already satisfied: pyparsing!=3.0.5,>=2.0.2 in /opt/conda/lib/python3.8/site-packages (from packaging>=20.9->gosdt) (3.0.7)\n",
      "Requirement already satisfied: numpy>=1.17 in /opt/conda/lib/python3.8/site-packages (from matplotlib->gosdt) (1.22.4)\n",
      "Requirement already satisfied: pillow>=6.2.0 in /opt/conda/lib/python3.8/site-packages (from matplotlib->gosdt) (9.0.1)\n",
      "Requirement already satisfied: fonttools>=4.22.0 in /opt/conda/lib/python3.8/site-packages (from matplotlib->gosdt) (4.31.2)\n",
      "Requirement already satisfied: kiwisolver>=1.0.1 in /opt/conda/lib/python3.8/site-packages (from matplotlib->gosdt) (1.4.2)\n",
      "Requirement already satisfied: cycler>=0.10 in /opt/conda/lib/python3.8/site-packages (from matplotlib->gosdt) (0.11.0)\n",
      "Requirement already satisfied: python-dateutil>=2.7 in /opt/conda/lib/python3.8/site-packages (from matplotlib->gosdt) (2.8.2)\n",
      "Requirement already satisfied: six>=1.5 in /opt/conda/lib/python3.8/site-packages (from python-dateutil>=2.7->matplotlib->gosdt) (1.16.0)\n",
      "Requirement already satisfied: pytz>=2017.3 in /opt/conda/lib/python3.8/site-packages (from pandas->gosdt) (2022.6)\n",
      "Installing collected packages: editables, gosdt\n",
      "  Attempting uninstall: editables\n",
      "    Found existing installation: editables 0.3\n",
      "    Uninstalling editables-0.3:\n",
      "      Successfully uninstalled editables-0.3\n",
      "Successfully installed editables-0.2 gosdt-0.1.7\n"
     ]
    }
   ],
   "source": [
    "!pip3 install attrs packaging editables pandas sklearn sortedcontainers gmpy2 matplotlib\n",
    "!pip3 install gosdt"
   ]
  },
  {
   "cell_type": "code",
   "execution_count": 3,
   "id": "3a9300f2-e37a-4b4a-ae67-9d13382f308b",
   "metadata": {},
   "outputs": [
    {
     "name": "stdout",
     "output_type": "stream",
     "text": [
      "Traceback \u001b[1;36m(most recent call last)\u001b[0m:\n",
      "\u001b[1;36m  Input \u001b[1;32mIn [3]\u001b[1;36m in \u001b[1;35m<cell line: 6>\u001b[1;36m\u001b[0m\n",
      "\u001b[1;33m    from model.threshold_guess import compute_thresholds\u001b[0m\n",
      "\u001b[1;31mModuleNotFoundError\u001b[0m\u001b[1;31m:\u001b[0m No module named 'model'\n",
      "\n",
      "Use %tb to get the full traceback.\n"
     ]
    },
    {
     "data": {
      "text/html": [
       "\n",
       "<style>\n",
       ".button {\n",
       "  border: none;\n",
       "  color: white;\n",
       "  padding: 4px 8px;\n",
       "  text-align: center;\n",
       "  text-decoration: none;\n",
       "  display: inline-block;\n",
       "  font-size: 12px;\n",
       "  margin: 4px 2px;\n",
       "  transition-duration: 0.2s;\n",
       "  cursor: pointer;\n",
       "}\n",
       ".iqx-button {\n",
       "  background-color: #0f62fe; \n",
       "  color: white; \n",
       "}\n",
       ".iqx-button:hover {\n",
       "  background-color: #0043ce;\n",
       "  color: white;\n",
       "}\n",
       "</style>\n",
       "<a href=\"https://stackoverflow.com/search?q=ModuleNotFoundError: No module named 'model'\" target='_blank'><button class='button iqx-button'>Search for solution online</button></a>\n"
      ],
      "text/plain": [
       "<IPython.core.display.HTML object>"
      ]
     },
     "metadata": {},
     "output_type": "display_data"
    }
   ],
   "source": [
    "import pandas as pd\n",
    "import numpy as np\n",
    "import time\n",
    "import pathlib\n",
    "from sklearn.ensemble import GradientBoostingClassifier\n",
    "from model.threshold_guess import compute_thresholds\n",
    "from model.gosdt import GOSDT\n",
    "\n",
    "# read the dataset\n",
    "df = pd.read_csv(\"experiments/datasets/fico.csv\")\n",
    "X, y = df.iloc[:,:-1].values, df.iloc[:,-1].values\n",
    "h = df.columns[:-1]\n",
    "\n",
    "# GBDT parameters for threshold and lower bound guesses\n",
    "n_est = 40\n",
    "max_depth = 1\n",
    "\n",
    "# guess thresholds\n",
    "X = pd.DataFrame(X, columns=h)\n",
    "print(\"X:\", X.shape)\n",
    "print(\"y:\",y.shape)\n",
    "X_train, thresholds, header, threshold_guess_time = compute_thresholds(X, y, n_est, max_depth)\n",
    "y_train = pd.DataFrame(y)\n",
    "\n",
    "# guess lower bound\n",
    "start_time = time.perf_counter()\n",
    "clf = GradientBoostingClassifier(n_estimators=n_est, max_depth=max_depth, random_state=42)\n",
    "clf.fit(X_train, y_train.values.flatten())\n",
    "warm_labels = clf.predict(X_train)\n",
    "elapsed_time = time.perf_counter() - start_time\n",
    "lb_time = elapsed_time\n",
    "\n",
    "# save the labels from lower bound guesses as a tmp file and return the path to it.\n",
    "labelsdir = pathlib.Path('/tmp/warm_lb_labels')\n",
    "labelsdir.mkdir(exist_ok=True, parents=True)\n",
    "labelpath = labelsdir / 'warm_label.tmp'\n",
    "labelpath = str(labelpath)\n",
    "pd.DataFrame(warm_labels, columns=[\"class_labels\"]).to_csv(labelpath, header=\"class_labels\",index=None)\n",
    "\n",
    "\n",
    "# train GOSDT model\n",
    "config = {\n",
    "            \"regularization\": 0.001,\n",
    "            \"depth_budget\": 5,\n",
    "            \"warm_LB\": True,\n",
    "            \"path_to_labels\": labelpath,\n",
    "            \"time_limit\": 60,\n",
    "            \"similar_support\": False\n",
    "        }\n",
    "\n",
    "model = GOSDT(config)\n",
    "\n",
    "model.fit(X_train, y_train)\n",
    "\n",
    "print(\"evaluate the model, extracting tree and scores\", flush=True)\n",
    "\n",
    "# get the results\n",
    "train_acc = model.score(X_train, y_train)\n",
    "n_leaves = model.leaves()\n",
    "n_nodes = model.nodes()\n",
    "time = model.utime\n",
    "\n",
    "print(\"Model training time: {}\".format(time))\n",
    "print(\"Training accuracy: {}\".format(train_acc))\n",
    "print(\"# of leaves: {}\".format(n_leaves))\n",
    "print(model.tree)"
   ]
  },
  {
   "cell_type": "code",
   "execution_count": null,
   "id": "af191207-11e5-4d31-acdc-0d81f647b921",
   "metadata": {},
   "outputs": [],
   "source": []
  }
 ],
 "metadata": {
  "kernelspec": {
   "display_name": "Python 3 (ipykernel)",
   "language": "python",
   "name": "python3"
  },
  "language_info": {
   "codemirror_mode": {
    "name": "ipython",
    "version": 3
   },
   "file_extension": ".py",
   "mimetype": "text/x-python",
   "name": "python",
   "nbconvert_exporter": "python",
   "pygments_lexer": "ipython3",
   "version": "3.8.13"
  },
  "widgets": {
   "application/vnd.jupyter.widget-state+json": {
    "state": {
     "145c98fdc881416290ae56cb4c8d481f": {
      "model_module": "@jupyter-widgets/base",
      "model_module_version": "1.2.0",
      "model_name": "LayoutModel",
      "state": {
       "margin": "0px 0px 10px 0px"
      }
     },
     "24d6f149a5094f82bef2ca800b50c849": {
      "model_module": "@jupyter-widgets/controls",
      "model_module_version": "1.5.0",
      "model_name": "HTMLModel",
      "state": {
       "layout": "IPY_MODEL_e4ee272505f147368ce1f5db3dc82842",
       "style": "IPY_MODEL_88b9e8b4064f48ec8cd35543aea4520e",
       "value": "<h5>Job ID</h5>"
      }
     },
     "25fa9d1143304d64a471e81b5ee47b69": {
      "model_module": "@jupyter-widgets/base",
      "model_module_version": "1.2.0",
      "model_name": "LayoutModel",
      "state": {
       "width": "70px"
      }
     },
     "34f09fd4da494d4cbee3d061067ca437": {
      "model_module": "@jupyter-widgets/base",
      "model_module_version": "1.2.0",
      "model_name": "LayoutModel",
      "state": {}
     },
     "35b0ce31975d42a1ba96b225a1d96fd3": {
      "model_module": "@jupyter-widgets/controls",
      "model_module_version": "1.5.0",
      "model_name": "ButtonStyleModel",
      "state": {}
     },
     "3cee6723ac0245eaa62196907b126b10": {
      "model_module": "@jupyter-widgets/controls",
      "model_module_version": "1.5.0",
      "model_name": "DescriptionStyleModel",
      "state": {
       "description_width": ""
      }
     },
     "43b5700398d44902b3107a03a3f7f388": {
      "model_module": "@jupyter-widgets/controls",
      "model_module_version": "1.5.0",
      "model_name": "HTMLModel",
      "state": {
       "layout": "IPY_MODEL_cca6b3d6cfe543b8a88fa57326d574cc",
       "style": "IPY_MODEL_dc79a12a252b4666b06638dbbec18451",
       "value": "<h5>Status</h5>"
      }
     },
     "4fb51435705641e5b2ffd6cd3a516a55": {
      "model_module": "@jupyter-widgets/controls",
      "model_module_version": "1.5.0",
      "model_name": "HTMLModel",
      "state": {
       "layout": "IPY_MODEL_34f09fd4da494d4cbee3d061067ca437",
       "style": "IPY_MODEL_3cee6723ac0245eaa62196907b126b10",
       "value": "<h5>Message</h5>"
      }
     },
     "57ebc15792604bbc817b23ecbe2fcc0a": {
      "model_module": "@jupyter-widgets/controls",
      "model_module_version": "1.5.0",
      "model_name": "ButtonModel",
      "state": {
       "button_style": "primary",
       "description": "Clear",
       "layout": "IPY_MODEL_f5dd3f2ff8064bf58a144c2fff8878c4",
       "style": "IPY_MODEL_35b0ce31975d42a1ba96b225a1d96fd3"
      }
     },
     "5aa72bdacdfb4fdebf5e83d1dbc9cfac": {
      "model_module": "@jupyter-widgets/controls",
      "model_module_version": "1.5.0",
      "model_name": "HTMLModel",
      "state": {
       "layout": "IPY_MODEL_145c98fdc881416290ae56cb4c8d481f",
       "style": "IPY_MODEL_979ee209b5b1489ea5a3bf0f4f02fc57",
       "value": "<p style='font-family: IBM Plex Sans, Arial, Helvetica, sans-serif; font-size: 20px; font-weight: medium;'>Circuit Properties</p>"
      }
     },
     "61248e307b6b45c08573e781827eb5c6": {
      "model_module": "@jupyter-widgets/base",
      "model_module_version": "1.2.0",
      "model_name": "LayoutModel",
      "state": {
       "margin": "0px 0px 0px 37px",
       "width": "600px"
      }
     },
     "661f0e53bf5e45f5b1144f50b9f2323d": {
      "model_module": "@jupyter-widgets/controls",
      "model_module_version": "1.5.0",
      "model_name": "DescriptionStyleModel",
      "state": {
       "description_width": ""
      }
     },
     "78052da59def40d3bcc5ae6b42b7ed76": {
      "model_module": "@jupyter-widgets/controls",
      "model_module_version": "1.5.0",
      "model_name": "HBoxModel",
      "state": {
       "children": [
        "IPY_MODEL_24d6f149a5094f82bef2ca800b50c849",
        "IPY_MODEL_c370ec2c039042b283bcbbe8e1b0d68a",
        "IPY_MODEL_43b5700398d44902b3107a03a3f7f388",
        "IPY_MODEL_b061aa0aabb64341a232cc5f159359eb",
        "IPY_MODEL_4fb51435705641e5b2ffd6cd3a516a55"
       ],
       "layout": "IPY_MODEL_61248e307b6b45c08573e781827eb5c6"
      }
     },
     "88b9e8b4064f48ec8cd35543aea4520e": {
      "model_module": "@jupyter-widgets/controls",
      "model_module_version": "1.5.0",
      "model_name": "DescriptionStyleModel",
      "state": {
       "description_width": ""
      }
     },
     "979ee209b5b1489ea5a3bf0f4f02fc57": {
      "model_module": "@jupyter-widgets/controls",
      "model_module_version": "1.5.0",
      "model_name": "DescriptionStyleModel",
      "state": {
       "description_width": ""
      }
     },
     "a2f3329121ed48bb9b266423b16130f7": {
      "model_module": "@jupyter-widgets/base",
      "model_module_version": "1.2.0",
      "model_name": "LayoutModel",
      "state": {
       "grid_template_areas": "\n                                       \". . . . right \"\n                                        ",
       "grid_template_columns": "20% 20% 20% 20% 20%",
       "width": "100%"
      }
     },
     "b061aa0aabb64341a232cc5f159359eb": {
      "model_module": "@jupyter-widgets/controls",
      "model_module_version": "1.5.0",
      "model_name": "HTMLModel",
      "state": {
       "layout": "IPY_MODEL_25fa9d1143304d64a471e81b5ee47b69",
       "style": "IPY_MODEL_c06f1987c6024e2cb0b8b8e0d5bbe028",
       "value": "<h5>Queue</h5>"
      }
     },
     "c06f1987c6024e2cb0b8b8e0d5bbe028": {
      "model_module": "@jupyter-widgets/controls",
      "model_module_version": "1.5.0",
      "model_name": "DescriptionStyleModel",
      "state": {
       "description_width": ""
      }
     },
     "c370ec2c039042b283bcbbe8e1b0d68a": {
      "model_module": "@jupyter-widgets/controls",
      "model_module_version": "1.5.0",
      "model_name": "HTMLModel",
      "state": {
       "layout": "IPY_MODEL_eea398cb4f444554ae889f96eab542ad",
       "style": "IPY_MODEL_661f0e53bf5e45f5b1144f50b9f2323d",
       "value": "<h5>Backend</h5>"
      }
     },
     "cca6b3d6cfe543b8a88fa57326d574cc": {
      "model_module": "@jupyter-widgets/base",
      "model_module_version": "1.2.0",
      "model_name": "LayoutModel",
      "state": {
       "width": "95px"
      }
     },
     "dc79a12a252b4666b06638dbbec18451": {
      "model_module": "@jupyter-widgets/controls",
      "model_module_version": "1.5.0",
      "model_name": "DescriptionStyleModel",
      "state": {
       "description_width": ""
      }
     },
     "e4ee272505f147368ce1f5db3dc82842": {
      "model_module": "@jupyter-widgets/base",
      "model_module_version": "1.2.0",
      "model_name": "LayoutModel",
      "state": {
       "width": "190px"
      }
     },
     "ecd6048cd3d74dbea987fca89b134ab2": {
      "model_module": "@jupyter-widgets/controls",
      "model_module_version": "1.5.0",
      "model_name": "GridBoxModel",
      "state": {
       "children": [
        "IPY_MODEL_57ebc15792604bbc817b23ecbe2fcc0a"
       ],
       "layout": "IPY_MODEL_a2f3329121ed48bb9b266423b16130f7"
      }
     },
     "eea398cb4f444554ae889f96eab542ad": {
      "model_module": "@jupyter-widgets/base",
      "model_module_version": "1.2.0",
      "model_name": "LayoutModel",
      "state": {
       "width": "145px"
      }
     },
     "f5dd3f2ff8064bf58a144c2fff8878c4": {
      "model_module": "@jupyter-widgets/base",
      "model_module_version": "1.2.0",
      "model_name": "LayoutModel",
      "state": {
       "grid_area": "right",
       "padding": "0px 0px 0px 0px",
       "width": "70px"
      }
     }
    },
    "version_major": 2,
    "version_minor": 0
   }
  }
 },
 "nbformat": 4,
 "nbformat_minor": 5
}
