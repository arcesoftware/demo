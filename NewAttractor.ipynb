import turtle
import numpy as np
from math import atan2
from scipy.integrate import odeint

# Constants for the Lorenz-like system
rho = 43.5
sigma = 10.0
beta = 8.0 / 3.0
d0 = 19.0 / 3.0

# Scale factor and dynamic range
scale = 10
offset_x, offset_y = 0, 0  # To center the plot dynamically

# Define the system of equations
def f(state, t):
    x, y, z, y1, z1 = state  # Unpack the state vector
    return (
        sigma * (y - x),
        x * (rho - z) - y,
        x * y - x * y1 - beta * z,
        x * z - 2 * x * z1 - d0 * y1,
        2 * x * y1 - 4 * beta * z1
    )

# Initial conditions and time range
state0 = [1.0, 1.0, 1.0, 1.0, 1.0]
t = np.arange(0.0, 40.0, 0.01)

# Solve the differential equations
states = odeint(f, state0, t)

# Get bounds for dynamic scaling
x_vals, z_vals = states[:, 0], states[:, 2]
offset_x, offset_y = np.mean(x_vals), np.mean(z_vals)
max_range = max(np.max(np.abs(x_vals)), np.max(np.abs(z_vals)))
scale = 400 / max_range  # Scale to fit the screen

# Initialize Turtle
turtle.screensize(canvwidth=7680, canvheight=4800, bg="black")
t = turtle.Turtle()
t.hideturtle()
t.speed("fastest")
t.pensize(1)
t.radians()
t.pendown()

# Create a color gradient
colors = plt.cm.plasma(np.linspace(0, 1, len(states)))  # Use a color map from Matplotlib

# Draw the Lorenz attractor
for i, (x, y, z, y1, z1) in enumerate(states):
    t.setpos((x - offset_x) * scale, (z - offset_y) * scale)
    t.setheading(atan2(z1, y1))
    t.pencolor(colors[i][0], colors[i][1], colors[i][2])  # Set gradient color

# Display title
turtle.title("Lorenz Attractor Visualization with Turtle")

# Keep the window open until closed
turtle.done()
